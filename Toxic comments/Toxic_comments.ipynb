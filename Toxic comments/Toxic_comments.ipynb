{
 "cells": [
  {
   "cell_type": "markdown",
   "metadata": {},
   "source": [
    "# Проект для «Викишоп»"
   ]
  },
  {
   "cell_type": "markdown",
   "metadata": {},
   "source": [
    "Интернет-магазин «Викишоп» запускает новый сервис. Теперь пользователи могут редактировать и дополнять описания товаров, как в вики-сообществах. То есть клиенты предлагают свои правки и комментируют изменения других. Магазину нужен инструмент, который будет искать токсичные комментарии и отправлять их на модерацию. \n",
    "\n",
    "Обучите модель классифицировать комментарии на позитивные и негативные. В вашем распоряжении набор данных с разметкой о токсичности правок.\n",
    "\n",
    "Постройте модель со значением метрики качества *F1* не меньше 0.75. \n",
    "\n",
    "**Инструкция по выполнению проекта**\n",
    "\n",
    "1. Загрузите и подготовьте данные.\n",
    "2. Обучите разные модели. \n",
    "3. Сделайте выводы.\n",
    "\n",
    "Для выполнения проекта применять *BERT* необязательно, но вы можете попробовать.\n",
    "\n",
    "**Описание данных**\n",
    "\n",
    "Данные находятся в файле `toxic_comments.csv`. Столбец *text* в нём содержит текст комментария, а *toxic* — целевой признак."
   ]
  },
  {
   "cell_type": "code",
   "execution_count": 1,
   "metadata": {},
   "outputs": [],
   "source": [
    "!pip install spacy -q"
   ]
  },
  {
   "cell_type": "code",
   "execution_count": 2,
   "metadata": {},
   "outputs": [],
   "source": [
    "import math\n",
    "import re\n",
    "import csv\n",
    "import warnings\n",
    "\n",
    "import pandas as pd\n",
    "import numpy as np\n",
    "# import spacy\n",
    "from nltk import pos_tag\n",
    "from nltk.stem import WordNetLemmatizer\n",
    "from nltk.tokenize import word_tokenize\n",
    "import nltk\n",
    "from sklearn.feature_extraction.text import TfidfVectorizer\n",
    "from sklearn.model_selection import train_test_split, RandomizedSearchCV\n",
    "from sklearn.pipeline import Pipeline\n",
    "from sklearn.tree import DecisionTreeClassifier\n",
    "from sklearn.linear_model import LogisticRegression\n",
    "from sklearn.neighbors import KNeighborsClassifier\n",
    "from sklearn.ensemble import RandomForestClassifier\n",
    "from sklearn.metrics import f1_score\n",
    "from sklearn.naive_bayes import ComplementNB"
   ]
  },
  {
   "cell_type": "code",
   "execution_count": 3,
   "metadata": {
    "scrolled": false
   },
   "outputs": [
    {
     "name": "stderr",
     "output_type": "stream",
     "text": [
      "[nltk_data] Downloading package averaged_perceptron_tagger to\n",
      "[nltk_data]     /home/jovyan/nltk_data...\n",
      "[nltk_data]   Package averaged_perceptron_tagger is already up-to-\n",
      "[nltk_data]       date!\n",
      "[nltk_data] Downloading package wordnet to /home/jovyan/nltk_data...\n",
      "[nltk_data]   Package wordnet is already up-to-date!\n"
     ]
    },
    {
     "data": {
      "text/plain": [
       "True"
      ]
     },
     "execution_count": 3,
     "metadata": {},
     "output_type": "execute_result"
    }
   ],
   "source": [
    "pd.options.mode.chained_assignment = None\n",
    "warnings.filterwarnings('ignore')\n",
    "\n",
    "nltk.download('averaged_perceptron_tagger')\n",
    "nltk.download('wordnet')"
   ]
  },
  {
   "cell_type": "code",
   "execution_count": 4,
   "metadata": {},
   "outputs": [],
   "source": [
    "RANDOM_STATE = 1\n",
    "TEST_SIZE = 0.1"
   ]
  },
  {
   "cell_type": "markdown",
   "metadata": {},
   "source": [
    "## Подготовка"
   ]
  },
  {
   "cell_type": "code",
   "execution_count": 15,
   "metadata": {},
   "outputs": [],
   "source": [
    "def penn2morphy(penntag):\n",
    "    \"\"\" Converts Penn Treebank tags to WordNet. \"\"\"\n",
    "    morphy_tag = {'NN':'n', 'JJ':'a',\n",
    "                  'VB':'v', 'RB':'r'}\n",
    "    try:\n",
    "        return morphy_tag[penntag[:2]]\n",
    "    except:\n",
    "        return 'n' "
   ]
  },
  {
   "cell_type": "code",
   "execution_count": 16,
   "metadata": {},
   "outputs": [],
   "source": [
    "def lemmatize_sent(text): \n",
    "    # Text input is string, returns lowercased strings.\n",
    "    return [wnl.lemmatize(word.lower(), pos=penn2morphy(tag)) \n",
    "            for word, tag in pos_tag(word_tokenize(text))]"
   ]
  },
  {
   "cell_type": "markdown",
   "metadata": {},
   "source": [
    "<hr>\n",
    "\n",
    "Загрузим данные.\n",
    "\n",
    "<hr>"
   ]
  },
  {
   "cell_type": "code",
   "execution_count": 5,
   "metadata": {},
   "outputs": [],
   "source": [
    "data = pd.read_csv('/datasets/toxic_comments.csv')"
   ]
  },
  {
   "cell_type": "code",
   "execution_count": 6,
   "metadata": {},
   "outputs": [],
   "source": [
    "data = data[data.columns.drop('Unnamed: 0')].reset_index(drop=True)"
   ]
  },
  {
   "cell_type": "code",
   "execution_count": 7,
   "metadata": {},
   "outputs": [
    {
     "data": {
      "text/html": [
       "<div>\n",
       "<style scoped>\n",
       "    .dataframe tbody tr th:only-of-type {\n",
       "        vertical-align: middle;\n",
       "    }\n",
       "\n",
       "    .dataframe tbody tr th {\n",
       "        vertical-align: top;\n",
       "    }\n",
       "\n",
       "    .dataframe thead th {\n",
       "        text-align: right;\n",
       "    }\n",
       "</style>\n",
       "<table border=\"1\" class=\"dataframe\">\n",
       "  <thead>\n",
       "    <tr style=\"text-align: right;\">\n",
       "      <th></th>\n",
       "      <th>text</th>\n",
       "      <th>toxic</th>\n",
       "    </tr>\n",
       "  </thead>\n",
       "  <tbody>\n",
       "    <tr>\n",
       "      <th>0</th>\n",
       "      <td>Explanation\\nWhy the edits made under my usern...</td>\n",
       "      <td>0</td>\n",
       "    </tr>\n",
       "    <tr>\n",
       "      <th>1</th>\n",
       "      <td>D'aww! He matches this background colour I'm s...</td>\n",
       "      <td>0</td>\n",
       "    </tr>\n",
       "    <tr>\n",
       "      <th>2</th>\n",
       "      <td>Hey man, I'm really not trying to edit war. It...</td>\n",
       "      <td>0</td>\n",
       "    </tr>\n",
       "    <tr>\n",
       "      <th>3</th>\n",
       "      <td>\"\\nMore\\nI can't make any real suggestions on ...</td>\n",
       "      <td>0</td>\n",
       "    </tr>\n",
       "    <tr>\n",
       "      <th>4</th>\n",
       "      <td>You, sir, are my hero. Any chance you remember...</td>\n",
       "      <td>0</td>\n",
       "    </tr>\n",
       "  </tbody>\n",
       "</table>\n",
       "</div>"
      ],
      "text/plain": [
       "                                                text  toxic\n",
       "0  Explanation\\nWhy the edits made under my usern...      0\n",
       "1  D'aww! He matches this background colour I'm s...      0\n",
       "2  Hey man, I'm really not trying to edit war. It...      0\n",
       "3  \"\\nMore\\nI can't make any real suggestions on ...      0\n",
       "4  You, sir, are my hero. Any chance you remember...      0"
      ]
     },
     "metadata": {},
     "output_type": "display_data"
    },
    {
     "name": "stdout",
     "output_type": "stream",
     "text": [
      "<class 'pandas.core.frame.DataFrame'>\n",
      "RangeIndex: 159292 entries, 0 to 159291\n",
      "Data columns (total 2 columns):\n",
      " #   Column  Non-Null Count   Dtype \n",
      "---  ------  --------------   ----- \n",
      " 0   text    159292 non-null  object\n",
      " 1   toxic   159292 non-null  int64 \n",
      "dtypes: int64(1), object(1)\n",
      "memory usage: 2.4+ MB\n"
     ]
    }
   ],
   "source": [
    "display(data.head())\n",
    "data.info()"
   ]
  },
  {
   "cell_type": "markdown",
   "metadata": {},
   "source": [
    "<hr>\n",
    "\n",
    "Посмотрим, есть ли дублирующиеся комментарии.\n",
    "\n",
    "<hr>"
   ]
  },
  {
   "cell_type": "code",
   "execution_count": 8,
   "metadata": {},
   "outputs": [
    {
     "data": {
      "text/plain": [
       "0"
      ]
     },
     "execution_count": 8,
     "metadata": {},
     "output_type": "execute_result"
    }
   ],
   "source": [
    "data.duplicated('text').sum()"
   ]
  },
  {
   "cell_type": "code",
   "execution_count": 9,
   "metadata": {},
   "outputs": [
    {
     "name": "stdout",
     "output_type": "stream",
     "text": [
      "Процент токсичных комментариев: 10.2%\n"
     ]
    }
   ],
   "source": [
    "print(f'Процент токсичных комментариев: {data[\"toxic\"].sum() / data.shape[0] * 100:.1f}%')"
   ]
  },
  {
   "cell_type": "markdown",
   "metadata": {},
   "source": [
    "<hr>\n",
    "\n",
    "В выборке присутствует дисбаланс классов, учтем это при разбиении на обучающую и тестовую выборки.\n",
    "\n",
    "Лемматизируем тексты комментариев, а после разделим данные на обучающую и тестовую выборки. Далее рассчитаем TF-IDF для выборок.\n",
    "\n",
    "<hr>"
   ]
  },
  {
   "cell_type": "code",
   "execution_count": 10,
   "metadata": {},
   "outputs": [],
   "source": [
    "data['text'] = data['text'].str.lower()\n",
    "data['text'] = data['text'].str.replace(\"[^a-zA-Z']\", ' ')"
   ]
  },
  {
   "cell_type": "code",
   "execution_count": 11,
   "metadata": {},
   "outputs": [],
   "source": [
    "# lemmatizer = WordNetLemmatizer()"
   ]
  },
  {
   "cell_type": "code",
   "execution_count": 12,
   "metadata": {},
   "outputs": [],
   "source": [
    "# %%time\n",
    "\n",
    "# data['lemmas'] = data['text'].apply(lambda line:\n",
    "#                                     ' '.join(lemmatizer.lemmatize(word) for word in word_tokenize(line)))"
   ]
  },
  {
   "cell_type": "code",
   "execution_count": 13,
   "metadata": {},
   "outputs": [],
   "source": [
    "# nlp = spacy.load('en_core_web_sm', disable=['parser', 'ner'])"
   ]
  },
  {
   "cell_type": "code",
   "execution_count": 14,
   "metadata": {},
   "outputs": [],
   "source": [
    "# %%time\n",
    "\n",
    "# data['lemmas'] = data['text'].apply(lambda comment:\n",
    "#                                     \" \".join([token.lemma_ for token in nlp(comment)]))"
   ]
  },
  {
   "cell_type": "code",
   "execution_count": 17,
   "metadata": {},
   "outputs": [],
   "source": [
    "wnl = WordNetLemmatizer()"
   ]
  },
  {
   "cell_type": "code",
   "execution_count": 18,
   "metadata": {},
   "outputs": [
    {
     "name": "stdout",
     "output_type": "stream",
     "text": [
      "CPU times: user 9min 11s, sys: 3.55 s, total: 9min 15s\n",
      "Wall time: 9min 15s\n"
     ]
    }
   ],
   "source": [
    "%%time\n",
    "\n",
    "data['lemmas'] = data['text'].apply(lambda comment:\n",
    "                                    \" \".join(lemmatize_sent(comment)))"
   ]
  },
  {
   "cell_type": "code",
   "execution_count": 19,
   "metadata": {},
   "outputs": [
    {
     "data": {
      "text/html": [
       "<div>\n",
       "<style scoped>\n",
       "    .dataframe tbody tr th:only-of-type {\n",
       "        vertical-align: middle;\n",
       "    }\n",
       "\n",
       "    .dataframe tbody tr th {\n",
       "        vertical-align: top;\n",
       "    }\n",
       "\n",
       "    .dataframe thead th {\n",
       "        text-align: right;\n",
       "    }\n",
       "</style>\n",
       "<table border=\"1\" class=\"dataframe\">\n",
       "  <thead>\n",
       "    <tr style=\"text-align: right;\">\n",
       "      <th></th>\n",
       "      <th>text</th>\n",
       "      <th>toxic</th>\n",
       "      <th>lemmas</th>\n",
       "    </tr>\n",
       "  </thead>\n",
       "  <tbody>\n",
       "    <tr>\n",
       "      <th>0</th>\n",
       "      <td>explanation why the edits made under my userna...</td>\n",
       "      <td>0</td>\n",
       "      <td>explanation why the edits make under my userna...</td>\n",
       "    </tr>\n",
       "    <tr>\n",
       "      <th>1</th>\n",
       "      <td>d'aww  he matches this background colour i'm s...</td>\n",
       "      <td>0</td>\n",
       "      <td>d'aww he match this background colour i 'm see...</td>\n",
       "    </tr>\n",
       "    <tr>\n",
       "      <th>2</th>\n",
       "      <td>hey man  i'm really not trying to edit war  it...</td>\n",
       "      <td>0</td>\n",
       "      <td>hey man i 'm really not try to edit war it 's ...</td>\n",
       "    </tr>\n",
       "    <tr>\n",
       "      <th>3</th>\n",
       "      <td>more i can't make any real suggestions on im...</td>\n",
       "      <td>0</td>\n",
       "      <td>more i ca n't make any real suggestion on impr...</td>\n",
       "    </tr>\n",
       "    <tr>\n",
       "      <th>4</th>\n",
       "      <td>you  sir  are my hero  any chance you remember...</td>\n",
       "      <td>0</td>\n",
       "      <td>you sir be my hero any chance you remember wha...</td>\n",
       "    </tr>\n",
       "  </tbody>\n",
       "</table>\n",
       "</div>"
      ],
      "text/plain": [
       "                                                text  toxic  \\\n",
       "0  explanation why the edits made under my userna...      0   \n",
       "1  d'aww  he matches this background colour i'm s...      0   \n",
       "2  hey man  i'm really not trying to edit war  it...      0   \n",
       "3    more i can't make any real suggestions on im...      0   \n",
       "4  you  sir  are my hero  any chance you remember...      0   \n",
       "\n",
       "                                              lemmas  \n",
       "0  explanation why the edits make under my userna...  \n",
       "1  d'aww he match this background colour i 'm see...  \n",
       "2  hey man i 'm really not try to edit war it 's ...  \n",
       "3  more i ca n't make any real suggestion on impr...  \n",
       "4  you sir be my hero any chance you remember wha...  "
      ]
     },
     "execution_count": 19,
     "metadata": {},
     "output_type": "execute_result"
    }
   ],
   "source": [
    "data.head()"
   ]
  },
  {
   "cell_type": "code",
   "execution_count": 20,
   "metadata": {},
   "outputs": [],
   "source": [
    "X_train, X_test, y_train, y_test = train_test_split(data['lemmas'], \n",
    "                                                    data['toxic'], \n",
    "                                                    random_state=RANDOM_STATE, \n",
    "                                                    test_size=TEST_SIZE, \n",
    "                                                    stratify=data['toxic'])"
   ]
  },
  {
   "cell_type": "code",
   "execution_count": 21,
   "metadata": {},
   "outputs": [],
   "source": [
    "tf_idf = TfidfVectorizer(stop_words='english', lowercase=False)"
   ]
  },
  {
   "cell_type": "code",
   "execution_count": 22,
   "metadata": {},
   "outputs": [],
   "source": [
    "X_train_emb = tf_idf.fit_transform(X_train)\n",
    "X_test_emb = tf_idf.transform(X_test)"
   ]
  },
  {
   "cell_type": "markdown",
   "metadata": {},
   "source": [
    "<hr>\n",
    "<font size=4.5><b>Итоги раздела:</b></font>\n",
    "\n",
    "<p style='text-align: justify;'>В данном разделе были загружены данные. В полученном фрейме содержится <i>159 292</i> строк и <i>2</i> столбца с комментарием и целевым признаком \"токсичность\", принимающим значение 1 - если комментарий токсичный, или 0 - если нет. Дублирующихся комментариев в данных нет, присутствует дисбаланс классов, соотношение токсичных комментариев к нетоксичным 1 к 9.<br><br>Данные были лемматизированы, после чего выделены и стратифицированны тренировочная и тестовая выборки и рассчитанны <i>TF-IDF</i></p>\n",
    "\n",
    "\n",
    "<hr>"
   ]
  },
  {
   "cell_type": "markdown",
   "metadata": {},
   "source": [
    "## Обучение"
   ]
  },
  {
   "cell_type": "markdown",
   "metadata": {},
   "source": [
    "<hr>\n",
    "\n",
    "Соберем пайплайн, а также определим наборы гиперпараметров для поиска лучших при кросс-валидации, для поиска будем использоать <i>RandomizedSearchCV</i>. Далее обучим модель, в качестве метрики будем использовать <i>f1</i>.\n",
    "\n",
    "<hr>"
   ]
  },
  {
   "cell_type": "code",
   "execution_count": 23,
   "metadata": {},
   "outputs": [],
   "source": [
    "pipe_final = Pipeline([('models', None)])\n",
    "\n",
    "# params = [{\n",
    "#              'models':[DecisionTreeClassifier(random_state=RANDOM_STATE)],\n",
    "#              'models__max_depth':range(2, 50), \n",
    "#              'models__min_samples_split':range(2, 30)\n",
    "#           }, \n",
    "#           {\n",
    "#               'models':[KNeighborsClassifier()],\n",
    "#               'models__n_neighbors':range(3, 30)\n",
    "#           },\n",
    "#           {\n",
    "#               'models':[LogisticRegression(random_state=RANDOM_STATE, \n",
    "#                                            solver='liblinear', \n",
    "#                                            penalty='l1')],\n",
    "#               'models__C':np.arange(0.5, 8, 0.5)\n",
    "#           }]\n",
    "\n",
    "params = {'models':[LogisticRegression(random_state=RANDOM_STATE, \n",
    "                                       solver='liblinear', \n",
    "                                       penalty='l1')],\n",
    "          'models__C':np.arange(0.1, 10, 0.2)}"
   ]
  },
  {
   "cell_type": "code",
   "execution_count": 24,
   "metadata": {},
   "outputs": [],
   "source": [
    "rsearch_cv = RandomizedSearchCV(pipe_final, \n",
    "                                params, \n",
    "                                cv=5, \n",
    "                                scoring='f1', \n",
    "                                random_state=RANDOM_STATE, \n",
    "                                n_jobs=-1, \n",
    "                                n_iter=10,\n",
    "                                verbose=0)"
   ]
  },
  {
   "cell_type": "code",
   "execution_count": 25,
   "metadata": {
    "scrolled": true
   },
   "outputs": [
    {
     "name": "stdout",
     "output_type": "stream",
     "text": [
      "CPU times: user 1min 58s, sys: 4.37 s, total: 2min 2s\n",
      "Wall time: 2min 2s\n"
     ]
    }
   ],
   "source": [
    "%%time\n",
    "\n",
    "_ = rsearch_cv.fit(X_train_emb, y_train);"
   ]
  },
  {
   "cell_type": "code",
   "execution_count": 26,
   "metadata": {},
   "outputs": [
    {
     "name": "stdout",
     "output_type": "stream",
     "text": [
      "Лучшая метрика f1 при валидации: 0.77\n"
     ]
    }
   ],
   "source": [
    "print(f'Лучшая метрика f1 при валидации: {rsearch_cv.best_score_:.2f}')"
   ]
  },
  {
   "cell_type": "code",
   "execution_count": 27,
   "metadata": {},
   "outputs": [
    {
     "name": "stdout",
     "output_type": "stream",
     "text": [
      "Метрика f1 на тестовых данных: 0.78\n"
     ]
    }
   ],
   "source": [
    "predictions = rsearch_cv.predict(X_test_emb)\n",
    "print(f'Метрика f1 на тестовых данных: {f1_score(predictions, y_test):.2f}')"
   ]
  },
  {
   "cell_type": "markdown",
   "metadata": {},
   "source": [
    "<hr>\n",
    "<font size=4.5><b>Итоги раздела:</b></font>\n",
    "\n",
    "<p style='text-align: justify;'>В данном разделе была обучена модель логистической регрессии. При обучении использовалась кросс-валидация и <i>RandomizedSearchCV</i> для поиска лучших гиперпараметров.<br>В качестве метрики использовалась <i>f1</i>. При валидации лучшая метрика получилась равной 0.77, на тестовых данных - 0.78, метрики получились близкими, значит модель не переобучилась.</p>\n",
    "\n",
    "\n",
    "<hr>"
   ]
  },
  {
   "cell_type": "markdown",
   "metadata": {},
   "source": [
    "## Выводы"
   ]
  },
  {
   "cell_type": "markdown",
   "metadata": {},
   "source": [
    "<p style='text-align: justify;'>В данной работе была обучена модель для классификации комментариев на позитивные и негативные для интернет-магазина «Викишоп».</p>\n",
    "\n",
    "<p style='text-align: justify;'>Сначала были загружены данные. В полученном фрейме содержится <i>159 292</i> строк и <i>2</i> столбца с комментарием и целевым признаком \"токсичность\", принимающим значение 1 - если комментарий токсичный, или 0 - если нет. Дублирующихся комментариев в данных нет, присутствует дисбаланс классов, соотношение токсичных комментариев к нетоксичным 1 к 9.<br><br>Данные были лемматизированы, после чего выделены и стратифицированны тренировочная и тестовая выборки и рассчитанны <i>TF-IDF</i></p>\n",
    "\n",
    "<p style='text-align: justify;'>После чего была обучена модель логистической регрессии. При обучении использовалась кросс-валидация и <i>RandomizedSearchCV</i> для поиска лучших гиперпараметров.<br>В качестве метрики использовалась <i>f1</i>. При валидации лучшая метрика получилась равной 0.77, на тестовых данных - 0.78, метрики получились близкими, значит модель не переобучилась.</p>"
   ]
  }
 ],
 "metadata": {
  "ExecuteTimeLog": [
   {
    "duration": 426,
    "start_time": "2024-08-19T08:48:23.057Z"
   },
   {
    "duration": 3,
    "start_time": "2024-08-19T08:48:23.485Z"
   },
   {
    "duration": 2,
    "start_time": "2024-08-19T08:48:23.686Z"
   },
   {
    "duration": 94,
    "start_time": "2024-08-19T10:09:45.632Z"
   },
   {
    "duration": 1325,
    "start_time": "2024-08-19T10:10:00.266Z"
   },
   {
    "duration": 18,
    "start_time": "2024-08-19T10:10:06.386Z"
   },
   {
    "duration": 880,
    "start_time": "2024-08-19T10:10:54.156Z"
   },
   {
    "duration": 14,
    "start_time": "2024-08-19T10:10:55.038Z"
   },
   {
    "duration": 12,
    "start_time": "2024-08-19T10:11:29.104Z"
   },
   {
    "duration": 9,
    "start_time": "2024-08-19T10:11:32.937Z"
   },
   {
    "duration": 9,
    "start_time": "2024-08-19T10:11:40.784Z"
   },
   {
    "duration": 450,
    "start_time": "2024-08-19T10:11:44.947Z"
   },
   {
    "duration": 3,
    "start_time": "2024-08-19T10:11:45.399Z"
   },
   {
    "duration": 24,
    "start_time": "2024-08-19T10:11:45.404Z"
   },
   {
    "duration": 1016,
    "start_time": "2024-08-19T10:11:45.430Z"
   },
   {
    "duration": 17,
    "start_time": "2024-08-19T10:11:46.449Z"
   },
   {
    "duration": 10,
    "start_time": "2024-08-19T10:11:46.468Z"
   },
   {
    "duration": 35,
    "start_time": "2024-08-19T10:11:46.479Z"
   },
   {
    "duration": 66,
    "start_time": "2024-08-19T10:12:17.856Z"
   },
   {
    "duration": 399,
    "start_time": "2024-08-19T10:12:28.852Z"
   },
   {
    "duration": 2,
    "start_time": "2024-08-19T10:12:29.253Z"
   },
   {
    "duration": 4,
    "start_time": "2024-08-19T10:12:29.257Z"
   },
   {
    "duration": 917,
    "start_time": "2024-08-19T10:12:29.262Z"
   },
   {
    "duration": 19,
    "start_time": "2024-08-19T10:12:30.181Z"
   },
   {
    "duration": 31,
    "start_time": "2024-08-19T10:12:30.201Z"
   },
   {
    "duration": 37,
    "start_time": "2024-08-19T10:13:04.079Z"
   },
   {
    "duration": 229,
    "start_time": "2024-08-19T10:14:10.159Z"
   },
   {
    "duration": 187,
    "start_time": "2024-08-19T10:14:16.334Z"
   },
   {
    "duration": 180,
    "start_time": "2024-08-19T10:35:21.615Z"
   },
   {
    "duration": 71,
    "start_time": "2024-08-19T10:38:52.796Z"
   },
   {
    "duration": 88,
    "start_time": "2024-08-19T10:39:09.756Z"
   },
   {
    "duration": 3805,
    "start_time": "2024-08-19T10:39:21.419Z"
   },
   {
    "duration": 4,
    "start_time": "2024-08-19T10:39:35.604Z"
   },
   {
    "duration": 4,
    "start_time": "2024-08-19T10:40:15.827Z"
   },
   {
    "duration": 4,
    "start_time": "2024-08-19T10:40:33.242Z"
   },
   {
    "duration": 4,
    "start_time": "2024-08-19T10:40:44.259Z"
   },
   {
    "duration": 4,
    "start_time": "2024-08-19T10:41:11.043Z"
   },
   {
    "duration": 976,
    "start_time": "2024-08-19T10:55:02.384Z"
   },
   {
    "duration": 287,
    "start_time": "2024-08-19T10:55:17.144Z"
   },
   {
    "duration": 133,
    "start_time": "2024-08-19T10:56:40.815Z"
   },
   {
    "duration": 11,
    "start_time": "2024-08-19T10:57:03.286Z"
   },
   {
    "duration": 314,
    "start_time": "2024-08-19T10:57:23.847Z"
   },
   {
    "duration": 3,
    "start_time": "2024-08-19T10:59:23.077Z"
   },
   {
    "duration": 302,
    "start_time": "2024-08-19T10:59:27.389Z"
   },
   {
    "duration": 291,
    "start_time": "2024-08-19T10:59:32.821Z"
   },
   {
    "duration": 4,
    "start_time": "2024-08-19T10:59:48.052Z"
   },
   {
    "duration": 311,
    "start_time": "2024-08-19T10:59:51.405Z"
   },
   {
    "duration": 2,
    "start_time": "2024-08-19T10:59:57.269Z"
   },
   {
    "duration": 7379,
    "start_time": "2024-08-19T10:59:57.716Z"
   },
   {
    "duration": 126602,
    "start_time": "2024-08-19T11:00:06.564Z"
   },
   {
    "duration": 8,
    "start_time": "2024-08-19T11:16:39.689Z"
   },
   {
    "duration": 4,
    "start_time": "2024-08-19T11:17:05.241Z"
   },
   {
    "duration": 14,
    "start_time": "2024-08-19T11:17:10.953Z"
   },
   {
    "duration": 86,
    "start_time": "2024-08-19T11:17:16.296Z"
   },
   {
    "duration": 7,
    "start_time": "2024-08-19T11:17:27.593Z"
   },
   {
    "duration": 5,
    "start_time": "2024-08-19T11:17:43.440Z"
   },
   {
    "duration": 5,
    "start_time": "2024-08-19T11:17:48.832Z"
   },
   {
    "duration": 4,
    "start_time": "2024-08-19T11:17:56.360Z"
   },
   {
    "duration": 11,
    "start_time": "2024-08-19T11:33:00.717Z"
   },
   {
    "duration": 10,
    "start_time": "2024-08-19T11:33:18.469Z"
   },
   {
    "duration": 11,
    "start_time": "2024-08-19T11:36:33.371Z"
   },
   {
    "duration": 10,
    "start_time": "2024-08-19T11:36:49.457Z"
   },
   {
    "duration": 10,
    "start_time": "2024-08-19T11:36:56.450Z"
   },
   {
    "duration": 4,
    "start_time": "2024-08-19T11:36:58.841Z"
   },
   {
    "duration": 7,
    "start_time": "2024-08-19T11:37:18.618Z"
   },
   {
    "duration": 3,
    "start_time": "2024-08-19T11:42:11.862Z"
   },
   {
    "duration": 7,
    "start_time": "2024-08-19T11:42:31.230Z"
   },
   {
    "duration": 13,
    "start_time": "2024-08-19T11:43:01.414Z"
   },
   {
    "duration": 2,
    "start_time": "2024-08-19T11:43:59.965Z"
   },
   {
    "duration": 2,
    "start_time": "2024-08-19T11:44:29.973Z"
   },
   {
    "duration": 13,
    "start_time": "2024-08-19T11:44:30.941Z"
   },
   {
    "duration": 305,
    "start_time": "2024-08-19T11:46:53.291Z"
   },
   {
    "duration": 2,
    "start_time": "2024-08-19T11:46:54.163Z"
   },
   {
    "duration": 1396,
    "start_time": "2024-08-19T11:48:41.865Z"
   },
   {
    "duration": 0,
    "start_time": "2024-08-19T11:48:43.263Z"
   },
   {
    "duration": 0,
    "start_time": "2024-08-19T11:48:43.264Z"
   },
   {
    "duration": 0,
    "start_time": "2024-08-19T11:48:43.265Z"
   },
   {
    "duration": 0,
    "start_time": "2024-08-19T11:48:43.266Z"
   },
   {
    "duration": 0,
    "start_time": "2024-08-19T11:48:43.267Z"
   },
   {
    "duration": 0,
    "start_time": "2024-08-19T11:48:43.268Z"
   },
   {
    "duration": 0,
    "start_time": "2024-08-19T11:48:43.269Z"
   },
   {
    "duration": 0,
    "start_time": "2024-08-19T11:48:43.270Z"
   },
   {
    "duration": 0,
    "start_time": "2024-08-19T11:48:43.272Z"
   },
   {
    "duration": 0,
    "start_time": "2024-08-19T11:48:43.273Z"
   },
   {
    "duration": 0,
    "start_time": "2024-08-19T11:48:43.274Z"
   },
   {
    "duration": 0,
    "start_time": "2024-08-19T11:48:43.275Z"
   },
   {
    "duration": 0,
    "start_time": "2024-08-19T11:48:43.276Z"
   },
   {
    "duration": 4935,
    "start_time": "2024-08-19T11:49:18.090Z"
   },
   {
    "duration": 39,
    "start_time": "2024-08-19T11:49:23.028Z"
   },
   {
    "duration": 2,
    "start_time": "2024-08-19T11:49:23.947Z"
   },
   {
    "duration": 279,
    "start_time": "2024-08-19T11:49:24.305Z"
   },
   {
    "duration": 7,
    "start_time": "2024-08-19T11:49:34.889Z"
   },
   {
    "duration": 7,
    "start_time": "2024-08-19T11:49:38.496Z"
   },
   {
    "duration": 6,
    "start_time": "2024-08-19T11:49:56.185Z"
   },
   {
    "duration": 6,
    "start_time": "2024-08-19T11:50:04.024Z"
   },
   {
    "duration": 2315,
    "start_time": "2024-08-19T11:50:07.685Z"
   },
   {
    "duration": 1255,
    "start_time": "2024-08-19T11:50:10.002Z"
   },
   {
    "duration": 3,
    "start_time": "2024-08-19T11:50:11.258Z"
   },
   {
    "duration": 180,
    "start_time": "2024-08-19T11:50:11.262Z"
   },
   {
    "duration": 891,
    "start_time": "2024-08-19T11:50:11.444Z"
   },
   {
    "duration": 20,
    "start_time": "2024-08-19T11:50:12.337Z"
   },
   {
    "duration": 42,
    "start_time": "2024-08-19T11:50:12.358Z"
   },
   {
    "duration": 219,
    "start_time": "2024-08-19T11:50:12.402Z"
   },
   {
    "duration": 3,
    "start_time": "2024-08-19T11:50:12.623Z"
   },
   {
    "duration": 295,
    "start_time": "2024-08-19T11:50:12.627Z"
   },
   {
    "duration": 3,
    "start_time": "2024-08-19T11:50:12.923Z"
   },
   {
    "duration": 255724,
    "start_time": "2024-08-19T11:50:12.927Z"
   },
   {
    "duration": 0,
    "start_time": "2024-08-19T11:54:28.654Z"
   },
   {
    "duration": 0,
    "start_time": "2024-08-19T11:54:28.655Z"
   },
   {
    "duration": 0,
    "start_time": "2024-08-19T11:54:28.656Z"
   },
   {
    "duration": 800,
    "start_time": "2024-08-19T11:54:53.414Z"
   },
   {
    "duration": 2370,
    "start_time": "2024-08-19T11:55:16.743Z"
   },
   {
    "duration": 790,
    "start_time": "2024-08-19T11:55:19.116Z"
   },
   {
    "duration": 1410,
    "start_time": "2024-08-19T11:55:19.909Z"
   },
   {
    "duration": 2,
    "start_time": "2024-08-19T11:55:21.321Z"
   },
   {
    "duration": 336,
    "start_time": "2024-08-19T11:55:21.325Z"
   },
   {
    "duration": 1280,
    "start_time": "2024-08-19T11:55:21.663Z"
   },
   {
    "duration": 18,
    "start_time": "2024-08-19T11:55:22.945Z"
   },
   {
    "duration": 49,
    "start_time": "2024-08-19T11:55:22.964Z"
   },
   {
    "duration": 233,
    "start_time": "2024-08-19T11:55:23.015Z"
   },
   {
    "duration": 4,
    "start_time": "2024-08-19T11:55:23.251Z"
   },
   {
    "duration": 319,
    "start_time": "2024-08-19T11:55:23.256Z"
   },
   {
    "duration": 3,
    "start_time": "2024-08-19T11:55:23.576Z"
   },
   {
    "duration": 254260,
    "start_time": "2024-08-19T11:55:23.580Z"
   },
   {
    "duration": 0,
    "start_time": "2024-08-19T11:59:37.842Z"
   },
   {
    "duration": 0,
    "start_time": "2024-08-19T11:59:37.847Z"
   },
   {
    "duration": 0,
    "start_time": "2024-08-19T11:59:37.848Z"
   },
   {
    "duration": 2404,
    "start_time": "2024-08-19T12:01:04.175Z"
   },
   {
    "duration": 1302,
    "start_time": "2024-08-19T12:01:06.582Z"
   },
   {
    "duration": 189,
    "start_time": "2024-08-19T12:01:07.886Z"
   },
   {
    "duration": 3,
    "start_time": "2024-08-19T12:01:08.076Z"
   },
   {
    "duration": 964,
    "start_time": "2024-08-19T12:01:08.081Z"
   },
   {
    "duration": 20,
    "start_time": "2024-08-19T12:01:09.047Z"
   },
   {
    "duration": 42,
    "start_time": "2024-08-19T12:01:09.069Z"
   },
   {
    "duration": 246,
    "start_time": "2024-08-19T12:01:09.113Z"
   },
   {
    "duration": 3,
    "start_time": "2024-08-19T12:01:09.361Z"
   },
   {
    "duration": 322,
    "start_time": "2024-08-19T12:01:09.365Z"
   },
   {
    "duration": 3,
    "start_time": "2024-08-19T12:01:09.688Z"
   },
   {
    "duration": 238317,
    "start_time": "2024-08-19T12:01:09.692Z"
   },
   {
    "duration": 0,
    "start_time": "2024-08-19T12:05:08.011Z"
   },
   {
    "duration": 0,
    "start_time": "2024-08-19T12:05:08.012Z"
   },
   {
    "duration": 0,
    "start_time": "2024-08-19T12:05:08.014Z"
   },
   {
    "duration": 2347,
    "start_time": "2024-08-19T12:05:21.041Z"
   },
   {
    "duration": 1298,
    "start_time": "2024-08-19T12:05:23.390Z"
   },
   {
    "duration": 232,
    "start_time": "2024-08-19T12:05:24.689Z"
   },
   {
    "duration": 3,
    "start_time": "2024-08-19T12:05:24.922Z"
   },
   {
    "duration": 992,
    "start_time": "2024-08-19T12:05:24.927Z"
   },
   {
    "duration": 19,
    "start_time": "2024-08-19T12:05:25.920Z"
   },
   {
    "duration": 38,
    "start_time": "2024-08-19T12:05:25.947Z"
   },
   {
    "duration": 234,
    "start_time": "2024-08-19T12:05:25.986Z"
   },
   {
    "duration": 3,
    "start_time": "2024-08-19T12:05:26.222Z"
   },
   {
    "duration": 312,
    "start_time": "2024-08-19T12:05:26.226Z"
   },
   {
    "duration": 2,
    "start_time": "2024-08-19T12:05:26.540Z"
   },
   {
    "duration": 186063,
    "start_time": "2024-08-19T12:05:26.546Z"
   },
   {
    "duration": 0,
    "start_time": "2024-08-19T12:08:32.611Z"
   },
   {
    "duration": 0,
    "start_time": "2024-08-19T12:08:32.648Z"
   },
   {
    "duration": 0,
    "start_time": "2024-08-19T12:08:32.649Z"
   },
   {
    "duration": 4,
    "start_time": "2024-08-19T12:09:03.924Z"
   },
   {
    "duration": 1431,
    "start_time": "2024-08-19T12:09:07.616Z"
   },
   {
    "duration": 117,
    "start_time": "2024-08-19T12:09:09.049Z"
   },
   {
    "duration": 0,
    "start_time": "2024-08-19T12:09:09.168Z"
   },
   {
    "duration": 0,
    "start_time": "2024-08-19T12:09:09.169Z"
   },
   {
    "duration": 0,
    "start_time": "2024-08-19T12:09:09.170Z"
   },
   {
    "duration": 0,
    "start_time": "2024-08-19T12:09:09.171Z"
   },
   {
    "duration": 0,
    "start_time": "2024-08-19T12:09:09.172Z"
   },
   {
    "duration": 0,
    "start_time": "2024-08-19T12:09:09.174Z"
   },
   {
    "duration": 0,
    "start_time": "2024-08-19T12:09:09.175Z"
   },
   {
    "duration": 0,
    "start_time": "2024-08-19T12:09:09.176Z"
   },
   {
    "duration": 0,
    "start_time": "2024-08-19T12:09:09.177Z"
   },
   {
    "duration": 0,
    "start_time": "2024-08-19T12:09:09.178Z"
   },
   {
    "duration": 0,
    "start_time": "2024-08-19T12:09:09.179Z"
   },
   {
    "duration": 0,
    "start_time": "2024-08-19T12:09:09.179Z"
   },
   {
    "duration": 1337,
    "start_time": "2024-08-19T12:09:32.415Z"
   },
   {
    "duration": 160,
    "start_time": "2024-08-19T12:09:33.755Z"
   },
   {
    "duration": 3,
    "start_time": "2024-08-19T12:09:33.917Z"
   },
   {
    "duration": 941,
    "start_time": "2024-08-19T12:09:33.921Z"
   },
   {
    "duration": 18,
    "start_time": "2024-08-19T12:09:34.865Z"
   },
   {
    "duration": 43,
    "start_time": "2024-08-19T12:09:34.885Z"
   },
   {
    "duration": 244,
    "start_time": "2024-08-19T12:09:34.946Z"
   },
   {
    "duration": 4,
    "start_time": "2024-08-19T12:09:35.192Z"
   },
   {
    "duration": 328,
    "start_time": "2024-08-19T12:09:35.197Z"
   },
   {
    "duration": 3,
    "start_time": "2024-08-19T12:09:35.526Z"
   },
   {
    "duration": 126951,
    "start_time": "2024-08-19T12:09:35.530Z"
   },
   {
    "duration": 106,
    "start_time": "2024-08-19T12:11:42.483Z"
   },
   {
    "duration": 2,
    "start_time": "2024-08-19T12:11:42.591Z"
   },
   {
    "duration": 128,
    "start_time": "2024-08-19T12:11:42.596Z"
   },
   {
    "duration": 3,
    "start_time": "2024-08-19T12:12:14.912Z"
   },
   {
    "duration": 21,
    "start_time": "2024-08-19T12:12:15.664Z"
   },
   {
    "duration": 3,
    "start_time": "2024-08-19T12:12:32.408Z"
   },
   {
    "duration": 13,
    "start_time": "2024-08-19T12:12:32.784Z"
   },
   {
    "duration": 3,
    "start_time": "2024-08-19T12:12:36.456Z"
   },
   {
    "duration": 13,
    "start_time": "2024-08-19T12:12:37.889Z"
   },
   {
    "duration": 8,
    "start_time": "2024-08-19T12:16:35.357Z"
   },
   {
    "duration": 129191,
    "start_time": "2024-08-19T12:17:18.858Z"
   },
   {
    "duration": 169,
    "start_time": "2024-08-19T12:19:28.051Z"
   },
   {
    "duration": 4,
    "start_time": "2024-08-19T12:19:28.223Z"
   },
   {
    "duration": 6130,
    "start_time": "2024-08-19T12:19:28.229Z"
   },
   {
    "duration": 7,
    "start_time": "2024-08-19T12:19:48.603Z"
   },
   {
    "duration": 6305,
    "start_time": "2024-08-19T12:20:55.146Z"
   },
   {
    "duration": 5,
    "start_time": "2024-08-19T12:21:01.538Z"
   },
   {
    "duration": 5211,
    "start_time": "2024-08-19T12:21:21.769Z"
   },
   {
    "duration": 7449,
    "start_time": "2024-08-19T12:22:12.817Z"
   },
   {
    "duration": 10,
    "start_time": "2024-08-19T12:40:08.308Z"
   },
   {
    "duration": 10,
    "start_time": "2024-08-19T12:40:54.141Z"
   },
   {
    "duration": 141,
    "start_time": "2024-08-19T12:42:24.154Z"
   },
   {
    "duration": 17,
    "start_time": "2024-08-19T12:42:29.667Z"
   },
   {
    "duration": 4,
    "start_time": "2024-08-19T12:42:36.051Z"
   },
   {
    "duration": 4,
    "start_time": "2024-08-19T12:42:38.299Z"
   },
   {
    "duration": 17,
    "start_time": "2024-08-19T12:49:21.062Z"
   },
   {
    "duration": 16,
    "start_time": "2024-08-19T12:49:29.142Z"
   },
   {
    "duration": 6,
    "start_time": "2024-08-19T12:49:38.759Z"
   },
   {
    "duration": 12,
    "start_time": "2024-08-19T12:49:44.229Z"
   },
   {
    "duration": 4,
    "start_time": "2024-08-19T12:49:50.055Z"
   },
   {
    "duration": 3554,
    "start_time": "2024-08-19T12:50:07.717Z"
   },
   {
    "duration": 1435,
    "start_time": "2024-08-19T17:16:33.515Z"
   },
   {
    "duration": 193,
    "start_time": "2024-08-19T17:16:34.952Z"
   },
   {
    "duration": 3,
    "start_time": "2024-08-19T17:16:35.146Z"
   },
   {
    "duration": 1342,
    "start_time": "2024-08-19T17:16:35.150Z"
   },
   {
    "duration": 19,
    "start_time": "2024-08-19T17:16:36.494Z"
   },
   {
    "duration": 39,
    "start_time": "2024-08-19T17:16:36.515Z"
   },
   {
    "duration": 245,
    "start_time": "2024-08-19T17:16:36.555Z"
   },
   {
    "duration": 4,
    "start_time": "2024-08-19T17:16:36.801Z"
   },
   {
    "duration": 320,
    "start_time": "2024-08-19T17:16:36.807Z"
   },
   {
    "duration": 3,
    "start_time": "2024-08-19T17:16:37.128Z"
   },
   {
    "duration": 135981,
    "start_time": "2024-08-19T17:16:37.132Z"
   },
   {
    "duration": 79,
    "start_time": "2024-08-19T17:18:53.115Z"
   },
   {
    "duration": 3,
    "start_time": "2024-08-19T17:18:53.195Z"
   },
   {
    "duration": 7745,
    "start_time": "2024-08-19T17:18:53.201Z"
   },
   {
    "duration": 4,
    "start_time": "2024-08-19T17:19:00.947Z"
   },
   {
    "duration": 24,
    "start_time": "2024-08-19T17:19:00.953Z"
   },
   {
    "duration": 2576864,
    "start_time": "2024-08-19T17:19:00.978Z"
   },
   {
    "duration": 5,
    "start_time": "2024-08-19T18:02:16.617Z"
   },
   {
    "duration": 3,
    "start_time": "2024-08-19T18:02:18.114Z"
   },
   {
    "duration": 1548,
    "start_time": "2024-08-19T18:02:39.450Z"
   },
   {
    "duration": 162,
    "start_time": "2024-08-19T18:02:41.000Z"
   },
   {
    "duration": 3,
    "start_time": "2024-08-19T18:02:41.163Z"
   },
   {
    "duration": 961,
    "start_time": "2024-08-19T18:02:41.168Z"
   },
   {
    "duration": 20,
    "start_time": "2024-08-19T18:02:42.131Z"
   },
   {
    "duration": 49,
    "start_time": "2024-08-19T18:02:42.153Z"
   },
   {
    "duration": 239,
    "start_time": "2024-08-19T18:02:42.204Z"
   },
   {
    "duration": 3,
    "start_time": "2024-08-19T18:02:42.445Z"
   },
   {
    "duration": 323,
    "start_time": "2024-08-19T18:02:42.450Z"
   },
   {
    "duration": 3,
    "start_time": "2024-08-19T18:02:42.775Z"
   },
   {
    "duration": 139372,
    "start_time": "2024-08-19T18:02:42.780Z"
   },
   {
    "duration": 75,
    "start_time": "2024-08-19T18:05:02.154Z"
   },
   {
    "duration": 3,
    "start_time": "2024-08-19T18:05:02.230Z"
   },
   {
    "duration": 7508,
    "start_time": "2024-08-19T18:05:02.234Z"
   },
   {
    "duration": 4,
    "start_time": "2024-08-19T18:05:09.745Z"
   },
   {
    "duration": 15,
    "start_time": "2024-08-19T18:05:09.751Z"
   },
   {
    "duration": 1118831,
    "start_time": "2024-08-19T18:05:09.768Z"
   },
   {
    "duration": 1689,
    "start_time": "2024-08-19T18:24:01.464Z"
   },
   {
    "duration": 349,
    "start_time": "2024-08-19T18:24:03.155Z"
   },
   {
    "duration": 3,
    "start_time": "2024-08-19T18:24:03.506Z"
   },
   {
    "duration": 1010,
    "start_time": "2024-08-19T18:24:03.512Z"
   },
   {
    "duration": 27,
    "start_time": "2024-08-19T18:24:04.525Z"
   },
   {
    "duration": 55,
    "start_time": "2024-08-19T18:24:04.553Z"
   },
   {
    "duration": 262,
    "start_time": "2024-08-19T18:24:04.610Z"
   },
   {
    "duration": 3,
    "start_time": "2024-08-19T18:24:04.874Z"
   },
   {
    "duration": 352,
    "start_time": "2024-08-19T18:24:04.878Z"
   },
   {
    "duration": 3,
    "start_time": "2024-08-19T18:24:05.232Z"
   },
   {
    "duration": 134061,
    "start_time": "2024-08-19T18:24:05.237Z"
   },
   {
    "duration": 74,
    "start_time": "2024-08-19T18:26:19.300Z"
   },
   {
    "duration": 2,
    "start_time": "2024-08-19T18:26:19.376Z"
   },
   {
    "duration": 7578,
    "start_time": "2024-08-19T18:26:19.381Z"
   },
   {
    "duration": 6,
    "start_time": "2024-08-19T18:26:26.960Z"
   },
   {
    "duration": 16,
    "start_time": "2024-08-19T18:26:26.968Z"
   },
   {
    "duration": 1455,
    "start_time": "2024-08-19T18:29:35.319Z"
   },
   {
    "duration": 207,
    "start_time": "2024-08-19T18:29:36.776Z"
   },
   {
    "duration": 2,
    "start_time": "2024-08-19T18:29:36.985Z"
   },
   {
    "duration": 1371,
    "start_time": "2024-08-19T18:29:36.989Z"
   },
   {
    "duration": 20,
    "start_time": "2024-08-19T18:29:38.362Z"
   },
   {
    "duration": 46,
    "start_time": "2024-08-19T18:29:38.383Z"
   },
   {
    "duration": 234,
    "start_time": "2024-08-19T18:29:38.431Z"
   },
   {
    "duration": 4,
    "start_time": "2024-08-19T18:29:38.666Z"
   },
   {
    "duration": 329,
    "start_time": "2024-08-19T18:29:38.672Z"
   },
   {
    "duration": 3,
    "start_time": "2024-08-19T18:29:39.003Z"
   },
   {
    "duration": 138544,
    "start_time": "2024-08-19T18:29:39.008Z"
   },
   {
    "duration": 91,
    "start_time": "2024-08-19T18:31:57.555Z"
   },
   {
    "duration": 3,
    "start_time": "2024-08-19T18:31:57.647Z"
   },
   {
    "duration": 8054,
    "start_time": "2024-08-19T18:31:57.652Z"
   },
   {
    "duration": 3,
    "start_time": "2024-08-19T18:32:05.708Z"
   },
   {
    "duration": 13,
    "start_time": "2024-08-19T18:32:05.713Z"
   },
   {
    "duration": 1556,
    "start_time": "2024-08-19T18:33:20.222Z"
   },
   {
    "duration": 170,
    "start_time": "2024-08-19T18:33:21.781Z"
   },
   {
    "duration": 3,
    "start_time": "2024-08-19T18:33:21.953Z"
   },
   {
    "duration": 1406,
    "start_time": "2024-08-19T18:33:21.958Z"
   },
   {
    "duration": 21,
    "start_time": "2024-08-19T18:33:23.366Z"
   },
   {
    "duration": 38,
    "start_time": "2024-08-19T18:33:23.389Z"
   },
   {
    "duration": 256,
    "start_time": "2024-08-19T18:33:23.428Z"
   },
   {
    "duration": 4,
    "start_time": "2024-08-19T18:33:23.686Z"
   },
   {
    "duration": 331,
    "start_time": "2024-08-19T18:33:23.692Z"
   },
   {
    "duration": 3,
    "start_time": "2024-08-19T18:33:24.025Z"
   },
   {
    "duration": 139889,
    "start_time": "2024-08-19T18:33:24.030Z"
   },
   {
    "duration": 80,
    "start_time": "2024-08-19T18:35:43.921Z"
   },
   {
    "duration": 3,
    "start_time": "2024-08-19T18:35:44.003Z"
   },
   {
    "duration": 7763,
    "start_time": "2024-08-19T18:35:44.009Z"
   },
   {
    "duration": 6,
    "start_time": "2024-08-19T18:35:51.774Z"
   },
   {
    "duration": 12,
    "start_time": "2024-08-19T18:35:51.781Z"
   },
   {
    "duration": 46,
    "start_time": "2024-08-19T18:38:44.390Z"
   },
   {
    "duration": 9,
    "start_time": "2024-08-19T18:38:47.101Z"
   },
   {
    "duration": 6,
    "start_time": "2024-08-19T18:38:47.505Z"
   },
   {
    "duration": 1334,
    "start_time": "2024-08-20T04:18:56.321Z"
   },
   {
    "duration": 271,
    "start_time": "2024-08-20T04:18:57.657Z"
   },
   {
    "duration": 2,
    "start_time": "2024-08-20T04:18:57.929Z"
   },
   {
    "duration": 3746,
    "start_time": "2024-08-20T04:18:57.933Z"
   },
   {
    "duration": 18,
    "start_time": "2024-08-20T04:19:01.682Z"
   },
   {
    "duration": 81,
    "start_time": "2024-08-20T04:19:01.701Z"
   },
   {
    "duration": 222,
    "start_time": "2024-08-20T04:19:01.783Z"
   },
   {
    "duration": 3,
    "start_time": "2024-08-20T04:19:02.007Z"
   },
   {
    "duration": 314,
    "start_time": "2024-08-20T04:19:02.012Z"
   },
   {
    "duration": 3,
    "start_time": "2024-08-20T04:19:02.328Z"
   },
   {
    "duration": 120488,
    "start_time": "2024-08-20T04:19:02.332Z"
   },
   {
    "duration": 75,
    "start_time": "2024-08-20T04:21:02.822Z"
   },
   {
    "duration": 3,
    "start_time": "2024-08-20T04:21:02.898Z"
   },
   {
    "duration": 6800,
    "start_time": "2024-08-20T04:21:02.904Z"
   },
   {
    "duration": 4,
    "start_time": "2024-08-20T04:21:09.706Z"
   },
   {
    "duration": 9,
    "start_time": "2024-08-20T04:21:09.712Z"
   },
   {
    "duration": 1323,
    "start_time": "2024-08-20T04:22:06.933Z"
   },
   {
    "duration": 167,
    "start_time": "2024-08-20T04:22:08.257Z"
   },
   {
    "duration": 2,
    "start_time": "2024-08-20T04:22:08.426Z"
   },
   {
    "duration": 3694,
    "start_time": "2024-08-20T04:22:08.429Z"
   },
   {
    "duration": 17,
    "start_time": "2024-08-20T04:22:12.125Z"
   },
   {
    "duration": 38,
    "start_time": "2024-08-20T04:22:12.143Z"
   },
   {
    "duration": 215,
    "start_time": "2024-08-20T04:22:12.183Z"
   },
   {
    "duration": 4,
    "start_time": "2024-08-20T04:22:12.400Z"
   },
   {
    "duration": 301,
    "start_time": "2024-08-20T04:22:12.406Z"
   },
   {
    "duration": 3,
    "start_time": "2024-08-20T04:22:12.709Z"
   },
   {
    "duration": 122029,
    "start_time": "2024-08-20T04:22:12.713Z"
   },
   {
    "duration": 69,
    "start_time": "2024-08-20T04:24:14.744Z"
   },
   {
    "duration": 3,
    "start_time": "2024-08-20T04:24:14.814Z"
   },
   {
    "duration": 7002,
    "start_time": "2024-08-20T04:24:14.819Z"
   },
   {
    "duration": 5,
    "start_time": "2024-08-20T04:24:21.823Z"
   },
   {
    "duration": 39,
    "start_time": "2024-08-20T04:24:21.830Z"
   },
   {
    "duration": 1313,
    "start_time": "2024-08-20T04:49:14.444Z"
   },
   {
    "duration": 163,
    "start_time": "2024-08-20T04:49:15.759Z"
   },
   {
    "duration": 2,
    "start_time": "2024-08-20T04:49:15.923Z"
   },
   {
    "duration": 873,
    "start_time": "2024-08-20T04:49:15.927Z"
   },
   {
    "duration": 15,
    "start_time": "2024-08-20T04:49:16.802Z"
   },
   {
    "duration": 37,
    "start_time": "2024-08-20T04:49:16.819Z"
   },
   {
    "duration": 228,
    "start_time": "2024-08-20T04:49:16.857Z"
   },
   {
    "duration": 3,
    "start_time": "2024-08-20T04:49:17.087Z"
   },
   {
    "duration": 286,
    "start_time": "2024-08-20T04:49:17.092Z"
   },
   {
    "duration": 3,
    "start_time": "2024-08-20T04:49:17.379Z"
   },
   {
    "duration": 1320,
    "start_time": "2024-08-20T04:54:05.308Z"
   },
   {
    "duration": 267,
    "start_time": "2024-08-20T04:54:06.630Z"
   },
   {
    "duration": 2,
    "start_time": "2024-08-20T04:54:06.900Z"
   },
   {
    "duration": 894,
    "start_time": "2024-08-20T04:54:06.904Z"
   },
   {
    "duration": 15,
    "start_time": "2024-08-20T04:54:07.800Z"
   },
   {
    "duration": 32,
    "start_time": "2024-08-20T04:54:07.816Z"
   },
   {
    "duration": 219,
    "start_time": "2024-08-20T04:54:07.849Z"
   },
   {
    "duration": 3,
    "start_time": "2024-08-20T04:54:08.070Z"
   },
   {
    "duration": 287,
    "start_time": "2024-08-20T04:54:08.074Z"
   },
   {
    "duration": 3,
    "start_time": "2024-08-20T04:54:08.364Z"
   },
   {
    "duration": 119161,
    "start_time": "2024-08-20T04:54:08.368Z"
   },
   {
    "duration": 68,
    "start_time": "2024-08-20T04:56:07.530Z"
   },
   {
    "duration": 2,
    "start_time": "2024-08-20T04:56:07.600Z"
   },
   {
    "duration": 6694,
    "start_time": "2024-08-20T04:56:07.604Z"
   },
   {
    "duration": 4,
    "start_time": "2024-08-20T04:56:14.300Z"
   },
   {
    "duration": 8,
    "start_time": "2024-08-20T04:56:14.305Z"
   },
   {
    "duration": 1386,
    "start_time": "2024-08-20T05:15:09.897Z"
   },
   {
    "duration": 277,
    "start_time": "2024-08-20T05:15:11.285Z"
   },
   {
    "duration": 3,
    "start_time": "2024-08-20T05:15:11.563Z"
   },
   {
    "duration": 3689,
    "start_time": "2024-08-20T05:15:11.567Z"
   },
   {
    "duration": 17,
    "start_time": "2024-08-20T05:15:15.258Z"
   },
   {
    "duration": 37,
    "start_time": "2024-08-20T05:15:15.277Z"
   },
   {
    "duration": 212,
    "start_time": "2024-08-20T05:15:15.315Z"
   },
   {
    "duration": 4,
    "start_time": "2024-08-20T05:15:15.528Z"
   },
   {
    "duration": 286,
    "start_time": "2024-08-20T05:15:15.533Z"
   },
   {
    "duration": 3,
    "start_time": "2024-08-20T05:15:15.820Z"
   },
   {
    "duration": 1360,
    "start_time": "2024-08-20T05:15:24.591Z"
   },
   {
    "duration": 153,
    "start_time": "2024-08-20T05:15:25.952Z"
   },
   {
    "duration": 2,
    "start_time": "2024-08-20T05:15:26.107Z"
   },
   {
    "duration": 862,
    "start_time": "2024-08-20T05:15:26.110Z"
   },
   {
    "duration": 21,
    "start_time": "2024-08-20T05:15:26.974Z"
   },
   {
    "duration": 87,
    "start_time": "2024-08-20T05:15:26.997Z"
   },
   {
    "duration": 216,
    "start_time": "2024-08-20T05:15:27.085Z"
   },
   {
    "duration": 4,
    "start_time": "2024-08-20T05:15:27.303Z"
   },
   {
    "duration": 299,
    "start_time": "2024-08-20T05:15:27.308Z"
   },
   {
    "duration": 3,
    "start_time": "2024-08-20T05:15:27.609Z"
   },
   {
    "duration": 122152,
    "start_time": "2024-08-20T05:15:27.613Z"
   },
   {
    "duration": 67,
    "start_time": "2024-08-20T05:17:29.767Z"
   },
   {
    "duration": 3,
    "start_time": "2024-08-20T05:17:29.835Z"
   },
   {
    "duration": 6887,
    "start_time": "2024-08-20T05:17:29.840Z"
   },
   {
    "duration": 4,
    "start_time": "2024-08-20T05:17:36.728Z"
   },
   {
    "duration": 8,
    "start_time": "2024-08-20T05:17:36.733Z"
   },
   {
    "duration": 1357,
    "start_time": "2024-08-20T05:23:25.090Z"
   },
   {
    "duration": 173,
    "start_time": "2024-08-20T05:23:26.449Z"
   },
   {
    "duration": 3,
    "start_time": "2024-08-20T05:23:26.623Z"
   },
   {
    "duration": 3666,
    "start_time": "2024-08-20T05:23:26.627Z"
   },
   {
    "duration": 17,
    "start_time": "2024-08-20T05:23:30.295Z"
   },
   {
    "duration": 70,
    "start_time": "2024-08-20T05:23:30.313Z"
   },
   {
    "duration": 207,
    "start_time": "2024-08-20T05:23:30.385Z"
   },
   {
    "duration": 3,
    "start_time": "2024-08-20T05:23:30.593Z"
   },
   {
    "duration": 332,
    "start_time": "2024-08-20T05:23:30.597Z"
   },
   {
    "duration": 3,
    "start_time": "2024-08-20T05:23:30.930Z"
   },
   {
    "duration": 121804,
    "start_time": "2024-08-20T05:23:30.934Z"
   },
   {
    "duration": 74,
    "start_time": "2024-08-20T05:25:32.740Z"
   },
   {
    "duration": 2,
    "start_time": "2024-08-20T05:25:32.816Z"
   },
   {
    "duration": 6602,
    "start_time": "2024-08-20T05:25:32.821Z"
   },
   {
    "duration": 3,
    "start_time": "2024-08-20T05:25:39.424Z"
   },
   {
    "duration": 4,
    "start_time": "2024-08-20T05:25:39.429Z"
   },
   {
    "duration": 2068589,
    "start_time": "2024-08-20T05:25:39.434Z"
   },
   {
    "duration": 4,
    "start_time": "2024-08-20T06:00:28.352Z"
   },
   {
    "duration": 4,
    "start_time": "2024-08-20T06:01:30.586Z"
   },
   {
    "duration": 4295,
    "start_time": "2024-08-20T06:01:40.794Z"
   },
   {
    "duration": 4374,
    "start_time": "2024-08-20T06:01:51.586Z"
   },
   {
    "duration": 4357,
    "start_time": "2024-08-20T06:02:00.890Z"
   },
   {
    "duration": 4376,
    "start_time": "2024-08-20T06:02:10.626Z"
   },
   {
    "duration": 4485,
    "start_time": "2024-08-20T06:02:23.322Z"
   },
   {
    "duration": 4556,
    "start_time": "2024-08-20T06:02:29.266Z"
   },
   {
    "duration": 4242,
    "start_time": "2024-08-20T06:02:37.050Z"
   },
   {
    "duration": 4310,
    "start_time": "2024-08-20T06:02:46.217Z"
   },
   {
    "duration": 45,
    "start_time": "2024-08-20T06:04:01.624Z"
   },
   {
    "duration": 1426,
    "start_time": "2024-08-20T06:04:22.864Z"
   },
   {
    "duration": 167,
    "start_time": "2024-08-20T06:04:24.292Z"
   },
   {
    "duration": 2,
    "start_time": "2024-08-20T06:04:24.461Z"
   },
   {
    "duration": 3692,
    "start_time": "2024-08-20T06:04:24.465Z"
   },
   {
    "duration": 16,
    "start_time": "2024-08-20T06:04:28.159Z"
   },
   {
    "duration": 36,
    "start_time": "2024-08-20T06:04:28.177Z"
   },
   {
    "duration": 209,
    "start_time": "2024-08-20T06:04:28.214Z"
   },
   {
    "duration": 3,
    "start_time": "2024-08-20T06:04:28.425Z"
   },
   {
    "duration": 289,
    "start_time": "2024-08-20T06:04:28.429Z"
   },
   {
    "duration": 3,
    "start_time": "2024-08-20T06:04:28.719Z"
   },
   {
    "duration": 120426,
    "start_time": "2024-08-20T06:04:28.723Z"
   },
   {
    "duration": 68,
    "start_time": "2024-08-20T06:06:29.151Z"
   },
   {
    "duration": 3,
    "start_time": "2024-08-20T06:06:29.221Z"
   },
   {
    "duration": 6722,
    "start_time": "2024-08-20T06:06:29.225Z"
   },
   {
    "duration": 4,
    "start_time": "2024-08-20T06:06:35.949Z"
   },
   {
    "duration": 36,
    "start_time": "2024-08-20T06:06:35.954Z"
   },
   {
    "duration": 13,
    "start_time": "2024-08-20T06:06:35.991Z"
   },
   {
    "duration": 107,
    "start_time": "2024-08-20T06:06:36.005Z"
   },
   {
    "duration": 43,
    "start_time": "2024-08-20T06:07:35.582Z"
   },
   {
    "duration": 1403,
    "start_time": "2024-08-20T06:07:48.119Z"
   },
   {
    "duration": 195,
    "start_time": "2024-08-20T06:07:49.523Z"
   },
   {
    "duration": 3,
    "start_time": "2024-08-20T06:07:49.719Z"
   },
   {
    "duration": 3645,
    "start_time": "2024-08-20T06:07:49.723Z"
   },
   {
    "duration": 21,
    "start_time": "2024-08-20T06:07:53.371Z"
   },
   {
    "duration": 36,
    "start_time": "2024-08-20T06:07:53.394Z"
   },
   {
    "duration": 212,
    "start_time": "2024-08-20T06:07:53.431Z"
   },
   {
    "duration": 4,
    "start_time": "2024-08-20T06:07:53.644Z"
   },
   {
    "duration": 282,
    "start_time": "2024-08-20T06:07:53.649Z"
   },
   {
    "duration": 2,
    "start_time": "2024-08-20T06:07:53.933Z"
   },
   {
    "duration": 118907,
    "start_time": "2024-08-20T06:07:53.936Z"
   },
   {
    "duration": 66,
    "start_time": "2024-08-20T06:09:52.845Z"
   },
   {
    "duration": 2,
    "start_time": "2024-08-20T06:09:52.913Z"
   },
   {
    "duration": 6628,
    "start_time": "2024-08-20T06:09:52.917Z"
   },
   {
    "duration": 3,
    "start_time": "2024-08-20T06:09:59.547Z"
   },
   {
    "duration": 10,
    "start_time": "2024-08-20T06:09:59.551Z"
   },
   {
    "duration": 13,
    "start_time": "2024-08-20T06:09:59.562Z"
   },
   {
    "duration": 40,
    "start_time": "2024-08-20T06:09:59.576Z"
   },
   {
    "duration": 3,
    "start_time": "2024-08-20T06:11:23.771Z"
   },
   {
    "duration": 3,
    "start_time": "2024-08-20T06:11:26.266Z"
   },
   {
    "duration": 681029,
    "start_time": "2024-08-20T06:11:29.075Z"
   },
   {
    "duration": 4,
    "start_time": "2024-08-20T06:22:50.106Z"
   },
   {
    "duration": 3,
    "start_time": "2024-08-20T06:24:06.398Z"
   },
   {
    "duration": 3,
    "start_time": "2024-08-20T06:24:10.028Z"
   },
   {
    "duration": 1414,
    "start_time": "2024-08-20T06:55:26.341Z"
   },
   {
    "duration": 265,
    "start_time": "2024-08-20T06:55:27.757Z"
   },
   {
    "duration": 3,
    "start_time": "2024-08-20T06:55:28.023Z"
   },
   {
    "duration": 3702,
    "start_time": "2024-08-20T06:55:28.027Z"
   },
   {
    "duration": 18,
    "start_time": "2024-08-20T06:55:31.732Z"
   },
   {
    "duration": 52,
    "start_time": "2024-08-20T06:55:31.752Z"
   },
   {
    "duration": 224,
    "start_time": "2024-08-20T06:55:31.806Z"
   },
   {
    "duration": 3,
    "start_time": "2024-08-20T06:55:32.032Z"
   },
   {
    "duration": 291,
    "start_time": "2024-08-20T06:55:32.037Z"
   },
   {
    "duration": 3,
    "start_time": "2024-08-20T06:55:32.330Z"
   },
   {
    "duration": 119548,
    "start_time": "2024-08-20T06:55:32.334Z"
   },
   {
    "duration": 60,
    "start_time": "2024-08-20T06:57:31.883Z"
   },
   {
    "duration": 3,
    "start_time": "2024-08-20T06:57:31.944Z"
   },
   {
    "duration": 6605,
    "start_time": "2024-08-20T06:57:31.949Z"
   },
   {
    "duration": 3,
    "start_time": "2024-08-20T06:57:38.556Z"
   },
   {
    "duration": 6,
    "start_time": "2024-08-20T06:57:38.561Z"
   },
   {
    "duration": 446975,
    "start_time": "2024-08-20T06:57:38.569Z"
   },
   {
    "duration": 3,
    "start_time": "2024-08-20T07:05:05.545Z"
   },
   {
    "duration": 3,
    "start_time": "2024-08-20T07:10:01.792Z"
   },
   {
    "duration": 3,
    "start_time": "2024-08-20T07:10:03.714Z"
   },
   {
    "duration": 454441,
    "start_time": "2024-08-20T07:10:04.675Z"
   },
   {
    "duration": 3,
    "start_time": "2024-08-20T07:17:39.117Z"
   },
   {
    "duration": 4,
    "start_time": "2024-08-20T07:18:52.012Z"
   },
   {
    "duration": 3,
    "start_time": "2024-08-20T07:18:52.332Z"
   },
   {
    "duration": 639518,
    "start_time": "2024-08-20T07:18:52.604Z"
   },
   {
    "duration": 0,
    "start_time": "2024-08-20T07:29:32.123Z"
   },
   {
    "duration": 1478,
    "start_time": "2024-08-20T07:30:48.510Z"
   },
   {
    "duration": 279,
    "start_time": "2024-08-20T07:30:49.990Z"
   },
   {
    "duration": 3,
    "start_time": "2024-08-20T07:30:50.271Z"
   },
   {
    "duration": 881,
    "start_time": "2024-08-20T07:30:50.277Z"
   },
   {
    "duration": 15,
    "start_time": "2024-08-20T07:30:51.159Z"
   },
   {
    "duration": 35,
    "start_time": "2024-08-20T07:30:51.182Z"
   },
   {
    "duration": 217,
    "start_time": "2024-08-20T07:30:51.218Z"
   },
   {
    "duration": 3,
    "start_time": "2024-08-20T07:30:51.437Z"
   },
   {
    "duration": 287,
    "start_time": "2024-08-20T07:30:51.441Z"
   },
   {
    "duration": 3,
    "start_time": "2024-08-20T07:30:51.730Z"
   },
   {
    "duration": 120042,
    "start_time": "2024-08-20T07:30:51.735Z"
   },
   {
    "duration": 60,
    "start_time": "2024-08-20T07:32:51.782Z"
   },
   {
    "duration": 3,
    "start_time": "2024-08-20T07:32:51.844Z"
   },
   {
    "duration": 6706,
    "start_time": "2024-08-20T07:32:51.848Z"
   },
   {
    "duration": 3,
    "start_time": "2024-08-20T07:32:58.556Z"
   },
   {
    "duration": 17,
    "start_time": "2024-08-20T07:32:58.561Z"
   },
   {
    "duration": 452308,
    "start_time": "2024-08-20T07:32:58.579Z"
   },
   {
    "duration": 0,
    "start_time": "2024-08-20T07:40:30.888Z"
   },
   {
    "duration": 0,
    "start_time": "2024-08-20T07:40:30.889Z"
   },
   {
    "duration": 3,
    "start_time": "2024-08-20T07:40:32.701Z"
   },
   {
    "duration": 4,
    "start_time": "2024-08-20T07:40:57.067Z"
   },
   {
    "duration": 3,
    "start_time": "2024-08-20T07:40:57.563Z"
   },
   {
    "duration": 332435,
    "start_time": "2024-08-20T07:40:59.804Z"
   },
   {
    "duration": 0,
    "start_time": "2024-08-20T07:46:32.241Z"
   },
   {
    "duration": 35,
    "start_time": "2024-08-20T07:46:42.564Z"
   },
   {
    "duration": 20,
    "start_time": "2024-08-20T07:52:08.697Z"
   },
   {
    "duration": 4,
    "start_time": "2024-08-20T07:52:14.468Z"
   },
   {
    "duration": 3,
    "start_time": "2024-08-20T07:52:15.179Z"
   },
   {
    "duration": 25085,
    "start_time": "2024-08-20T07:52:15.780Z"
   },
   {
    "duration": 0,
    "start_time": "2024-08-20T07:52:40.866Z"
   },
   {
    "duration": 3,
    "start_time": "2024-08-20T07:53:27.370Z"
   },
   {
    "duration": 1027738,
    "start_time": "2024-08-20T07:53:28.882Z"
   },
   {
    "duration": 3,
    "start_time": "2024-08-20T08:10:36.621Z"
   },
   {
    "duration": 13,
    "start_time": "2024-08-20T09:12:22.798Z"
   },
   {
    "duration": 10,
    "start_time": "2024-08-20T09:12:30.319Z"
   },
   {
    "duration": 11,
    "start_time": "2024-08-20T09:12:42.679Z"
   },
   {
    "duration": 4,
    "start_time": "2024-08-20T09:12:47.719Z"
   },
   {
    "duration": 91,
    "start_time": "2024-08-20T09:12:49.679Z"
   },
   {
    "duration": 1284,
    "start_time": "2024-08-20T09:14:33.804Z"
   },
   {
    "duration": 241,
    "start_time": "2024-08-20T09:14:35.089Z"
   },
   {
    "duration": 3,
    "start_time": "2024-08-20T09:14:35.331Z"
   },
   {
    "duration": 895,
    "start_time": "2024-08-20T09:14:35.335Z"
   },
   {
    "duration": 14,
    "start_time": "2024-08-20T09:14:36.232Z"
   },
   {
    "duration": 41,
    "start_time": "2024-08-20T09:14:36.247Z"
   },
   {
    "duration": 214,
    "start_time": "2024-08-20T09:14:36.290Z"
   },
   {
    "duration": 3,
    "start_time": "2024-08-20T09:14:36.506Z"
   },
   {
    "duration": 280,
    "start_time": "2024-08-20T09:14:36.510Z"
   },
   {
    "duration": 3,
    "start_time": "2024-08-20T09:14:36.791Z"
   },
   {
    "duration": 119180,
    "start_time": "2024-08-20T09:14:36.795Z"
   },
   {
    "duration": 65,
    "start_time": "2024-08-20T09:16:35.977Z"
   },
   {
    "duration": 3,
    "start_time": "2024-08-20T09:16:36.043Z"
   },
   {
    "duration": 6807,
    "start_time": "2024-08-20T09:16:36.048Z"
   },
   {
    "duration": 4,
    "start_time": "2024-08-20T09:16:42.857Z"
   },
   {
    "duration": 7,
    "start_time": "2024-08-20T09:16:42.862Z"
   },
   {
    "duration": 556733,
    "start_time": "2024-08-20T09:16:42.870Z"
   },
   {
    "duration": 4,
    "start_time": "2024-08-20T09:25:59.605Z"
   },
   {
    "duration": 4,
    "start_time": "2024-08-20T09:36:49.060Z"
   },
   {
    "duration": 3,
    "start_time": "2024-08-20T09:36:49.468Z"
   },
   {
    "duration": 563840,
    "start_time": "2024-08-20T09:36:50.421Z"
   },
   {
    "duration": 3,
    "start_time": "2024-08-20T10:57:24.490Z"
   },
   {
    "duration": 110,
    "start_time": "2024-08-20T10:57:40.674Z"
   },
   {
    "duration": 45,
    "start_time": "2024-08-20T10:57:44.714Z"
   },
   {
    "duration": 4,
    "start_time": "2024-08-20T10:57:59.409Z"
   },
   {
    "duration": 5601,
    "start_time": "2024-08-20T10:59:09.360Z"
   },
   {
    "duration": 3,
    "start_time": "2024-08-20T10:59:22.672Z"
   },
   {
    "duration": 3,
    "start_time": "2024-08-20T10:59:23.023Z"
   },
   {
    "duration": 172,
    "start_time": "2024-08-20T10:59:25.127Z"
   },
   {
    "duration": 166,
    "start_time": "2024-08-20T10:59:28.495Z"
   },
   {
    "duration": 11,
    "start_time": "2024-08-20T10:59:51.680Z"
   },
   {
    "duration": 10,
    "start_time": "2024-08-20T11:01:02.607Z"
   },
   {
    "duration": 1344,
    "start_time": "2024-08-20T11:01:07.444Z"
   },
   {
    "duration": 239,
    "start_time": "2024-08-20T11:01:08.790Z"
   },
   {
    "duration": 2,
    "start_time": "2024-08-20T11:01:09.031Z"
   },
   {
    "duration": 888,
    "start_time": "2024-08-20T11:01:09.035Z"
   },
   {
    "duration": 15,
    "start_time": "2024-08-20T11:01:09.925Z"
   },
   {
    "duration": 60,
    "start_time": "2024-08-20T11:01:09.941Z"
   },
   {
    "duration": 224,
    "start_time": "2024-08-20T11:01:10.002Z"
   },
   {
    "duration": 5,
    "start_time": "2024-08-20T11:01:10.228Z"
   },
   {
    "duration": 295,
    "start_time": "2024-08-20T11:01:10.235Z"
   },
   {
    "duration": 2,
    "start_time": "2024-08-20T11:01:10.532Z"
   },
   {
    "duration": 119586,
    "start_time": "2024-08-20T11:01:10.536Z"
   },
   {
    "duration": 77,
    "start_time": "2024-08-20T11:03:10.124Z"
   },
   {
    "duration": 4,
    "start_time": "2024-08-20T11:03:10.204Z"
   },
   {
    "duration": 6756,
    "start_time": "2024-08-20T11:03:10.211Z"
   },
   {
    "duration": 3,
    "start_time": "2024-08-20T11:03:16.969Z"
   },
   {
    "duration": 6,
    "start_time": "2024-08-20T11:03:16.981Z"
   },
   {
    "duration": 6,
    "start_time": "2024-08-20T11:03:16.989Z"
   },
   {
    "duration": 582524,
    "start_time": "2024-08-20T11:03:16.996Z"
   },
   {
    "duration": 4,
    "start_time": "2024-08-20T11:12:59.521Z"
   },
   {
    "duration": 110,
    "start_time": "2024-08-20T11:15:10.339Z"
   },
   {
    "duration": 4,
    "start_time": "2024-08-20T11:15:14.907Z"
   },
   {
    "duration": 3,
    "start_time": "2024-08-20T11:15:59.043Z"
   },
   {
    "duration": 3,
    "start_time": "2024-08-20T11:15:59.451Z"
   },
   {
    "duration": 1276,
    "start_time": "2024-08-20T11:20:49.810Z"
   },
   {
    "duration": 245,
    "start_time": "2024-08-20T11:20:51.088Z"
   },
   {
    "duration": 3,
    "start_time": "2024-08-20T11:20:51.334Z"
   },
   {
    "duration": 890,
    "start_time": "2024-08-20T11:20:51.338Z"
   },
   {
    "duration": 17,
    "start_time": "2024-08-20T11:20:52.230Z"
   },
   {
    "duration": 48,
    "start_time": "2024-08-20T11:20:52.248Z"
   },
   {
    "duration": 215,
    "start_time": "2024-08-20T11:20:52.297Z"
   },
   {
    "duration": 3,
    "start_time": "2024-08-20T11:20:52.514Z"
   },
   {
    "duration": 287,
    "start_time": "2024-08-20T11:20:52.519Z"
   },
   {
    "duration": 2,
    "start_time": "2024-08-20T11:20:52.808Z"
   },
   {
    "duration": 120271,
    "start_time": "2024-08-20T11:20:52.811Z"
   },
   {
    "duration": 59,
    "start_time": "2024-08-20T11:22:53.084Z"
   },
   {
    "duration": 6,
    "start_time": "2024-08-20T11:22:53.145Z"
   },
   {
    "duration": 6686,
    "start_time": "2024-08-20T11:22:53.155Z"
   },
   {
    "duration": 4,
    "start_time": "2024-08-20T11:22:59.842Z"
   },
   {
    "duration": 8,
    "start_time": "2024-08-20T11:22:59.848Z"
   },
   {
    "duration": 701859,
    "start_time": "2024-08-20T11:22:59.857Z"
   },
   {
    "duration": 0,
    "start_time": "2024-08-20T11:34:41.718Z"
   },
   {
    "duration": 11,
    "start_time": "2024-08-20T11:35:13.274Z"
   },
   {
    "duration": 4,
    "start_time": "2024-08-20T11:39:49.077Z"
   },
   {
    "duration": 3,
    "start_time": "2024-08-20T11:39:55.150Z"
   },
   {
    "duration": 1216067,
    "start_time": "2024-08-20T11:39:58.662Z"
   },
   {
    "duration": 4,
    "start_time": "2024-08-20T12:00:14.730Z"
   },
   {
    "duration": 3,
    "start_time": "2024-08-20T12:00:53.981Z"
   },
   {
    "duration": 3,
    "start_time": "2024-08-20T12:00:54.269Z"
   },
   {
    "duration": 37467,
    "start_time": "2024-08-20T12:00:54.524Z"
   },
   {
    "duration": 3,
    "start_time": "2024-08-20T12:02:28.068Z"
   },
   {
    "duration": 3,
    "start_time": "2024-08-20T12:03:28.307Z"
   },
   {
    "duration": 1279,
    "start_time": "2024-08-20T12:03:37.696Z"
   },
   {
    "duration": 196,
    "start_time": "2024-08-20T12:03:38.977Z"
   },
   {
    "duration": 3,
    "start_time": "2024-08-20T12:03:39.174Z"
   },
   {
    "duration": 927,
    "start_time": "2024-08-20T12:03:39.178Z"
   },
   {
    "duration": 17,
    "start_time": "2024-08-20T12:03:40.107Z"
   },
   {
    "duration": 51,
    "start_time": "2024-08-20T12:03:40.126Z"
   },
   {
    "duration": 253,
    "start_time": "2024-08-20T12:03:40.178Z"
   },
   {
    "duration": 3,
    "start_time": "2024-08-20T12:03:40.432Z"
   },
   {
    "duration": 305,
    "start_time": "2024-08-20T12:03:40.436Z"
   },
   {
    "duration": 3,
    "start_time": "2024-08-20T12:03:40.742Z"
   },
   {
    "duration": 123220,
    "start_time": "2024-08-20T12:03:40.747Z"
   },
   {
    "duration": 71,
    "start_time": "2024-08-20T12:05:43.969Z"
   },
   {
    "duration": 2,
    "start_time": "2024-08-20T12:05:44.041Z"
   },
   {
    "duration": 6900,
    "start_time": "2024-08-20T12:05:44.046Z"
   },
   {
    "duration": 3,
    "start_time": "2024-08-20T12:05:50.948Z"
   },
   {
    "duration": 9,
    "start_time": "2024-08-20T12:05:50.952Z"
   },
   {
    "duration": 233041,
    "start_time": "2024-08-20T12:05:50.962Z"
   },
   {
    "duration": 4,
    "start_time": "2024-08-20T12:09:44.005Z"
   },
   {
    "duration": 1240,
    "start_time": "2024-08-20T12:17:11.634Z"
   },
   {
    "duration": 169,
    "start_time": "2024-08-20T12:17:12.876Z"
   },
   {
    "duration": 2,
    "start_time": "2024-08-20T12:17:13.047Z"
   },
   {
    "duration": 912,
    "start_time": "2024-08-20T12:17:13.051Z"
   },
   {
    "duration": 22,
    "start_time": "2024-08-20T12:17:13.965Z"
   },
   {
    "duration": 36,
    "start_time": "2024-08-20T12:17:13.988Z"
   },
   {
    "duration": 223,
    "start_time": "2024-08-20T12:17:14.026Z"
   },
   {
    "duration": 3,
    "start_time": "2024-08-20T12:17:14.250Z"
   },
   {
    "duration": 286,
    "start_time": "2024-08-20T12:17:14.255Z"
   },
   {
    "duration": 2,
    "start_time": "2024-08-20T12:17:14.543Z"
   },
   {
    "duration": 122789,
    "start_time": "2024-08-20T12:17:14.546Z"
   },
   {
    "duration": 74,
    "start_time": "2024-08-20T12:19:17.336Z"
   },
   {
    "duration": 3,
    "start_time": "2024-08-20T12:19:17.412Z"
   },
   {
    "duration": 6938,
    "start_time": "2024-08-20T12:19:17.417Z"
   },
   {
    "duration": 3,
    "start_time": "2024-08-20T12:19:24.356Z"
   },
   {
    "duration": 8,
    "start_time": "2024-08-20T12:19:24.361Z"
   },
   {
    "duration": 98328,
    "start_time": "2024-08-20T12:19:24.371Z"
   },
   {
    "duration": 4,
    "start_time": "2024-08-20T12:21:02.700Z"
   },
   {
    "duration": 3,
    "start_time": "2024-08-20T12:21:15.005Z"
   },
   {
    "duration": 3,
    "start_time": "2024-08-20T12:21:19.156Z"
   },
   {
    "duration": 4,
    "start_time": "2024-08-20T12:21:32.052Z"
   },
   {
    "duration": 3,
    "start_time": "2024-08-20T12:21:33.060Z"
   },
   {
    "duration": 101517,
    "start_time": "2024-08-20T12:21:33.796Z"
   },
   {
    "duration": 3,
    "start_time": "2024-08-20T12:23:15.315Z"
   },
   {
    "duration": 14,
    "start_time": "2024-08-20T12:23:15.319Z"
   },
   {
    "duration": 111,
    "start_time": "2024-08-20T12:24:10.050Z"
   },
   {
    "duration": 17,
    "start_time": "2024-08-20T12:24:17.161Z"
   },
   {
    "duration": 14,
    "start_time": "2024-08-20T12:25:02.554Z"
   },
   {
    "duration": 3022,
    "start_time": "2024-08-20T12:45:02.141Z"
   },
   {
    "duration": 239,
    "start_time": "2024-08-20T12:45:05.165Z"
   },
   {
    "duration": 2,
    "start_time": "2024-08-20T12:45:05.406Z"
   },
   {
    "duration": 3858,
    "start_time": "2024-08-20T12:45:05.410Z"
   },
   {
    "duration": 18,
    "start_time": "2024-08-20T12:45:09.270Z"
   },
   {
    "duration": 57,
    "start_time": "2024-08-20T12:45:09.289Z"
   },
   {
    "duration": 211,
    "start_time": "2024-08-20T12:45:09.348Z"
   },
   {
    "duration": 4,
    "start_time": "2024-08-20T12:45:09.560Z"
   },
   {
    "duration": 276,
    "start_time": "2024-08-20T12:45:09.565Z"
   },
   {
    "duration": 3,
    "start_time": "2024-08-20T12:45:09.842Z"
   },
   {
    "duration": 122856,
    "start_time": "2024-08-20T12:45:09.846Z"
   },
   {
    "duration": 59,
    "start_time": "2024-08-20T12:47:12.704Z"
   },
   {
    "duration": 2,
    "start_time": "2024-08-20T12:47:12.765Z"
   },
   {
    "duration": 6916,
    "start_time": "2024-08-20T12:47:12.770Z"
   },
   {
    "duration": 8,
    "start_time": "2024-08-20T12:47:19.688Z"
   },
   {
    "duration": 5,
    "start_time": "2024-08-20T12:47:19.697Z"
   },
   {
    "duration": 97112,
    "start_time": "2024-08-20T12:47:19.703Z"
   },
   {
    "duration": 3,
    "start_time": "2024-08-20T12:48:56.817Z"
   },
   {
    "duration": 16,
    "start_time": "2024-08-20T12:48:56.821Z"
   },
   {
    "duration": 16,
    "start_time": "2024-08-20T13:03:07.750Z"
   },
   {
    "duration": 4,
    "start_time": "2024-08-20T15:37:01.456Z"
   },
   {
    "duration": 1457,
    "start_time": "2024-08-20T17:24:41.270Z"
   },
   {
    "duration": 184,
    "start_time": "2024-08-20T17:24:43.549Z"
   },
   {
    "duration": 3,
    "start_time": "2024-08-20T17:24:44.717Z"
   },
   {
    "duration": 1313,
    "start_time": "2024-08-20T17:24:46.568Z"
   },
   {
    "duration": 2794,
    "start_time": "2024-08-20T17:54:10.955Z"
   },
   {
    "duration": 2357,
    "start_time": "2024-08-20T17:54:17.960Z"
   },
   {
    "duration": 2491,
    "start_time": "2024-08-20T18:02:13.151Z"
   },
   {
    "duration": 3956,
    "start_time": "2024-08-20T18:02:15.644Z"
   },
   {
    "duration": 3,
    "start_time": "2024-08-20T18:02:19.602Z"
   },
   {
    "duration": 6,
    "start_time": "2024-08-20T18:02:19.607Z"
   },
   {
    "duration": 887,
    "start_time": "2024-08-20T18:02:19.616Z"
   },
   {
    "duration": 21,
    "start_time": "2024-08-20T18:02:20.505Z"
   },
   {
    "duration": 63,
    "start_time": "2024-08-20T18:02:20.527Z"
   },
   {
    "duration": 225,
    "start_time": "2024-08-20T18:02:20.592Z"
   },
   {
    "duration": 4,
    "start_time": "2024-08-20T18:02:20.819Z"
   },
   {
    "duration": 316,
    "start_time": "2024-08-20T18:02:20.825Z"
   },
   {
    "duration": 336,
    "start_time": "2024-08-20T18:02:21.146Z"
   },
   {
    "duration": 0,
    "start_time": "2024-08-20T18:02:21.483Z"
   },
   {
    "duration": 0,
    "start_time": "2024-08-20T18:02:21.485Z"
   },
   {
    "duration": 0,
    "start_time": "2024-08-20T18:02:21.485Z"
   },
   {
    "duration": 0,
    "start_time": "2024-08-20T18:02:21.487Z"
   },
   {
    "duration": 0,
    "start_time": "2024-08-20T18:02:21.488Z"
   },
   {
    "duration": 0,
    "start_time": "2024-08-20T18:02:21.489Z"
   },
   {
    "duration": 0,
    "start_time": "2024-08-20T18:02:21.491Z"
   },
   {
    "duration": 0,
    "start_time": "2024-08-20T18:02:21.492Z"
   },
   {
    "duration": 0,
    "start_time": "2024-08-20T18:02:21.493Z"
   },
   {
    "duration": 0,
    "start_time": "2024-08-20T18:02:21.495Z"
   },
   {
    "duration": 0,
    "start_time": "2024-08-20T18:02:21.496Z"
   },
   {
    "duration": 0,
    "start_time": "2024-08-20T18:02:21.497Z"
   },
   {
    "duration": 701,
    "start_time": "2024-08-20T18:04:30.470Z"
   },
   {
    "duration": 97,
    "start_time": "2024-08-20T18:04:32.460Z"
   },
   {
    "duration": 48,
    "start_time": "2024-08-20T18:05:29.511Z"
   },
   {
    "duration": 1076986,
    "start_time": "2024-08-20T18:07:15.314Z"
   },
   {
    "duration": 7,
    "start_time": "2024-08-20T18:25:12.302Z"
   },
   {
    "duration": 62,
    "start_time": "2024-08-20T18:26:25.890Z"
   },
   {
    "duration": 3,
    "start_time": "2024-08-20T18:26:35.158Z"
   },
   {
    "duration": 7018,
    "start_time": "2024-08-20T18:26:36.286Z"
   },
   {
    "duration": 4,
    "start_time": "2024-08-20T18:26:47.900Z"
   },
   {
    "duration": 3,
    "start_time": "2024-08-20T18:26:50.704Z"
   },
   {
    "duration": 120389,
    "start_time": "2024-08-20T18:26:51.097Z"
   },
   {
    "duration": 3,
    "start_time": "2024-08-20T18:28:51.488Z"
   },
   {
    "duration": 22,
    "start_time": "2024-08-20T18:28:51.492Z"
   },
   {
    "duration": 291,
    "start_time": "2024-08-20T18:31:17.737Z"
   },
   {
    "duration": 3503,
    "start_time": "2024-08-20T18:31:24.699Z"
   },
   {
    "duration": 8,
    "start_time": "2024-08-20T18:31:28.741Z"
   },
   {
    "duration": 5,
    "start_time": "2024-08-20T18:44:21.757Z"
   },
   {
    "duration": 4,
    "start_time": "2024-08-20T18:44:22.444Z"
   },
   {
    "duration": 404,
    "start_time": "2024-08-20T18:44:27.347Z"
   },
   {
    "duration": 7,
    "start_time": "2024-08-20T18:44:27.753Z"
   },
   {
    "duration": 150,
    "start_time": "2024-08-20T18:44:40.798Z"
   },
   {
    "duration": 445,
    "start_time": "2024-08-20T18:44:44.108Z"
   },
   {
    "duration": 4,
    "start_time": "2024-08-20T18:45:33.984Z"
   },
   {
    "duration": 606,
    "start_time": "2024-08-20T18:45:34.929Z"
   },
   {
    "duration": 631,
    "start_time": "2024-08-20T18:45:40.330Z"
   },
   {
    "duration": 3,
    "start_time": "2024-08-20T18:46:11.536Z"
   },
   {
    "duration": 528422,
    "start_time": "2024-08-20T18:46:18.634Z"
   },
   {
    "duration": 10,
    "start_time": "2024-08-20T18:55:07.058Z"
   },
   {
    "duration": 88,
    "start_time": "2024-08-20T18:56:02.498Z"
   },
   {
    "duration": 14,
    "start_time": "2024-08-20T18:56:04.475Z"
   },
   {
    "duration": 6504,
    "start_time": "2024-08-20T18:56:04.740Z"
   },
   {
    "duration": 5,
    "start_time": "2024-08-20T18:56:14.290Z"
   },
   {
    "duration": 4,
    "start_time": "2024-08-20T18:56:17.676Z"
   },
   {
    "duration": 113987,
    "start_time": "2024-08-20T18:56:18.646Z"
   },
   {
    "duration": 3,
    "start_time": "2024-08-20T18:58:12.635Z"
   },
   {
    "duration": 29,
    "start_time": "2024-08-20T18:58:12.640Z"
   },
   {
    "duration": 6,
    "start_time": "2024-08-20T19:04:31.535Z"
   },
   {
    "duration": 4,
    "start_time": "2024-08-20T19:10:59.281Z"
   },
   {
    "duration": 3,
    "start_time": "2024-08-20T19:11:04.717Z"
   },
   {
    "duration": 1141,
    "start_time": "2024-08-20T19:11:10.438Z"
   },
   {
    "duration": 2593,
    "start_time": "2024-08-20T19:21:14.378Z"
   },
   {
    "duration": 1354,
    "start_time": "2024-08-20T19:21:16.974Z"
   },
   {
    "duration": 186,
    "start_time": "2024-08-20T19:21:18.330Z"
   },
   {
    "duration": 2,
    "start_time": "2024-08-20T19:21:18.517Z"
   },
   {
    "duration": 988,
    "start_time": "2024-08-20T19:21:18.521Z"
   },
   {
    "duration": 18,
    "start_time": "2024-08-20T19:21:19.511Z"
   },
   {
    "duration": 58,
    "start_time": "2024-08-20T19:21:19.530Z"
   },
   {
    "duration": 247,
    "start_time": "2024-08-20T19:21:19.590Z"
   },
   {
    "duration": 9,
    "start_time": "2024-08-20T19:21:19.838Z"
   },
   {
    "duration": 3817,
    "start_time": "2024-08-20T19:21:19.849Z"
   },
   {
    "duration": 3,
    "start_time": "2024-08-20T19:21:23.673Z"
   },
   {
    "duration": 6,
    "start_time": "2024-08-20T19:21:23.677Z"
   },
   {
    "duration": 4,
    "start_time": "2024-08-20T19:21:23.685Z"
   },
   {
    "duration": 26,
    "start_time": "2024-08-20T19:21:23.692Z"
   },
   {
    "duration": 4,
    "start_time": "2024-08-20T19:21:23.720Z"
   },
   {
    "duration": 6,
    "start_time": "2024-08-20T19:21:23.725Z"
   },
   {
    "duration": 10,
    "start_time": "2024-08-20T19:21:23.732Z"
   },
   {
    "duration": 555981,
    "start_time": "2024-08-20T19:21:23.743Z"
   },
   {
    "duration": 6,
    "start_time": "2024-08-20T19:30:39.726Z"
   },
   {
    "duration": 81,
    "start_time": "2024-08-20T19:30:39.734Z"
   },
   {
    "duration": 3,
    "start_time": "2024-08-20T19:30:39.817Z"
   },
   {
    "duration": 7078,
    "start_time": "2024-08-20T19:30:39.821Z"
   },
   {
    "duration": 4,
    "start_time": "2024-08-20T19:30:46.900Z"
   },
   {
    "duration": 12,
    "start_time": "2024-08-20T19:30:46.905Z"
   },
   {
    "duration": 122738,
    "start_time": "2024-08-20T19:30:46.919Z"
   },
   {
    "duration": 4,
    "start_time": "2024-08-20T19:32:49.660Z"
   },
   {
    "duration": 33,
    "start_time": "2024-08-20T19:32:49.666Z"
   }
  ],
  "kernelspec": {
   "display_name": "Python 3 (ipykernel)",
   "language": "python",
   "name": "python3"
  },
  "language_info": {
   "codemirror_mode": {
    "name": "ipython",
    "version": 3
   },
   "file_extension": ".py",
   "mimetype": "text/x-python",
   "name": "python",
   "nbconvert_exporter": "python",
   "pygments_lexer": "ipython3",
   "version": "3.9.5"
  },
  "toc": {
   "base_numbering": 1,
   "nav_menu": {},
   "number_sections": true,
   "sideBar": true,
   "skip_h1_title": true,
   "title_cell": "Содержание",
   "title_sidebar": "Contents",
   "toc_cell": true,
   "toc_position": {
    "height": "calc(100% - 180px)",
    "left": "10px",
    "top": "150px",
    "width": "302.391px"
   },
   "toc_section_display": true,
   "toc_window_display": true
  }
 },
 "nbformat": 4,
 "nbformat_minor": 2
}
