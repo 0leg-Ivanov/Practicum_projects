{
 "cells": [
  {
   "cell_type": "markdown",
   "metadata": {},
   "source": [
    "# Выбор локации для скважины"
   ]
  },
  {
   "cell_type": "markdown",
   "metadata": {},
   "source": [
    "Допустим, вы работаете в добывающей компании «ГлавРосГосНефть». Нужно решить, где бурить новую скважину.\n",
    "\n",
    "Вам предоставлены пробы нефти в трёх регионах: в каждом 10 000 месторождений, где измерили качество нефти и объём её запасов. Постройте модель машинного обучения, которая поможет определить регион, где добыча принесёт наибольшую прибыль. Проанализируйте возможную прибыль и риски техникой *Bootstrap.*\n",
    "\n",
    "Шаги для выбора локации:\n",
    "\n",
    "- В избранном регионе ищут месторождения, для каждого определяют значения признаков;\n",
    "- Строят модель и оценивают объём запасов;\n",
    "- Выбирают месторождения с самым высокими оценками значений. Количество месторождений зависит от бюджета компании и стоимости разработки одной скважины;\n",
    "- Прибыль равна суммарной прибыли отобранных месторождений."
   ]
  },
  {
   "cell_type": "markdown",
   "metadata": {},
   "source": [
    "<hr>\n",
    "<div align='center'><b>Описание данных</b></div>\n",
    "\n",
    "<ul> \n",
    "<li><b>id</b> — уникальный идентификатор скважины;</li>\n",
    "<li><b>f0, f1, f2</b> — три признака точек (неважно, что они означают, но сами признаки значимы);</li>\n",
    "<li><b>product</b> — объём запасов в скважине (тыс. баррелей).</li>\n",
    "</ul>\n",
    "\n",
    "<hr>\n",
    "<div align='center'><b>План работы</b></div>\n",
    "\n",
    "1. Загрузка и подготовка данных\n",
    "2. Обучение и проверка модели\n",
    "3. Подготовка к расчёту прибыли\n",
    "4. Расчёт прибыли и рисков\n",
    "5. Итоговые выводы"
   ]
  },
  {
   "cell_type": "code",
   "execution_count": 1,
   "metadata": {},
   "outputs": [],
   "source": [
    "import warnings\n",
    "\n",
    "warnings.filterwarnings('ignore')"
   ]
  },
  {
   "cell_type": "code",
   "execution_count": 2,
   "metadata": {},
   "outputs": [],
   "source": [
    "import pandas as pd\n",
    "import numpy as np\n",
    "import math\n",
    "import re\n",
    "import csv\n",
    "from matplotlib import pyplot as plt\n",
    "import seaborn as sns\n",
    "from scipy import stats as st\n",
    "import logging\n",
    "import contextlib\n",
    "import sys\n",
    "\n",
    "\n",
    "from sklearn.model_selection import train_test_split\n",
    "from sklearn.preprocessing import StandardScaler\n",
    "from sklearn.linear_model import LinearRegression\n",
    "from sklearn.metrics import mean_squared_error"
   ]
  },
  {
   "cell_type": "markdown",
   "metadata": {},
   "source": [
    "## Загрузка и подготовка данных"
   ]
  },
  {
   "cell_type": "code",
   "execution_count": 3,
   "metadata": {},
   "outputs": [],
   "source": [
    "def csv_download(file_name: str) -> pd.DataFrame:\n",
    "    '''Accepts the name of the file(the file name is specified with the extension, \n",
    "    if the file does not lie in the folder with this notebook, \n",
    "    the full path should be specified). \n",
    "    Selects the delimiter and decimal separator for correct data reading.\n",
    "    Returns the DataFrame object obtained from the file with the passed name.'''\n",
    "    \n",
    "    sniffer = csv.Sniffer()\n",
    "    with open(file_name) as file:\n",
    "        sample = file.read(5000)\n",
    "        delimiter = sniffer.sniff(sample).delimiter\n",
    "        \n",
    "        file.seek(0)\n",
    "        reader = csv.reader(file, delimiter=delimiter)\n",
    "        decimal_counts = {'.': 0, ',': 0}\n",
    "        for row in reader:\n",
    "            for cell in row:\n",
    "                if re.match(r'^\\d+,\\d+$', cell):\n",
    "                    decimal_counts[','] += 1\n",
    "                elif re.match(r'^\\d+\\.\\d+$', cell):\n",
    "                    decimal_counts['.'] += 1\n",
    "        decimal_separator = max(decimal_counts, key=decimal_counts.get)\n",
    "        \n",
    "        file.seek(0)\n",
    "        data = pd.read_csv(file, decimal=decimal_separator, delimiter=delimiter)\n",
    "        \n",
    "    return data"
   ]
  },
  {
   "cell_type": "code",
   "execution_count": 4,
   "metadata": {},
   "outputs": [],
   "source": [
    "def batch_opening(file_names: list[str]) -> tuple[pd.DataFrame]:\n",
    "    '''Accepts a list with file names \n",
    "    (the file name is specified with the extension, \n",
    "    if the file does not lie in the folder with this notebook, \n",
    "    the full path should be specified). \n",
    "    Returns a tuple of DataFrame objects, \n",
    "    the number of which is equal to the number of file names.'''\n",
    "    \n",
    "    results = []\n",
    "    for file_name in file_names:\n",
    "        results.append(csv_download(file_name))\n",
    "    return results"
   ]
  },
  {
   "cell_type": "code",
   "execution_count": 5,
   "metadata": {},
   "outputs": [],
   "source": [
    "def show_data(frame_names: list[str]) -> None:\n",
    "    '''Takes a list of DataFrame names, and for each name, \n",
    "    it prints a formatted header, displays the first few rows, \n",
    "    and shows the summary information of the corresponding DataFrame.'''\n",
    "    \n",
    "    for i, data in enumerate(frame_names, 0):\n",
    "        print()\n",
    "        print(f\"\\033[92mДАННЫЕ ИЗ ФАЙЛА \\033[1m{data}\".center(140))\n",
    "        display(globals()[data].head())\n",
    "        display(globals()[data].info())"
   ]
  },
  {
   "cell_type": "code",
   "execution_count": 6,
   "metadata": {},
   "outputs": [],
   "source": [
    "def cor_heatmap(df: pd.DataFrame, parameters: list[str], \n",
    "                kind: str = 'Spearman', n_round: int=2,\n",
    "                figsize: tuple[int] = (10, 10)) -> None:\n",
    "    '''Heatmap of the correlation matrix (df[parameters])'''\n",
    "    \n",
    "    if kind == 'Phik':\n",
    "        types = df.dtypes.reset_index()\n",
    "        types.columns = ['index', 'type']\n",
    "        quantitive = list(types.loc[(types['type'] == 'int64') | (types['type'] == 'float64'), 'index'])\n",
    "        data_corr = df[parameters].phik_matrix(quantitive)\n",
    "    elif kind == 'Pearson':\n",
    "        data_corr = df[parameters].corr()\n",
    "    elif kind == 'Spearman':\n",
    "        data_corr = df[parameters].corr(method='spearman')\n",
    "    plt.figure(figsize=figsize)\n",
    "    mask = np.triu(np.ones_like(data_corr, dtype=bool))\n",
    "    sns.heatmap(data_corr, \n",
    "                annot=True, \n",
    "                cmap='coolwarm',\n",
    "                mask=mask,\n",
    "                fmt=f\".{n_round}f\", \n",
    "                vmin=-1, \n",
    "                vmax=1, \n",
    "                center=0) \n",
    "    plt.title(f'Матрица корреляций, использующая метод {kind}', \n",
    "                 weight='bold', \n",
    "                 size=15, \n",
    "                 color='darkred', \n",
    "                 pad=20)\n",
    "    plt.show()"
   ]
  },
  {
   "cell_type": "markdown",
   "metadata": {},
   "source": [
    "<hr>\n",
    "\n",
    "Загрузим данные из файлов и посмотрим основную информацию о них.\n",
    "\n",
    "<hr>"
   ]
  },
  {
   "cell_type": "code",
   "execution_count": 7,
   "metadata": {},
   "outputs": [],
   "source": [
    "file_names=['/datasets/geo_data_0.csv', \n",
    "            '/datasets/geo_data_1.csv', \n",
    "            '/datasets/geo_data_2.csv']\n",
    "geo_data_0, geo_data_1, geo_data_2 = batch_opening(file_names)"
   ]
  },
  {
   "cell_type": "code",
   "execution_count": 8,
   "metadata": {},
   "outputs": [
    {
     "name": "stdout",
     "output_type": "stream",
     "text": [
      "\n",
      "                                                    \u001b[92mДАННЫЕ ИЗ ФАЙЛА \u001b[1mgeo_data_0                                                     \n"
     ]
    },
    {
     "data": {
      "text/html": [
       "<div>\n",
       "<style scoped>\n",
       "    .dataframe tbody tr th:only-of-type {\n",
       "        vertical-align: middle;\n",
       "    }\n",
       "\n",
       "    .dataframe tbody tr th {\n",
       "        vertical-align: top;\n",
       "    }\n",
       "\n",
       "    .dataframe thead th {\n",
       "        text-align: right;\n",
       "    }\n",
       "</style>\n",
       "<table border=\"1\" class=\"dataframe\">\n",
       "  <thead>\n",
       "    <tr style=\"text-align: right;\">\n",
       "      <th></th>\n",
       "      <th>id</th>\n",
       "      <th>f0</th>\n",
       "      <th>f1</th>\n",
       "      <th>f2</th>\n",
       "      <th>product</th>\n",
       "    </tr>\n",
       "  </thead>\n",
       "  <tbody>\n",
       "    <tr>\n",
       "      <th>0</th>\n",
       "      <td>txEyH</td>\n",
       "      <td>0.705745</td>\n",
       "      <td>-0.497823</td>\n",
       "      <td>1.221170</td>\n",
       "      <td>105.280062</td>\n",
       "    </tr>\n",
       "    <tr>\n",
       "      <th>1</th>\n",
       "      <td>2acmU</td>\n",
       "      <td>1.334711</td>\n",
       "      <td>-0.340164</td>\n",
       "      <td>4.365080</td>\n",
       "      <td>73.037750</td>\n",
       "    </tr>\n",
       "    <tr>\n",
       "      <th>2</th>\n",
       "      <td>409Wp</td>\n",
       "      <td>1.022732</td>\n",
       "      <td>0.151990</td>\n",
       "      <td>1.419926</td>\n",
       "      <td>85.265647</td>\n",
       "    </tr>\n",
       "    <tr>\n",
       "      <th>3</th>\n",
       "      <td>iJLyR</td>\n",
       "      <td>-0.032172</td>\n",
       "      <td>0.139033</td>\n",
       "      <td>2.978566</td>\n",
       "      <td>168.620776</td>\n",
       "    </tr>\n",
       "    <tr>\n",
       "      <th>4</th>\n",
       "      <td>Xdl7t</td>\n",
       "      <td>1.988431</td>\n",
       "      <td>0.155413</td>\n",
       "      <td>4.751769</td>\n",
       "      <td>154.036647</td>\n",
       "    </tr>\n",
       "  </tbody>\n",
       "</table>\n",
       "</div>"
      ],
      "text/plain": [
       "      id        f0        f1        f2     product\n",
       "0  txEyH  0.705745 -0.497823  1.221170  105.280062\n",
       "1  2acmU  1.334711 -0.340164  4.365080   73.037750\n",
       "2  409Wp  1.022732  0.151990  1.419926   85.265647\n",
       "3  iJLyR -0.032172  0.139033  2.978566  168.620776\n",
       "4  Xdl7t  1.988431  0.155413  4.751769  154.036647"
      ]
     },
     "metadata": {},
     "output_type": "display_data"
    },
    {
     "name": "stdout",
     "output_type": "stream",
     "text": [
      "<class 'pandas.core.frame.DataFrame'>\n",
      "RangeIndex: 100000 entries, 0 to 99999\n",
      "Data columns (total 5 columns):\n",
      " #   Column   Non-Null Count   Dtype  \n",
      "---  ------   --------------   -----  \n",
      " 0   id       100000 non-null  object \n",
      " 1   f0       100000 non-null  float64\n",
      " 2   f1       100000 non-null  float64\n",
      " 3   f2       100000 non-null  float64\n",
      " 4   product  100000 non-null  float64\n",
      "dtypes: float64(4), object(1)\n",
      "memory usage: 3.8+ MB\n"
     ]
    },
    {
     "data": {
      "text/plain": [
       "None"
      ]
     },
     "metadata": {},
     "output_type": "display_data"
    },
    {
     "name": "stdout",
     "output_type": "stream",
     "text": [
      "\n",
      "                                                    \u001b[92mДАННЫЕ ИЗ ФАЙЛА \u001b[1mgeo_data_1                                                     \n"
     ]
    },
    {
     "data": {
      "text/html": [
       "<div>\n",
       "<style scoped>\n",
       "    .dataframe tbody tr th:only-of-type {\n",
       "        vertical-align: middle;\n",
       "    }\n",
       "\n",
       "    .dataframe tbody tr th {\n",
       "        vertical-align: top;\n",
       "    }\n",
       "\n",
       "    .dataframe thead th {\n",
       "        text-align: right;\n",
       "    }\n",
       "</style>\n",
       "<table border=\"1\" class=\"dataframe\">\n",
       "  <thead>\n",
       "    <tr style=\"text-align: right;\">\n",
       "      <th></th>\n",
       "      <th>id</th>\n",
       "      <th>f0</th>\n",
       "      <th>f1</th>\n",
       "      <th>f2</th>\n",
       "      <th>product</th>\n",
       "    </tr>\n",
       "  </thead>\n",
       "  <tbody>\n",
       "    <tr>\n",
       "      <th>0</th>\n",
       "      <td>kBEdx</td>\n",
       "      <td>-15.001348</td>\n",
       "      <td>-8.276000</td>\n",
       "      <td>-0.005876</td>\n",
       "      <td>3.179103</td>\n",
       "    </tr>\n",
       "    <tr>\n",
       "      <th>1</th>\n",
       "      <td>62mP7</td>\n",
       "      <td>14.272088</td>\n",
       "      <td>-3.475083</td>\n",
       "      <td>0.999183</td>\n",
       "      <td>26.953261</td>\n",
       "    </tr>\n",
       "    <tr>\n",
       "      <th>2</th>\n",
       "      <td>vyE1P</td>\n",
       "      <td>6.263187</td>\n",
       "      <td>-5.948386</td>\n",
       "      <td>5.001160</td>\n",
       "      <td>134.766305</td>\n",
       "    </tr>\n",
       "    <tr>\n",
       "      <th>3</th>\n",
       "      <td>KcrkZ</td>\n",
       "      <td>-13.081196</td>\n",
       "      <td>-11.506057</td>\n",
       "      <td>4.999415</td>\n",
       "      <td>137.945408</td>\n",
       "    </tr>\n",
       "    <tr>\n",
       "      <th>4</th>\n",
       "      <td>AHL4O</td>\n",
       "      <td>12.702195</td>\n",
       "      <td>-8.147433</td>\n",
       "      <td>5.004363</td>\n",
       "      <td>134.766305</td>\n",
       "    </tr>\n",
       "  </tbody>\n",
       "</table>\n",
       "</div>"
      ],
      "text/plain": [
       "      id         f0         f1        f2     product\n",
       "0  kBEdx -15.001348  -8.276000 -0.005876    3.179103\n",
       "1  62mP7  14.272088  -3.475083  0.999183   26.953261\n",
       "2  vyE1P   6.263187  -5.948386  5.001160  134.766305\n",
       "3  KcrkZ -13.081196 -11.506057  4.999415  137.945408\n",
       "4  AHL4O  12.702195  -8.147433  5.004363  134.766305"
      ]
     },
     "metadata": {},
     "output_type": "display_data"
    },
    {
     "name": "stdout",
     "output_type": "stream",
     "text": [
      "<class 'pandas.core.frame.DataFrame'>\n",
      "RangeIndex: 100000 entries, 0 to 99999\n",
      "Data columns (total 5 columns):\n",
      " #   Column   Non-Null Count   Dtype  \n",
      "---  ------   --------------   -----  \n",
      " 0   id       100000 non-null  object \n",
      " 1   f0       100000 non-null  float64\n",
      " 2   f1       100000 non-null  float64\n",
      " 3   f2       100000 non-null  float64\n",
      " 4   product  100000 non-null  float64\n",
      "dtypes: float64(4), object(1)\n",
      "memory usage: 3.8+ MB\n"
     ]
    },
    {
     "data": {
      "text/plain": [
       "None"
      ]
     },
     "metadata": {},
     "output_type": "display_data"
    },
    {
     "name": "stdout",
     "output_type": "stream",
     "text": [
      "\n",
      "                                                    \u001b[92mДАННЫЕ ИЗ ФАЙЛА \u001b[1mgeo_data_2                                                     \n"
     ]
    },
    {
     "data": {
      "text/html": [
       "<div>\n",
       "<style scoped>\n",
       "    .dataframe tbody tr th:only-of-type {\n",
       "        vertical-align: middle;\n",
       "    }\n",
       "\n",
       "    .dataframe tbody tr th {\n",
       "        vertical-align: top;\n",
       "    }\n",
       "\n",
       "    .dataframe thead th {\n",
       "        text-align: right;\n",
       "    }\n",
       "</style>\n",
       "<table border=\"1\" class=\"dataframe\">\n",
       "  <thead>\n",
       "    <tr style=\"text-align: right;\">\n",
       "      <th></th>\n",
       "      <th>id</th>\n",
       "      <th>f0</th>\n",
       "      <th>f1</th>\n",
       "      <th>f2</th>\n",
       "      <th>product</th>\n",
       "    </tr>\n",
       "  </thead>\n",
       "  <tbody>\n",
       "    <tr>\n",
       "      <th>0</th>\n",
       "      <td>fwXo0</td>\n",
       "      <td>-1.146987</td>\n",
       "      <td>0.963328</td>\n",
       "      <td>-0.828965</td>\n",
       "      <td>27.758673</td>\n",
       "    </tr>\n",
       "    <tr>\n",
       "      <th>1</th>\n",
       "      <td>WJtFt</td>\n",
       "      <td>0.262778</td>\n",
       "      <td>0.269839</td>\n",
       "      <td>-2.530187</td>\n",
       "      <td>56.069697</td>\n",
       "    </tr>\n",
       "    <tr>\n",
       "      <th>2</th>\n",
       "      <td>ovLUW</td>\n",
       "      <td>0.194587</td>\n",
       "      <td>0.289035</td>\n",
       "      <td>-5.586433</td>\n",
       "      <td>62.871910</td>\n",
       "    </tr>\n",
       "    <tr>\n",
       "      <th>3</th>\n",
       "      <td>q6cA6</td>\n",
       "      <td>2.236060</td>\n",
       "      <td>-0.553760</td>\n",
       "      <td>0.930038</td>\n",
       "      <td>114.572842</td>\n",
       "    </tr>\n",
       "    <tr>\n",
       "      <th>4</th>\n",
       "      <td>WPMUX</td>\n",
       "      <td>-0.515993</td>\n",
       "      <td>1.716266</td>\n",
       "      <td>5.899011</td>\n",
       "      <td>149.600746</td>\n",
       "    </tr>\n",
       "  </tbody>\n",
       "</table>\n",
       "</div>"
      ],
      "text/plain": [
       "      id        f0        f1        f2     product\n",
       "0  fwXo0 -1.146987  0.963328 -0.828965   27.758673\n",
       "1  WJtFt  0.262778  0.269839 -2.530187   56.069697\n",
       "2  ovLUW  0.194587  0.289035 -5.586433   62.871910\n",
       "3  q6cA6  2.236060 -0.553760  0.930038  114.572842\n",
       "4  WPMUX -0.515993  1.716266  5.899011  149.600746"
      ]
     },
     "metadata": {},
     "output_type": "display_data"
    },
    {
     "name": "stdout",
     "output_type": "stream",
     "text": [
      "<class 'pandas.core.frame.DataFrame'>\n",
      "RangeIndex: 100000 entries, 0 to 99999\n",
      "Data columns (total 5 columns):\n",
      " #   Column   Non-Null Count   Dtype  \n",
      "---  ------   --------------   -----  \n",
      " 0   id       100000 non-null  object \n",
      " 1   f0       100000 non-null  float64\n",
      " 2   f1       100000 non-null  float64\n",
      " 3   f2       100000 non-null  float64\n",
      " 4   product  100000 non-null  float64\n",
      "dtypes: float64(4), object(1)\n",
      "memory usage: 3.8+ MB\n"
     ]
    },
    {
     "data": {
      "text/plain": [
       "None"
      ]
     },
     "metadata": {},
     "output_type": "display_data"
    }
   ],
   "source": [
    "show_data(['geo_data_0', 'geo_data_1', 'geo_data_2'])"
   ]
  },
  {
   "cell_type": "markdown",
   "metadata": {},
   "source": [
    "<hr>\n",
    "\n",
    "Посмотрим наличие дубликатов по \"id\" в фреймах.\n",
    "\n",
    "<hr>"
   ]
  },
  {
   "cell_type": "code",
   "execution_count": 9,
   "metadata": {},
   "outputs": [
    {
     "name": "stdout",
     "output_type": "stream",
     "text": [
      "Дубликаты id в фрейме geo_data_0: 10\n",
      "Дубликаты id в фрейме geo_data_1: 4\n",
      "Дубликаты id в фрейме geo_data_2: 4\n"
     ]
    }
   ],
   "source": [
    "for data in ['geo_data_0', 'geo_data_1', 'geo_data_2']:\n",
    "    print(f\"Дубликаты id в фрейме {data}: {globals()[data]['id'].duplicated().sum()}\")"
   ]
  },
  {
   "cell_type": "code",
   "execution_count": 10,
   "metadata": {},
   "outputs": [
    {
     "data": {
      "text/html": [
       "<div>\n",
       "<style scoped>\n",
       "    .dataframe tbody tr th:only-of-type {\n",
       "        vertical-align: middle;\n",
       "    }\n",
       "\n",
       "    .dataframe tbody tr th {\n",
       "        vertical-align: top;\n",
       "    }\n",
       "\n",
       "    .dataframe thead th {\n",
       "        text-align: right;\n",
       "    }\n",
       "</style>\n",
       "<table border=\"1\" class=\"dataframe\">\n",
       "  <thead>\n",
       "    <tr style=\"text-align: right;\">\n",
       "      <th></th>\n",
       "      <th>id</th>\n",
       "      <th>f0</th>\n",
       "      <th>f1</th>\n",
       "      <th>f2</th>\n",
       "      <th>product</th>\n",
       "    </tr>\n",
       "  </thead>\n",
       "  <tbody>\n",
       "    <tr>\n",
       "      <th>66136</th>\n",
       "      <td>74z30</td>\n",
       "      <td>1.084962</td>\n",
       "      <td>-0.312358</td>\n",
       "      <td>6.990771</td>\n",
       "      <td>127.643327</td>\n",
       "    </tr>\n",
       "    <tr>\n",
       "      <th>64022</th>\n",
       "      <td>74z30</td>\n",
       "      <td>0.741456</td>\n",
       "      <td>0.459229</td>\n",
       "      <td>5.153109</td>\n",
       "      <td>140.771492</td>\n",
       "    </tr>\n",
       "    <tr>\n",
       "      <th>51970</th>\n",
       "      <td>A5aEY</td>\n",
       "      <td>-0.180335</td>\n",
       "      <td>0.935548</td>\n",
       "      <td>-2.094773</td>\n",
       "      <td>33.020205</td>\n",
       "    </tr>\n",
       "    <tr>\n",
       "      <th>3389</th>\n",
       "      <td>A5aEY</td>\n",
       "      <td>-0.039949</td>\n",
       "      <td>0.156872</td>\n",
       "      <td>0.209861</td>\n",
       "      <td>89.249364</td>\n",
       "    </tr>\n",
       "    <tr>\n",
       "      <th>69163</th>\n",
       "      <td>AGS9W</td>\n",
       "      <td>-0.933795</td>\n",
       "      <td>0.116194</td>\n",
       "      <td>-3.655896</td>\n",
       "      <td>19.230453</td>\n",
       "    </tr>\n",
       "    <tr>\n",
       "      <th>42529</th>\n",
       "      <td>AGS9W</td>\n",
       "      <td>1.454747</td>\n",
       "      <td>-0.479651</td>\n",
       "      <td>0.683380</td>\n",
       "      <td>126.370504</td>\n",
       "    </tr>\n",
       "    <tr>\n",
       "      <th>931</th>\n",
       "      <td>HZww2</td>\n",
       "      <td>0.755284</td>\n",
       "      <td>0.368511</td>\n",
       "      <td>1.863211</td>\n",
       "      <td>30.681774</td>\n",
       "    </tr>\n",
       "    <tr>\n",
       "      <th>7530</th>\n",
       "      <td>HZww2</td>\n",
       "      <td>1.061194</td>\n",
       "      <td>-0.373969</td>\n",
       "      <td>10.430210</td>\n",
       "      <td>158.828695</td>\n",
       "    </tr>\n",
       "    <tr>\n",
       "      <th>63593</th>\n",
       "      <td>QcMuo</td>\n",
       "      <td>0.635635</td>\n",
       "      <td>-0.473422</td>\n",
       "      <td>0.862670</td>\n",
       "      <td>64.578675</td>\n",
       "    </tr>\n",
       "    <tr>\n",
       "      <th>1949</th>\n",
       "      <td>QcMuo</td>\n",
       "      <td>0.506563</td>\n",
       "      <td>-0.323775</td>\n",
       "      <td>-2.215583</td>\n",
       "      <td>75.496502</td>\n",
       "    </tr>\n",
       "    <tr>\n",
       "      <th>75715</th>\n",
       "      <td>Tdehs</td>\n",
       "      <td>0.112079</td>\n",
       "      <td>0.430296</td>\n",
       "      <td>3.218993</td>\n",
       "      <td>60.964018</td>\n",
       "    </tr>\n",
       "    <tr>\n",
       "      <th>21426</th>\n",
       "      <td>Tdehs</td>\n",
       "      <td>0.829407</td>\n",
       "      <td>0.298807</td>\n",
       "      <td>-0.049563</td>\n",
       "      <td>96.035308</td>\n",
       "    </tr>\n",
       "    <tr>\n",
       "      <th>92341</th>\n",
       "      <td>TtcGQ</td>\n",
       "      <td>0.110711</td>\n",
       "      <td>1.022689</td>\n",
       "      <td>0.911381</td>\n",
       "      <td>101.318008</td>\n",
       "    </tr>\n",
       "    <tr>\n",
       "      <th>60140</th>\n",
       "      <td>TtcGQ</td>\n",
       "      <td>0.569276</td>\n",
       "      <td>-0.104876</td>\n",
       "      <td>6.440215</td>\n",
       "      <td>85.350186</td>\n",
       "    </tr>\n",
       "    <tr>\n",
       "      <th>89582</th>\n",
       "      <td>bsk9y</td>\n",
       "      <td>0.398908</td>\n",
       "      <td>-0.400253</td>\n",
       "      <td>10.122376</td>\n",
       "      <td>163.433078</td>\n",
       "    </tr>\n",
       "    <tr>\n",
       "      <th>97785</th>\n",
       "      <td>bsk9y</td>\n",
       "      <td>0.378429</td>\n",
       "      <td>0.005837</td>\n",
       "      <td>0.160827</td>\n",
       "      <td>160.637302</td>\n",
       "    </tr>\n",
       "    <tr>\n",
       "      <th>41724</th>\n",
       "      <td>bxg6G</td>\n",
       "      <td>-0.823752</td>\n",
       "      <td>0.546319</td>\n",
       "      <td>3.630479</td>\n",
       "      <td>93.007798</td>\n",
       "    </tr>\n",
       "    <tr>\n",
       "      <th>1364</th>\n",
       "      <td>bxg6G</td>\n",
       "      <td>0.411645</td>\n",
       "      <td>0.856830</td>\n",
       "      <td>-3.653440</td>\n",
       "      <td>73.604260</td>\n",
       "    </tr>\n",
       "    <tr>\n",
       "      <th>16633</th>\n",
       "      <td>fiKDv</td>\n",
       "      <td>0.157341</td>\n",
       "      <td>1.028359</td>\n",
       "      <td>5.585586</td>\n",
       "      <td>95.817889</td>\n",
       "    </tr>\n",
       "    <tr>\n",
       "      <th>90815</th>\n",
       "      <td>fiKDv</td>\n",
       "      <td>0.049883</td>\n",
       "      <td>0.841313</td>\n",
       "      <td>6.394613</td>\n",
       "      <td>137.346586</td>\n",
       "    </tr>\n",
       "  </tbody>\n",
       "</table>\n",
       "</div>"
      ],
      "text/plain": [
       "          id        f0        f1         f2     product\n",
       "66136  74z30  1.084962 -0.312358   6.990771  127.643327\n",
       "64022  74z30  0.741456  0.459229   5.153109  140.771492\n",
       "51970  A5aEY -0.180335  0.935548  -2.094773   33.020205\n",
       "3389   A5aEY -0.039949  0.156872   0.209861   89.249364\n",
       "69163  AGS9W -0.933795  0.116194  -3.655896   19.230453\n",
       "42529  AGS9W  1.454747 -0.479651   0.683380  126.370504\n",
       "931    HZww2  0.755284  0.368511   1.863211   30.681774\n",
       "7530   HZww2  1.061194 -0.373969  10.430210  158.828695\n",
       "63593  QcMuo  0.635635 -0.473422   0.862670   64.578675\n",
       "1949   QcMuo  0.506563 -0.323775  -2.215583   75.496502\n",
       "75715  Tdehs  0.112079  0.430296   3.218993   60.964018\n",
       "21426  Tdehs  0.829407  0.298807  -0.049563   96.035308\n",
       "92341  TtcGQ  0.110711  1.022689   0.911381  101.318008\n",
       "60140  TtcGQ  0.569276 -0.104876   6.440215   85.350186\n",
       "89582  bsk9y  0.398908 -0.400253  10.122376  163.433078\n",
       "97785  bsk9y  0.378429  0.005837   0.160827  160.637302\n",
       "41724  bxg6G -0.823752  0.546319   3.630479   93.007798\n",
       "1364   bxg6G  0.411645  0.856830  -3.653440   73.604260\n",
       "16633  fiKDv  0.157341  1.028359   5.585586   95.817889\n",
       "90815  fiKDv  0.049883  0.841313   6.394613  137.346586"
      ]
     },
     "execution_count": 10,
     "metadata": {},
     "output_type": "execute_result"
    }
   ],
   "source": [
    "geo_data_0[geo_data_0['id'].duplicated(keep=False)].sort_values('id')"
   ]
  },
  {
   "cell_type": "markdown",
   "metadata": {},
   "source": [
    "<hr>\n",
    "\n",
    "Данные дублируются, возможно по этим скважинам были проведены дополнительные геологические исследования, котороые помогли уточнить результаты, уберем строчки с меньшим значением.\n",
    "\n",
    "<hr>"
   ]
  },
  {
   "cell_type": "code",
   "execution_count": 11,
   "metadata": {},
   "outputs": [],
   "source": [
    "geo_data_0 = geo_data_0.loc[geo_data_0.groupby('id')['product'].idxmax()].reset_index(drop=True)\n",
    "geo_data_1 = geo_data_1.loc[geo_data_1.groupby('id')['product'].idxmax()].reset_index(drop=True)\n",
    "geo_data_2 = geo_data_2.loc[geo_data_2.groupby('id')['product'].idxmax()].reset_index(drop=True)"
   ]
  },
  {
   "cell_type": "code",
   "execution_count": 12,
   "metadata": {},
   "outputs": [
    {
     "data": {
      "text/html": [
       "<div>\n",
       "<style scoped>\n",
       "    .dataframe tbody tr th:only-of-type {\n",
       "        vertical-align: middle;\n",
       "    }\n",
       "\n",
       "    .dataframe tbody tr th {\n",
       "        vertical-align: top;\n",
       "    }\n",
       "\n",
       "    .dataframe thead th {\n",
       "        text-align: right;\n",
       "    }\n",
       "</style>\n",
       "<table border=\"1\" class=\"dataframe\">\n",
       "  <thead>\n",
       "    <tr style=\"text-align: right;\">\n",
       "      <th></th>\n",
       "      <th>id</th>\n",
       "      <th>f0</th>\n",
       "      <th>f1</th>\n",
       "      <th>f2</th>\n",
       "      <th>product</th>\n",
       "    </tr>\n",
       "  </thead>\n",
       "  <tbody>\n",
       "    <tr>\n",
       "      <th>0</th>\n",
       "      <td>006OJ</td>\n",
       "      <td>1.289189</td>\n",
       "      <td>-0.623324</td>\n",
       "      <td>3.642039</td>\n",
       "      <td>142.822141</td>\n",
       "    </tr>\n",
       "    <tr>\n",
       "      <th>1</th>\n",
       "      <td>009eY</td>\n",
       "      <td>1.958091</td>\n",
       "      <td>0.268711</td>\n",
       "      <td>3.702938</td>\n",
       "      <td>112.036815</td>\n",
       "    </tr>\n",
       "    <tr>\n",
       "      <th>2</th>\n",
       "      <td>00AfQ</td>\n",
       "      <td>0.558807</td>\n",
       "      <td>-0.366895</td>\n",
       "      <td>-1.268154</td>\n",
       "      <td>49.659570</td>\n",
       "    </tr>\n",
       "    <tr>\n",
       "      <th>3</th>\n",
       "      <td>00AuZ</td>\n",
       "      <td>-0.968699</td>\n",
       "      <td>0.416057</td>\n",
       "      <td>3.553416</td>\n",
       "      <td>73.351787</td>\n",
       "    </tr>\n",
       "    <tr>\n",
       "      <th>4</th>\n",
       "      <td>00BTM</td>\n",
       "      <td>-0.908137</td>\n",
       "      <td>0.036964</td>\n",
       "      <td>1.053951</td>\n",
       "      <td>38.664619</td>\n",
       "    </tr>\n",
       "    <tr>\n",
       "      <th>...</th>\n",
       "      <td>...</td>\n",
       "      <td>...</td>\n",
       "      <td>...</td>\n",
       "      <td>...</td>\n",
       "      <td>...</td>\n",
       "    </tr>\n",
       "    <tr>\n",
       "      <th>99985</th>\n",
       "      <td>zzrmI</td>\n",
       "      <td>-0.696760</td>\n",
       "      <td>0.642588</td>\n",
       "      <td>0.132320</td>\n",
       "      <td>83.962231</td>\n",
       "    </tr>\n",
       "    <tr>\n",
       "      <th>99986</th>\n",
       "      <td>zzsy6</td>\n",
       "      <td>1.018014</td>\n",
       "      <td>-0.333769</td>\n",
       "      <td>2.309579</td>\n",
       "      <td>123.664999</td>\n",
       "    </tr>\n",
       "    <tr>\n",
       "      <th>99987</th>\n",
       "      <td>zztWK</td>\n",
       "      <td>-0.265504</td>\n",
       "      <td>1.037058</td>\n",
       "      <td>3.769413</td>\n",
       "      <td>158.177578</td>\n",
       "    </tr>\n",
       "    <tr>\n",
       "      <th>99988</th>\n",
       "      <td>zzyhQ</td>\n",
       "      <td>0.076828</td>\n",
       "      <td>0.278057</td>\n",
       "      <td>2.267372</td>\n",
       "      <td>156.258013</td>\n",
       "    </tr>\n",
       "    <tr>\n",
       "      <th>99989</th>\n",
       "      <td>zzzLH</td>\n",
       "      <td>0.475112</td>\n",
       "      <td>-0.304396</td>\n",
       "      <td>6.084199</td>\n",
       "      <td>164.351493</td>\n",
       "    </tr>\n",
       "  </tbody>\n",
       "</table>\n",
       "<p>99990 rows × 5 columns</p>\n",
       "</div>"
      ],
      "text/plain": [
       "          id        f0        f1        f2     product\n",
       "0      006OJ  1.289189 -0.623324  3.642039  142.822141\n",
       "1      009eY  1.958091  0.268711  3.702938  112.036815\n",
       "2      00AfQ  0.558807 -0.366895 -1.268154   49.659570\n",
       "3      00AuZ -0.968699  0.416057  3.553416   73.351787\n",
       "4      00BTM -0.908137  0.036964  1.053951   38.664619\n",
       "...      ...       ...       ...       ...         ...\n",
       "99985  zzrmI -0.696760  0.642588  0.132320   83.962231\n",
       "99986  zzsy6  1.018014 -0.333769  2.309579  123.664999\n",
       "99987  zztWK -0.265504  1.037058  3.769413  158.177578\n",
       "99988  zzyhQ  0.076828  0.278057  2.267372  156.258013\n",
       "99989  zzzLH  0.475112 -0.304396  6.084199  164.351493\n",
       "\n",
       "[99990 rows x 5 columns]"
      ]
     },
     "execution_count": 12,
     "metadata": {},
     "output_type": "execute_result"
    }
   ],
   "source": [
    "geo_data_0"
   ]
  },
  {
   "cell_type": "code",
   "execution_count": 13,
   "metadata": {},
   "outputs": [
    {
     "name": "stdout",
     "output_type": "stream",
     "text": [
      "Дубликаты id в фрейме geo_data_0: 0\n",
      "Дубликаты id в фрейме geo_data_1: 0\n",
      "Дубликаты id в фрейме geo_data_2: 0\n"
     ]
    }
   ],
   "source": [
    "for data in ['geo_data_0', 'geo_data_1', 'geo_data_2']:\n",
    "    print(f\"Дубликаты id в фрейме {data}: {globals()[data]['id'].duplicated().sum()}\")"
   ]
  },
  {
   "cell_type": "markdown",
   "metadata": {},
   "source": [
    "<hr>\n",
    "\n",
    "Построим матрицу корреляций.\n",
    "\n",
    "<hr>"
   ]
  },
  {
   "cell_type": "code",
   "execution_count": 14,
   "metadata": {},
   "outputs": [
    {
     "data": {
      "image/png": "[encoded data removed]",
      "text/plain": [
       "<Figure size 720x720 with 2 Axes>"
      ]
     },
     "metadata": {
      "needs_background": "light"
     },
     "output_type": "display_data"
    }
   ],
   "source": [
    "cor_heatmap(geo_data_0, geo_data_0.columns.drop('id'))"
   ]
  },
  {
   "cell_type": "markdown",
   "metadata": {},
   "source": [
    "<hr>\n",
    "<font size=4.5><b>Итоги раздела:</b></font>\n",
    "\n",
    "<p style='text-align: justify;'>В данном разделе были загружены данные из 3-х файлов в формате <i>.csv</i>. Данные в файлах соответствуют описанию. Были обнаружены 18 дубликатов \"id\", дубликаты с меньшим показателем объемов запасов были удалены.</p>\n",
    "\n",
    " - <b>geo_data_0</b> содержит 99990 строк и 5 столбцов. Пропущенных занчений нет. Типы данных: <i><font color='purple'>float</font></i> и <i><font color='purple'>str</font></i>.\n",
    " - <b>geo_data_1</b> содержит 99996 строк и 5 столбцов. Пропущенных занчений нет. Типы данных: <i><font color='purple'>float</font></i> и <i><font color='purple'>str</font></i>.\n",
    " - <b>geo_data_2</b> содержит 99996 строк и 5 столбцов. Пропущенных занчений нет. Типы данных: <i><font color='purple'>float</font></i> и <i><font color='purple'>str</font></i>.\n",
    "\n",
    "Построена матрица корреляций, значения коэффициентов не превышают 0.9, в данных не наблюдается мультиколлинеарность.\n",
    "\n",
    "<hr>"
   ]
  },
  {
   "cell_type": "markdown",
   "metadata": {},
   "source": [
    "## Обучение и проверка модели"
   ]
  },
  {
   "cell_type": "code",
   "execution_count": 15,
   "metadata": {},
   "outputs": [],
   "source": [
    "def standard_quant_params(quant_params: list[str], \n",
    "                          X_train: pd.DataFrame, \n",
    "                          X_test: pd.DataFrame) -> tuple[pd.DataFrame, StandardScaler]: \n",
    "    '''Normalization of quantitative parameters using StandardScaler'''\n",
    "    \n",
    "    scaler = StandardScaler()\n",
    "    X_train_scaled = scaler.fit_transform(X_train[quant_params])\n",
    "    X_test_scaled = scaler.transform(X_test[quant_params])\n",
    "    \n",
    "    scaled_train_data = pd.DataFrame(X_train_scaled, columns=quant_params)\n",
    "    scaled_test_data = pd.DataFrame(X_test_scaled, columns=quant_params)\n",
    "    \n",
    "    return scaler, scaled_train_data, scaled_test_data"
   ]
  },
  {
   "cell_type": "code",
   "execution_count": 16,
   "metadata": {},
   "outputs": [],
   "source": [
    "def residuals_analysis(y_test: pd.DataFrame, predictions: np.ndarray, \n",
    "                       figsize: tuple[int]=(16, 8), \n",
    "                       title_size: int=18, xy_labels_size: int=12) -> pd.DataFrame:\n",
    "    '''Construction of residuals histogram and scatter plot '''\n",
    "    \n",
    "        \n",
    "    residuals = y_test - predictions\n",
    "    \n",
    "    fig = plt.figure(figsize=figsize)\n",
    "    \n",
    "    \n",
    "    fig.add_subplot(1, 2, 1)\n",
    "    plt.hist(residuals, bins=20)\n",
    "    plt.title('Гистограмма распределения остатков', \n",
    "              size=title_size, \n",
    "              weight='bold',\n",
    "              color='DarkRed')\n",
    "    plt.xlabel('Остатки', \n",
    "               size=xy_labels_size, \n",
    "               weight='bold')\n",
    "    plt.grid()\n",
    "    \n",
    "    \n",
    "    fig.add_subplot(1, 2, 2)\n",
    "    plt.scatter(predictions, \n",
    "                residuals, \n",
    "                alpha=0.3)\n",
    "    plt.title('Анализ дисперсии', \n",
    "              size=title_size, \n",
    "              weight='bold',\n",
    "              color='DarkRed')\n",
    "    plt.xlabel('Предсказания модели', \n",
    "               size=xy_labels_size, \n",
    "               weight='bold')\n",
    "    plt.ylabel('Остатки', \n",
    "               size=xy_labels_size, \n",
    "               weight='bold')\n",
    "    plt.grid()\n",
    "    \n",
    "    \n",
    "    plt.show()\n",
    "    return residuals"
   ]
  },
  {
   "cell_type": "code",
   "execution_count": 17,
   "metadata": {},
   "outputs": [],
   "source": [
    "RANDOM_STATE = 1\n",
    "TEST_SIZE = 0.25"
   ]
  },
  {
   "cell_type": "code",
   "execution_count": 18,
   "metadata": {},
   "outputs": [
    {
     "name": "stdout",
     "output_type": "stream",
     "text": [
      "                                                          \u001b[92m\u001b[1mgeo_data_0\u001b[0m                                                           \n",
      "\u001b[1mСредний запас предсказанного сырья: 92.55\n",
      "RMSE модели: 37.73\n",
      "\n"
     ]
    },
    {
     "data": {
      "image/png": "[encoded data removed]",
      "text/plain": [
       "<Figure size 864x360 with 2 Axes>"
      ]
     },
     "metadata": {
      "needs_background": "light"
     },
     "output_type": "display_data"
    },
    {
     "name": "stdout",
     "output_type": "stream",
     "text": [
      "\n",
      "                                                          \u001b[92m\u001b[1mgeo_data_1\u001b[0m                                                           \n",
      "\u001b[1mСредний запас предсказанного сырья: 68.73\n",
      "RMSE модели: 0.89\n",
      "\n"
     ]
    },
    {
     "data": {
      "image/png": "[encoded data removed]",
      "text/plain": [
       "<Figure size 864x360 with 2 Axes>"
      ]
     },
     "metadata": {
      "needs_background": "light"
     },
     "output_type": "display_data"
    },
    {
     "name": "stdout",
     "output_type": "stream",
     "text": [
      "\n",
      "                                                          \u001b[92m\u001b[1mgeo_data_2\u001b[0m                                                           \n",
      "\u001b[1mСредний запас предсказанного сырья: 95.05\n",
      "RMSE модели: 40.09\n",
      "\n"
     ]
    },
    {
     "data": {
      "image/png": "[encoded data removed]",
      "text/plain": [
       "<Figure size 864x360 with 2 Axes>"
      ]
     },
     "metadata": {
      "needs_background": "light"
     },
     "output_type": "display_data"
    },
    {
     "name": "stdout",
     "output_type": "stream",
     "text": [
      "\n"
     ]
    }
   ],
   "source": [
    "preds_gd = {'geo_data_0':'pred_gd_0', 'geo_data_1':'pred_gd_1', 'geo_data_2':'pred_gd_2'}\n",
    "\n",
    "for geo_data in ['geo_data_0', 'geo_data_1', 'geo_data_2']:  \n",
    "    X_train, X_test, y_train, y_test = train_test_split(globals()[geo_data][['f0', 'f1', 'f2']], \n",
    "                                                        globals()[geo_data]['product'], \n",
    "                                                        test_size=TEST_SIZE, \n",
    "                                                        random_state=RANDOM_STATE)\n",
    "    \n",
    "    _, scaled_train_data, scaled_test_data = standard_quant_params(quant_params=['f0', \n",
    "                                                                                 'f1', \n",
    "                                                                                 'f2'], \n",
    "                                                                   X_train=X_train, \n",
    "                                                                   X_test=X_test)\n",
    "    \n",
    "    model = LinearRegression()\n",
    "    model.fit(scaled_train_data, y_train)\n",
    "    predictions = model.predict(scaled_test_data)\n",
    "    \n",
    "    globals()[preds_gd[geo_data]] = X_test.copy()\n",
    "    globals()[preds_gd[geo_data]]['product'] = y_test\n",
    "    globals()[preds_gd[geo_data]]['prediction'] = predictions\n",
    "    \n",
    "    rmse = mean_squared_error(globals()[preds_gd[geo_data]]['product'], \n",
    "                              globals()[preds_gd[geo_data]]['prediction'], \n",
    "                              squared=False)\n",
    "    average_stock = globals()[preds_gd[geo_data]]['prediction'].mean()\n",
    "    \n",
    "    print(f\"\\033[92m\\033[1m{geo_data}\\033[0m\".center(140))\n",
    "    print(f\"\\033[1mСредний запас предсказанного сырья: {round(average_stock, 2)}\")\n",
    "    print(f\"RMSE модели: {round(rmse, 2)}\", end=\"\\n\\n\")\n",
    "    residuals = residuals_analysis(y_test=y_test, \n",
    "                                   predictions=predictions, \n",
    "                                   figsize=(12, 5), \n",
    "                                   title_size=12, \n",
    "                                   xy_labels_size=10)\n",
    "    print()"
   ]
  },
  {
   "cell_type": "markdown",
   "metadata": {},
   "source": [
    "<hr>\n",
    "<font size=4.5><b>Итоги раздела:</b></font>\n",
    "\n",
    "<p style='text-align: justify;'>В данном разделе были обучены 3 модели линейной регрессии для каждого региона. Предсказания каждой модели были сохранены в отдельный фрейм, а также был посчитан средний запас предсказанного сырья и рассчитана RMSE модели.</p>\n",
    "\n",
    "Анализ остатков каждой модели показал:\n",
    "\n",
    " - У всех моделей гистограммы остатков имеют вид нормального распределения и не смещены, это означает, что в среднем модели не завышают и не занижают результат предсказания;\n",
    " - <p style='text-align: justify;'>По дисперсиям моделей для первого (<b>geo_data_0</b>) и третьего (<b>geo_data_2</b>) регионов видно, что при низких значениях предсказаний - примерно до 80, модель занижает результаты, при этом при предсказанных значениях более 120, модель наоборот завышает значения предсказаний, в среднем модель завышает предсказания на столько же, на сколько и занижает. Это означает, что там где модель предсказала высокий запас сырья, скорее всего он будет меньше, при этом там, где она предсказала низкий запас, он будет выше, таким образом в среднем по региону объем запасов будет равен предсказанному объему по региону;</p>\n",
    " - <p style='text-align: justify;'>На графике диспперсии второй модели (<b>geo_data_1</b>) видно, что разброс остатков равномерный, поэтому при любых предсказанных значениях, действительное значение запаса должно быть близко к предсказанному. Это означает, что если необходимо будет выбрать скважины с наибольшими запасами в регионе, стоит сравнить их с максимальными запасами по этому региону, так как если значения будут близки, надежнее будет выбрать скважены из данного региона из-за меньшего разброса на высоких значениях.</p>\n",
    "\n",
    "<hr>"
   ]
  },
  {
   "cell_type": "markdown",
   "metadata": {},
   "source": [
    "## Подготовка к расчёту прибыли"
   ]
  },
  {
   "cell_type": "code",
   "execution_count": 19,
   "metadata": {},
   "outputs": [],
   "source": [
    "def revenue_calculation(df: pd.DataFrame, \n",
    "                        predictions: str, \n",
    "                        true_values: str) -> int:\n",
    "    '''Calculates the expected revenue \n",
    "    based on the predicted raw material volume from oil wells.'''\n",
    "    \n",
    "    best_wells = df.sort_values(predictions, ascending=False).iloc[:BEST_WELLS_AMOUNT]\n",
    "    raw_material_volume = best_wells[true_values].sum()\n",
    "    revenue = raw_material_volume * REVENUE_PER_UNIT - BUDGET\n",
    "    \n",
    "    return revenue"
   ]
  },
  {
   "cell_type": "code",
   "execution_count": 20,
   "metadata": {},
   "outputs": [],
   "source": [
    "def show_geo_revenues(i: int, predictions_geo: pd.Series) -> None:    \n",
    "    '''Visualizes the potential profits from drilling wells in a specified geographical region'''\n",
    "    \n",
    "    state = np.random.RandomState(12345)\n",
    "    revenues = pd.Series([revenue_calculation(predictions_geo.sample(n=TEST_WELLS_AMOUNT, replace=True, random_state=state), \n",
    "                                              predictions='prediction', \n",
    "                                              true_values='product') \n",
    "                          for i in range(1000)])\n",
    "    average_revenue = revenues.mean()\n",
    "    lower_limit = revenues.quantile(0.025)\n",
    "    upper_limit = revenues.quantile(0.975)\n",
    "    loss_risk = len(revenues[revenues < 0]) / 1000 * 100\n",
    "    \n",
    "    \n",
    "    plt.figure(figsize=(9, 8))\n",
    "    revenues.hist(bins=30)\n",
    "    plt.axvline(lower_limit, color='red', linestyle='dashed', linewidth=1)\n",
    "    plt.axvline(upper_limit, color='red', linestyle='dashed', linewidth=1)\n",
    "    \n",
    "    \n",
    "    legend_text = f'''Средняя прибыль: {int(average_revenue // 1e6)} млн.\n",
    "Нижняя граница доверительного интервала: {lower_limit / 1e6:.2f} млн.\n",
    "Верхняя граница доверительного интервала: {upper_limit / 1e6:.2f} млн.\n",
    "Риск убытков: {loss_risk:.2f}%'''\n",
    "    \n",
    "    plt.legend([legend_text], bbox_to_anchor=(2, 1), fontsize=14, handlelength=0)\n",
    "    \n",
    "    plt.title(f'Распределение возможной прибыли от скважин\\nиз региона geo_{i}', \n",
    "              size=15, \n",
    "              weight='bold', \n",
    "              color='DarkRed')\n",
    "    plt.xlabel('Значение прибыли, в млн., от 200 из 500 скважин\\nс наибольшим предсказанным запасом сырья', \n",
    "               size=12, \n",
    "               weight='bold')\n",
    "    plt.ylabel('Количество в выборке', \n",
    "               size=12, \n",
    "               weight='bold')\n",
    "    plt.show()"
   ]
  },
  {
   "cell_type": "code",
   "execution_count": 21,
   "metadata": {},
   "outputs": [],
   "source": [
    "TEST_WELLS_AMOUNT = 500\n",
    "BEST_WELLS_AMOUNT = 200\n",
    "BUDGET = 10e9\n",
    "REVENUE_PER_UNIT = 450e3  \n",
    "\n",
    "predictions = [pred_gd_0, pred_gd_1, pred_gd_2]"
   ]
  },
  {
   "cell_type": "markdown",
   "metadata": {},
   "source": [
    "<hr>\n",
    "\n",
    "Рассчитаем средний объем сырья, достаточный для безубыточной разработки новой скважины. При расчете будем учитывать:\n",
    "\n",
    " - При разведке региона исследуют 500 точек, из которых с помощью машинного обучения выбирают 200 лучших для разработки;\n",
    " - Бюджет на разработку скважин в регионе — 10 млрд рублей;\n",
    " - При нынешних ценах один баррель сырья приносит 450 рублей дохода. Доход с каждой единицы продукта составляет 450 тыс. рублей, поскольку объём указан в тысячах баррелей;\n",
    "\n",
    "<hr>"
   ]
  },
  {
   "cell_type": "code",
   "execution_count": 22,
   "metadata": {},
   "outputs": [
    {
     "name": "stdout",
     "output_type": "stream",
     "text": [
      "Средний объем сырья в скважине, достаточный для ее безубыточной разработки: 111.11\n"
     ]
    }
   ],
   "source": [
    "average_breakeven_well_yield = BUDGET / BEST_WELLS_AMOUNT / REVENUE_PER_UNIT\n",
    "print(f\"Средний объем сырья в скважине, достаточный для ее безубыточной разработки: {round(average_breakeven_well_yield, 2)}\")"
   ]
  },
  {
   "cell_type": "markdown",
   "metadata": {},
   "source": [
    "<hr>\n",
    "<font size=4.5><b>Итоги раздела:</b></font>\n",
    "\n",
    "<p style='text-align: justify;'>В данном разделе был рассчитан достаточный объем сырья для безубыточной разработки новой скважины. Он получился равным 111.1 тысяч баррелей, ни в одном из регионов по предсказаниям модели нет достаточного среднего запаса сырья.</p>\n",
    "\n",
    "<p style='text-align: justify;'>Полученные результаты могут говорить о том, что при <u>случайном</u> выборе 200 скважин, без использования моделей для предсказания, вероятнее всего объема сырья в данных скважинах будет недостаточно даже для покрытия расходов на разработку этих скважин.</p>\n",
    "\n",
    "<hr>"
   ]
  },
  {
   "cell_type": "markdown",
   "metadata": {},
   "source": [
    "## Расчёт прибыли и рисков "
   ]
  },
  {
   "cell_type": "markdown",
   "metadata": {},
   "source": [
    "<hr>\n",
    "\n",
    "Рассчитаем возможную прибыль для каждого региона. Оценим Среднее значение прибыли, 95%-й доверительный интервал и риск убытков.\n",
    "\n",
    "<hr>"
   ]
  },
  {
   "cell_type": "code",
   "execution_count": 23,
   "metadata": {
    "scrolled": false
   },
   "outputs": [
    {
     "data": {
      "image/png": "[encoded data removed]",
      "text/plain": [
       "<Figure size 648x576 with 1 Axes>"
      ]
     },
     "metadata": {
      "needs_background": "light"
     },
     "output_type": "display_data"
    },
    {
     "data": {
      "image/png": "[encoded data removed]",
      "text/plain": [
       "<Figure size 648x576 with 1 Axes>"
      ]
     },
     "metadata": {
      "needs_background": "light"
     },
     "output_type": "display_data"
    },
    {
     "data": {
      "image/png": "[encoded data removed]",
      "text/plain": [
       "<Figure size 648x576 with 1 Axes>"
      ]
     },
     "metadata": {
      "needs_background": "light"
     },
     "output_type": "display_data"
    }
   ],
   "source": [
    "for i, predictions_geo in enumerate(predictions):\n",
    "    show_geo_revenues(i, predictions_geo)"
   ]
  },
  {
   "cell_type": "markdown",
   "metadata": {},
   "source": [
    "<hr>\n",
    "<font size=4.5><b>Итоги раздела:</b></font>\n",
    "\n",
    "<p style='text-align: justify;'>В данном разделе для трех регионов были рассчитаны средняя прибыль, 95%-й доверительный интервал и риск убытков. Только у одного региона вероятность убытков получилась менее 2.5%, это регион - <b>geo_1</b>, со значением средней прибыли - 461 мнл. В остальных регионах слишком высокая вероятность убытков.<br><br>Исходя из вышесказанного для разработки рекомендуется регион <b>geo_1.</b></p>\n",
    "\n",
    "<hr>"
   ]
  },
  {
   "cell_type": "markdown",
   "metadata": {},
   "source": [
    "## Итоговые выводы"
   ]
  },
  {
   "cell_type": "markdown",
   "metadata": {},
   "source": [
    "<p style='text-align: justify;'>В данной работе был проведен анализ данных, содаержащих характеристики нефтеных скважин, для компании <b>«ГлавРосГосНефть»</b>, была проанализирована возможная прибыль и риски для регионов, в результате чего определен регион с максимальной суммарной прибылью отобранных скважин.</p>\n",
    "\n",
    "<p style='text-align: justify;'>В результате предобработки данных, были обнаружены 18 дубликатов \"id\", дубликаты с меньшим показателем объемов запасов были удалены.</p>\n",
    "\n",
    "Построена матрица корреляций, значения коэффициентов не превышают 0.9, в данных не наблюдается мультиколлинеарность.\n",
    "\n",
    "<p style='text-align: justify;'>Далее были обучены 3 модели линейной регрессии для каждого региона. Предсказания каждой модели были сохранены в отдельный фрейм, а также был посчитан средний запас предсказанного сырья и рассчитана RMSE модели.</p>\n",
    "\n",
    "Анализ остатков каждой модели показал:\n",
    "\n",
    " - У всех моделей гистограммы остатков имеют вид нормального распределения и не смещены, это означает, что в среднем модели не завышают и не занижают результат предсказания;\n",
    " - <p style='text-align: justify;'>По дисперсиям моделей для первого (<b>geo_data_0</b>) и третьего (<b>geo_data_2</b>) регионов видно, что при низких значениях предсказаний - примерно до 80, модель занижает результаты, при этом при предсказанных значениях более 120, модель наоборот завышает значения предсказаний, в среднем модель завышает предсказания на столько же, на сколько и занижает. Это означает, что там где модель предсказала высокий запас сырья, скорее всего он будет меньше, при этом там, где она предсказала низкий запас, он будет выше, таким образом в среднем по региону объем запасов будет равен предсказанному объему по региону;</p>\n",
    " - <p style='text-align: justify;'>На графике диспперсии второй модели (<b>geo_data_1</b>) видно, что разброс остатков равномерный, поэтому при любых предсказанных значениях, действительное значение запаса должно быть близко к предсказанному. Это означает, что если необходимо будет выбрать скважины с наибольшими запасами в регионе, стоит сравнить их с максимальными запасами по этому региону, так как если значения будут близки, надежнее будет выбрать скважены из данного региона из-за меньшего разброса на высоких значениях.</p>\n",
    "\n",
    "<p style='text-align: justify;'>Для безубыточной разработки новой скважины рассчитан достаточный объем сырья. Он получился равным 111.1 тысяч баррелей, ни в одном из регионов по предсказаниям модели нет достаточного среднего запаса сырья.</p>\n",
    "\n",
    "<p style='text-align: justify;'>Полученные результаты могут говорить о том, что при <u>случайном</u> выборе 200 скважин, без использования моделей для предсказания, вероятнее всего объема сырья в данных скважинах будет недостаточно даже для покрытия расходов на разработку этих скважин.</p>\n",
    "\n",
    "<p style='text-align: justify;'>Далее для каждого региона была рассчитана прибыль, риски и 95%-й доверительный интервал с использованием техники <i>Bootstrap</i>. При рассчете учитывались следующие условия:</p>\n",
    "    \n",
    " - При разведке региона исследуют 500 точек, из которых с помощью машинного обучения выбирают 200 лучших для разработки.\n",
    " - Бюджет на разработку скважин в регионе — 10 млрд рублей.\n",
    " - <p style='text-align: justify;'>При нынешних ценах один баррель сырья приносит 450 рублей дохода. Доход с каждой единицы продукта составляет 450 тыс. рублей, поскольку объём указан в тысячах баррелей.</p>\n",
    " - <p style='text-align: justify;'>После оценки рисков нужно оставить лишь те регионы, в которых вероятность убытков меньше 2.5%. Среди них выбирают регион с наибольшей средней прибылью.</p>\n",
    "    \n",
    "<p style='text-align: justify;'>Только у одного региона вероятность убытков получилась менее 2.5%, это регион - <b>geo_1</b>, со значением средней прибыли - 461 мнл.</p>\n",
    "\n",
    "<p style='text-align: justify;'>Таким образом для разработки скважин рекомендуется регион <b>geo_1</b>.</p>"
   ]
  }
 ],
 "metadata": {
  "ExecuteTimeLog": [
   {
    "duration": 63,
    "start_time": "2024-06-18T13:15:52.911Z"
   },
   {
    "duration": 10,
    "start_time": "2024-06-18T13:15:53.198Z"
   },
   {
    "duration": 3,
    "start_time": "2024-06-18T13:16:29.853Z"
   },
   {
    "duration": 1443,
    "start_time": "2024-06-18T13:16:30.197Z"
   },
   {
    "duration": 8,
    "start_time": "2024-06-18T13:16:31.642Z"
   },
   {
    "duration": 4,
    "start_time": "2024-06-18T13:16:32.293Z"
   },
   {
    "duration": 3172,
    "start_time": "2024-06-18T13:16:33.509Z"
   },
   {
    "duration": 75,
    "start_time": "2024-06-18T13:17:11.148Z"
   },
   {
    "duration": 9,
    "start_time": "2024-06-18T13:18:03.922Z"
   },
   {
    "duration": 5,
    "start_time": "2024-06-18T13:27:49.513Z"
   },
   {
    "duration": 78,
    "start_time": "2024-06-18T13:28:02.330Z"
   },
   {
    "duration": 8,
    "start_time": "2024-06-18T13:30:33.217Z"
   },
   {
    "duration": 1270,
    "start_time": "2024-06-18T13:30:33.227Z"
   },
   {
    "duration": 6,
    "start_time": "2024-06-18T13:30:34.498Z"
   },
   {
    "duration": 8,
    "start_time": "2024-06-18T13:30:34.506Z"
   },
   {
    "duration": 6,
    "start_time": "2024-06-18T13:30:34.517Z"
   },
   {
    "duration": 3662,
    "start_time": "2024-06-18T13:30:34.524Z"
   },
   {
    "duration": 89,
    "start_time": "2024-06-18T13:30:38.187Z"
   },
   {
    "duration": 101,
    "start_time": "2024-06-18T13:41:43.714Z"
   },
   {
    "duration": 10,
    "start_time": "2024-06-18T13:41:57.527Z"
   },
   {
    "duration": 71,
    "start_time": "2024-06-18T13:42:07.641Z"
   },
   {
    "duration": 70,
    "start_time": "2024-06-18T13:42:21.936Z"
   },
   {
    "duration": 53,
    "start_time": "2024-06-18T13:42:25.440Z"
   },
   {
    "duration": 11,
    "start_time": "2024-06-18T13:43:07.800Z"
   },
   {
    "duration": 29,
    "start_time": "2024-06-18T13:43:16.870Z"
   },
   {
    "duration": 35,
    "start_time": "2024-06-18T13:43:49.004Z"
   },
   {
    "duration": 32,
    "start_time": "2024-06-18T13:44:07.223Z"
   },
   {
    "duration": 51,
    "start_time": "2024-06-19T05:51:27.394Z"
   },
   {
    "duration": 6,
    "start_time": "2024-06-19T05:51:32.329Z"
   },
   {
    "duration": 1348,
    "start_time": "2024-06-19T05:51:32.337Z"
   },
   {
    "duration": 6,
    "start_time": "2024-06-19T05:51:33.687Z"
   },
   {
    "duration": 10,
    "start_time": "2024-06-19T05:51:33.695Z"
   },
   {
    "duration": 15,
    "start_time": "2024-06-19T05:51:33.707Z"
   },
   {
    "duration": 3084,
    "start_time": "2024-06-19T05:51:33.724Z"
   },
   {
    "duration": 81,
    "start_time": "2024-06-19T05:51:36.810Z"
   },
   {
    "duration": 51,
    "start_time": "2024-06-19T05:51:36.893Z"
   },
   {
    "duration": 82,
    "start_time": "2024-06-19T05:51:36.966Z"
   },
   {
    "duration": 6802,
    "start_time": "2024-06-19T05:51:37.050Z"
   },
   {
    "duration": 20734,
    "start_time": "2024-06-19T05:55:26.102Z"
   },
   {
    "duration": 61,
    "start_time": "2024-06-19T05:55:46.838Z"
   },
   {
    "duration": 5,
    "start_time": "2024-06-19T06:14:42.013Z"
   },
   {
    "duration": 3,
    "start_time": "2024-06-19T06:38:34.238Z"
   },
   {
    "duration": 313,
    "start_time": "2024-06-19T06:39:38.573Z"
   },
   {
    "duration": 152,
    "start_time": "2024-06-19T06:40:22.045Z"
   },
   {
    "duration": 35,
    "start_time": "2024-06-19T06:41:11.473Z"
   },
   {
    "duration": 13,
    "start_time": "2024-06-19T06:41:55.644Z"
   },
   {
    "duration": 12,
    "start_time": "2024-06-19T06:45:14.888Z"
   },
   {
    "duration": 8,
    "start_time": "2024-06-19T06:45:39.570Z"
   },
   {
    "duration": 10,
    "start_time": "2024-06-19T06:45:45.864Z"
   },
   {
    "duration": 17,
    "start_time": "2024-06-19T06:46:50.272Z"
   },
   {
    "duration": 14,
    "start_time": "2024-06-19T06:47:13.695Z"
   },
   {
    "duration": 10,
    "start_time": "2024-06-19T06:47:21.407Z"
   },
   {
    "duration": 9,
    "start_time": "2024-06-19T06:47:33.687Z"
   },
   {
    "duration": 10,
    "start_time": "2024-06-19T06:48:00.406Z"
   },
   {
    "duration": 10,
    "start_time": "2024-06-19T06:48:05.601Z"
   },
   {
    "duration": 8,
    "start_time": "2024-06-19T06:57:18.336Z"
   },
   {
    "duration": 22,
    "start_time": "2024-06-19T06:58:11.061Z"
   },
   {
    "duration": 12,
    "start_time": "2024-06-19T06:58:15.871Z"
   },
   {
    "duration": 15,
    "start_time": "2024-06-19T06:58:21.367Z"
   },
   {
    "duration": 20,
    "start_time": "2024-06-19T06:59:31.694Z"
   },
   {
    "duration": 11,
    "start_time": "2024-06-19T07:04:03.226Z"
   },
   {
    "duration": 11,
    "start_time": "2024-06-19T07:04:29.586Z"
   },
   {
    "duration": 6,
    "start_time": "2024-06-19T07:04:36.514Z"
   },
   {
    "duration": 20137,
    "start_time": "2024-06-19T07:05:13.490Z"
   },
   {
    "duration": 61,
    "start_time": "2024-06-19T07:05:33.629Z"
   },
   {
    "duration": 4,
    "start_time": "2024-06-19T07:05:37.233Z"
   },
   {
    "duration": 3,
    "start_time": "2024-06-19T07:05:37.585Z"
   },
   {
    "duration": 16,
    "start_time": "2024-06-19T07:05:38.177Z"
   },
   {
    "duration": 18,
    "start_time": "2024-06-19T07:05:38.577Z"
   },
   {
    "duration": 11,
    "start_time": "2024-06-19T07:05:39.818Z"
   },
   {
    "duration": 7,
    "start_time": "2024-06-19T07:05:40.985Z"
   },
   {
    "duration": 9,
    "start_time": "2024-06-19T07:05:46.305Z"
   },
   {
    "duration": 22,
    "start_time": "2024-06-19T07:07:41.745Z"
   },
   {
    "duration": 13,
    "start_time": "2024-06-19T07:08:43.271Z"
   },
   {
    "duration": 14,
    "start_time": "2024-06-19T07:13:59.183Z"
   },
   {
    "duration": 9,
    "start_time": "2024-06-19T07:14:07.071Z"
   },
   {
    "duration": 7,
    "start_time": "2024-06-19T07:14:14.887Z"
   },
   {
    "duration": 5,
    "start_time": "2024-06-19T07:14:43.915Z"
   },
   {
    "duration": 7,
    "start_time": "2024-06-19T07:16:04.946Z"
   },
   {
    "duration": 1571,
    "start_time": "2024-06-19T07:16:04.955Z"
   },
   {
    "duration": 7,
    "start_time": "2024-06-19T07:16:06.527Z"
   },
   {
    "duration": 5,
    "start_time": "2024-06-19T07:16:06.536Z"
   },
   {
    "duration": 4,
    "start_time": "2024-06-19T07:16:06.543Z"
   },
   {
    "duration": 4377,
    "start_time": "2024-06-19T07:16:06.548Z"
   },
   {
    "duration": 85,
    "start_time": "2024-06-19T07:16:10.926Z"
   },
   {
    "duration": 59,
    "start_time": "2024-06-19T07:16:11.013Z"
   },
   {
    "duration": 38,
    "start_time": "2024-06-19T07:16:11.074Z"
   },
   {
    "duration": 3,
    "start_time": "2024-06-19T07:16:11.114Z"
   },
   {
    "duration": 76,
    "start_time": "2024-06-19T07:16:11.118Z"
   },
   {
    "duration": 4,
    "start_time": "2024-06-19T07:16:11.196Z"
   },
   {
    "duration": 7,
    "start_time": "2024-06-19T07:16:11.201Z"
   },
   {
    "duration": 16,
    "start_time": "2024-06-19T07:16:11.209Z"
   },
   {
    "duration": 14,
    "start_time": "2024-06-19T07:16:11.226Z"
   },
   {
    "duration": 63,
    "start_time": "2024-06-19T07:16:11.241Z"
   },
   {
    "duration": 168,
    "start_time": "2024-06-19T07:16:11.307Z"
   },
   {
    "duration": 16,
    "start_time": "2024-06-19T07:16:11.476Z"
   },
   {
    "duration": 16,
    "start_time": "2024-06-19T07:16:27.258Z"
   },
   {
    "duration": 1460,
    "start_time": "2024-06-19T07:16:27.279Z"
   },
   {
    "duration": 7,
    "start_time": "2024-06-19T07:16:28.740Z"
   },
   {
    "duration": 10,
    "start_time": "2024-06-19T07:16:28.748Z"
   },
   {
    "duration": 49,
    "start_time": "2024-06-19T07:16:28.760Z"
   },
   {
    "duration": 3319,
    "start_time": "2024-06-19T07:16:28.813Z"
   },
   {
    "duration": 83,
    "start_time": "2024-06-19T07:16:32.134Z"
   },
   {
    "duration": 64,
    "start_time": "2024-06-19T07:16:32.219Z"
   },
   {
    "duration": 46,
    "start_time": "2024-06-19T07:16:32.284Z"
   },
   {
    "duration": 21815,
    "start_time": "2024-06-19T07:16:32.331Z"
   },
   {
    "duration": 55,
    "start_time": "2024-06-19T07:16:54.148Z"
   },
   {
    "duration": 3,
    "start_time": "2024-06-19T07:16:54.205Z"
   },
   {
    "duration": 38,
    "start_time": "2024-06-19T07:16:54.211Z"
   },
   {
    "duration": 51,
    "start_time": "2024-06-19T07:16:54.251Z"
   },
   {
    "duration": 13,
    "start_time": "2024-06-19T07:16:54.304Z"
   },
   {
    "duration": 12,
    "start_time": "2024-06-19T07:16:54.319Z"
   },
   {
    "duration": 42,
    "start_time": "2024-06-19T07:16:54.333Z"
   },
   {
    "duration": 21,
    "start_time": "2024-06-19T07:16:54.377Z"
   },
   {
    "duration": 418,
    "start_time": "2024-06-19T07:37:03.666Z"
   },
   {
    "duration": 433,
    "start_time": "2024-06-19T07:38:00.267Z"
   },
   {
    "duration": 467,
    "start_time": "2024-06-19T07:38:32.937Z"
   },
   {
    "duration": 106,
    "start_time": "2024-06-19T07:38:41.913Z"
   },
   {
    "duration": 96,
    "start_time": "2024-06-19T07:38:44.928Z"
   },
   {
    "duration": 454,
    "start_time": "2024-06-19T07:40:23.935Z"
   },
   {
    "duration": 13,
    "start_time": "2024-06-19T07:45:26.699Z"
   },
   {
    "duration": 5,
    "start_time": "2024-06-19T07:48:23.306Z"
   },
   {
    "duration": 1624,
    "start_time": "2024-06-19T07:49:35.480Z"
   },
   {
    "duration": 90,
    "start_time": "2024-06-19T07:51:51.671Z"
   },
   {
    "duration": 1427,
    "start_time": "2024-06-19T07:52:19.023Z"
   },
   {
    "duration": 8,
    "start_time": "2024-06-19T07:53:18.782Z"
   },
   {
    "duration": 6,
    "start_time": "2024-06-19T07:53:55.421Z"
   },
   {
    "duration": 1528,
    "start_time": "2024-06-19T07:54:02.853Z"
   },
   {
    "duration": 1667,
    "start_time": "2024-06-19T07:54:06.949Z"
   },
   {
    "duration": 1586,
    "start_time": "2024-06-19T07:54:17.069Z"
   },
   {
    "duration": 92,
    "start_time": "2024-06-19T08:01:05.169Z"
   },
   {
    "duration": 1566,
    "start_time": "2024-06-19T08:01:07.744Z"
   },
   {
    "duration": 6,
    "start_time": "2024-06-19T08:01:18.871Z"
   },
   {
    "duration": 1511,
    "start_time": "2024-06-19T08:01:20.983Z"
   },
   {
    "duration": 9,
    "start_time": "2024-06-19T12:15:09.013Z"
   },
   {
    "duration": 21,
    "start_time": "2024-06-19T12:19:56.381Z"
   },
   {
    "duration": 17,
    "start_time": "2024-06-19T12:21:21.828Z"
   },
   {
    "duration": 16,
    "start_time": "2024-06-19T12:25:06.330Z"
   },
   {
    "duration": 4,
    "start_time": "2024-06-19T12:43:09.348Z"
   },
   {
    "duration": 5,
    "start_time": "2024-06-19T12:58:49.112Z"
   },
   {
    "duration": 4,
    "start_time": "2024-06-19T12:59:04.760Z"
   },
   {
    "duration": 4,
    "start_time": "2024-06-19T13:00:19.145Z"
   },
   {
    "duration": 1631,
    "start_time": "2024-06-19T13:01:39.815Z"
   },
   {
    "duration": 1593,
    "start_time": "2024-06-19T13:02:04.830Z"
   },
   {
    "duration": 1711,
    "start_time": "2024-06-19T13:05:58.396Z"
   },
   {
    "duration": 1638,
    "start_time": "2024-06-19T13:06:15.539Z"
   },
   {
    "duration": 46,
    "start_time": "2024-06-21T05:56:57.370Z"
   },
   {
    "duration": 8,
    "start_time": "2024-06-21T05:57:01.996Z"
   },
   {
    "duration": 1640,
    "start_time": "2024-06-21T05:57:02.006Z"
   },
   {
    "duration": 6,
    "start_time": "2024-06-21T05:57:03.648Z"
   },
   {
    "duration": 3,
    "start_time": "2024-06-21T05:57:03.656Z"
   },
   {
    "duration": 5,
    "start_time": "2024-06-21T05:57:03.661Z"
   },
   {
    "duration": 3053,
    "start_time": "2024-06-21T05:57:03.668Z"
   },
   {
    "duration": 62,
    "start_time": "2024-06-21T05:57:06.723Z"
   },
   {
    "duration": 36,
    "start_time": "2024-06-21T05:57:06.787Z"
   },
   {
    "duration": 42,
    "start_time": "2024-06-21T05:57:06.825Z"
   },
   {
    "duration": 19577,
    "start_time": "2024-06-21T05:57:06.868Z"
   },
   {
    "duration": 46,
    "start_time": "2024-06-21T05:57:26.447Z"
   },
   {
    "duration": 4,
    "start_time": "2024-06-21T05:57:26.494Z"
   },
   {
    "duration": 6,
    "start_time": "2024-06-21T05:57:26.499Z"
   },
   {
    "duration": 4,
    "start_time": "2024-06-21T05:57:26.507Z"
   },
   {
    "duration": 1549,
    "start_time": "2024-06-21T05:57:26.512Z"
   },
   {
    "duration": 3,
    "start_time": "2024-06-21T05:57:28.065Z"
   },
   {
    "duration": 3,
    "start_time": "2024-06-21T05:57:28.070Z"
   },
   {
    "duration": 8,
    "start_time": "2024-06-21T05:59:25.494Z"
   },
   {
    "duration": 8,
    "start_time": "2024-06-21T06:00:18.300Z"
   },
   {
    "duration": 7,
    "start_time": "2024-06-21T06:00:26.903Z"
   },
   {
    "duration": 4,
    "start_time": "2024-06-21T06:03:01.190Z"
   },
   {
    "duration": 8,
    "start_time": "2024-06-21T06:03:01.461Z"
   },
   {
    "duration": 4,
    "start_time": "2024-06-21T06:11:26.164Z"
   },
   {
    "duration": 9,
    "start_time": "2024-06-21T06:13:25.972Z"
   },
   {
    "duration": 9,
    "start_time": "2024-06-21T06:13:35.685Z"
   },
   {
    "duration": 8,
    "start_time": "2024-06-21T06:16:49.874Z"
   },
   {
    "duration": 4,
    "start_time": "2024-06-21T06:26:23.435Z"
   },
   {
    "duration": 8,
    "start_time": "2024-06-21T06:26:44.972Z"
   },
   {
    "duration": 3,
    "start_time": "2024-06-21T06:37:25.297Z"
   },
   {
    "duration": 6,
    "start_time": "2024-06-21T06:37:29.842Z"
   },
   {
    "duration": 6,
    "start_time": "2024-06-21T06:58:25.866Z"
   },
   {
    "duration": 8,
    "start_time": "2024-06-21T07:01:37.889Z"
   },
   {
    "duration": 9,
    "start_time": "2024-06-21T07:01:48.468Z"
   },
   {
    "duration": 8,
    "start_time": "2024-06-21T07:03:45.166Z"
   },
   {
    "duration": 8,
    "start_time": "2024-06-21T07:03:51.309Z"
   },
   {
    "duration": 8,
    "start_time": "2024-06-21T07:04:03.645Z"
   },
   {
    "duration": 8,
    "start_time": "2024-06-21T07:04:12.213Z"
   },
   {
    "duration": 7,
    "start_time": "2024-06-21T07:04:33.869Z"
   },
   {
    "duration": 106,
    "start_time": "2024-06-21T07:05:24.789Z"
   },
   {
    "duration": 3,
    "start_time": "2024-06-21T07:05:32.276Z"
   },
   {
    "duration": 8,
    "start_time": "2024-06-21T07:05:58.276Z"
   },
   {
    "duration": 167,
    "start_time": "2024-06-21T07:06:02.276Z"
   },
   {
    "duration": 6,
    "start_time": "2024-06-21T07:06:02.940Z"
   },
   {
    "duration": 1277,
    "start_time": "2024-06-21T07:07:41.731Z"
   },
   {
    "duration": 1543,
    "start_time": "2024-06-21T07:11:25.401Z"
   },
   {
    "duration": 6,
    "start_time": "2024-06-21T07:14:12.309Z"
   },
   {
    "duration": 7,
    "start_time": "2024-06-21T07:14:23.462Z"
   },
   {
    "duration": 5,
    "start_time": "2024-06-21T07:14:30.046Z"
   },
   {
    "duration": 3,
    "start_time": "2024-06-21T07:14:34.558Z"
   },
   {
    "duration": 357,
    "start_time": "2024-06-21T07:14:37.142Z"
   },
   {
    "duration": 13,
    "start_time": "2024-06-21T07:17:05.372Z"
   },
   {
    "duration": 6,
    "start_time": "2024-06-21T07:17:19.803Z"
   },
   {
    "duration": 131,
    "start_time": "2024-06-21T07:17:36.499Z"
   },
   {
    "duration": 4,
    "start_time": "2024-06-21T07:19:20.155Z"
   },
   {
    "duration": 420,
    "start_time": "2024-06-21T07:19:47.963Z"
   },
   {
    "duration": 385,
    "start_time": "2024-06-21T07:38:01.516Z"
   },
   {
    "duration": 5,
    "start_time": "2024-06-21T07:38:21.419Z"
   },
   {
    "duration": 4,
    "start_time": "2024-06-21T07:38:29.891Z"
   },
   {
    "duration": 8,
    "start_time": "2024-06-27T05:36:48.463Z"
   },
   {
    "duration": 1474,
    "start_time": "2024-06-27T05:36:48.473Z"
   },
   {
    "duration": 6,
    "start_time": "2024-06-27T05:36:49.949Z"
   },
   {
    "duration": 18,
    "start_time": "2024-06-27T05:36:49.957Z"
   },
   {
    "duration": 15,
    "start_time": "2024-06-27T05:36:49.976Z"
   },
   {
    "duration": 3598,
    "start_time": "2024-06-27T05:36:49.992Z"
   },
   {
    "duration": 56,
    "start_time": "2024-06-27T05:36:53.591Z"
   },
   {
    "duration": 34,
    "start_time": "2024-06-27T05:36:53.649Z"
   },
   {
    "duration": 41,
    "start_time": "2024-06-27T05:36:53.685Z"
   },
   {
    "duration": 19245,
    "start_time": "2024-06-27T05:36:53.729Z"
   },
   {
    "duration": 41,
    "start_time": "2024-06-27T05:37:12.976Z"
   },
   {
    "duration": 5,
    "start_time": "2024-06-27T05:37:13.018Z"
   },
   {
    "duration": 8,
    "start_time": "2024-06-27T05:37:13.024Z"
   },
   {
    "duration": 3,
    "start_time": "2024-06-27T05:37:13.033Z"
   },
   {
    "duration": 1541,
    "start_time": "2024-06-27T05:37:13.038Z"
   },
   {
    "duration": 3,
    "start_time": "2024-06-27T05:37:14.580Z"
   },
   {
    "duration": 45,
    "start_time": "2024-06-27T05:37:14.584Z"
   },
   {
    "duration": 13,
    "start_time": "2024-06-27T05:37:14.630Z"
   },
   {
    "duration": 7,
    "start_time": "2024-06-27T05:37:14.644Z"
   },
   {
    "duration": 309,
    "start_time": "2024-06-27T05:37:14.653Z"
   },
   {
    "duration": 6,
    "start_time": "2024-06-27T05:44:35.220Z"
   },
   {
    "duration": 295,
    "start_time": "2024-06-27T05:47:15.983Z"
   },
   {
    "duration": 5,
    "start_time": "2024-06-27T05:47:16.337Z"
   },
   {
    "duration": 325,
    "start_time": "2024-06-27T05:47:19.178Z"
   },
   {
    "duration": 5,
    "start_time": "2024-06-27T05:47:19.508Z"
   },
   {
    "duration": 5,
    "start_time": "2024-06-27T05:50:53.094Z"
   },
   {
    "duration": 6,
    "start_time": "2024-06-27T05:51:09.614Z"
   },
   {
    "duration": 5,
    "start_time": "2024-06-27T05:51:22.574Z"
   },
   {
    "duration": 4,
    "start_time": "2024-06-27T05:51:37.871Z"
   },
   {
    "duration": 5,
    "start_time": "2024-06-27T05:51:52.286Z"
   },
   {
    "duration": 6,
    "start_time": "2024-06-27T05:52:14.246Z"
   },
   {
    "duration": 6,
    "start_time": "2024-06-27T05:52:40.469Z"
   },
   {
    "duration": 6,
    "start_time": "2024-06-27T05:53:00.141Z"
   },
   {
    "duration": 5,
    "start_time": "2024-06-27T05:53:34.476Z"
   },
   {
    "duration": 5,
    "start_time": "2024-06-27T05:53:38.380Z"
   },
   {
    "duration": 7,
    "start_time": "2024-06-27T05:55:33.762Z"
   },
   {
    "duration": 9,
    "start_time": "2024-06-27T05:55:56.602Z"
   },
   {
    "duration": 4,
    "start_time": "2024-06-27T05:56:14.722Z"
   },
   {
    "duration": 5,
    "start_time": "2024-06-27T05:56:20.809Z"
   },
   {
    "duration": 5,
    "start_time": "2024-06-27T05:56:27.139Z"
   },
   {
    "duration": 3,
    "start_time": "2024-06-27T05:57:27.257Z"
   },
   {
    "duration": 6,
    "start_time": "2024-06-27T05:57:30.033Z"
   },
   {
    "duration": 5,
    "start_time": "2024-06-27T05:57:49.872Z"
   },
   {
    "duration": 6,
    "start_time": "2024-06-27T05:59:33.911Z"
   },
   {
    "duration": 3,
    "start_time": "2024-06-27T06:00:16.747Z"
   },
   {
    "duration": 6,
    "start_time": "2024-06-27T06:00:18.910Z"
   },
   {
    "duration": 1623,
    "start_time": "2024-06-27T06:07:34.217Z"
   },
   {
    "duration": 4,
    "start_time": "2024-06-27T06:07:35.842Z"
   },
   {
    "duration": 3,
    "start_time": "2024-06-27T06:07:50.825Z"
   },
   {
    "duration": 279,
    "start_time": "2024-06-27T06:07:52.298Z"
   },
   {
    "duration": 5,
    "start_time": "2024-06-27T06:07:53.233Z"
   },
   {
    "duration": 6,
    "start_time": "2024-06-27T06:08:08.768Z"
   },
   {
    "duration": 310,
    "start_time": "2024-06-27T06:08:15.384Z"
   },
   {
    "duration": 5,
    "start_time": "2024-06-27T06:08:15.936Z"
   },
   {
    "duration": 282,
    "start_time": "2024-06-27T06:08:17.912Z"
   },
   {
    "duration": 5,
    "start_time": "2024-06-27T06:08:18.264Z"
   },
   {
    "duration": 292,
    "start_time": "2024-06-27T06:08:19.880Z"
   },
   {
    "duration": 5,
    "start_time": "2024-06-27T06:08:20.240Z"
   },
   {
    "duration": 292,
    "start_time": "2024-06-27T06:08:21.608Z"
   },
   {
    "duration": 5,
    "start_time": "2024-06-27T06:08:21.936Z"
   },
   {
    "duration": 423,
    "start_time": "2024-06-27T06:09:51.711Z"
   },
   {
    "duration": 4,
    "start_time": "2024-06-27T06:09:52.136Z"
   },
   {
    "duration": 293,
    "start_time": "2024-06-27T06:09:58.935Z"
   },
   {
    "duration": 5,
    "start_time": "2024-06-27T06:09:59.311Z"
   },
   {
    "duration": 421,
    "start_time": "2024-06-27T06:12:24.549Z"
   },
   {
    "duration": 6,
    "start_time": "2024-06-27T06:12:25.100Z"
   },
   {
    "duration": 309,
    "start_time": "2024-06-27T06:12:33.774Z"
   },
   {
    "duration": 5,
    "start_time": "2024-06-27T06:12:34.372Z"
   },
   {
    "duration": 284,
    "start_time": "2024-06-27T06:12:36.045Z"
   },
   {
    "duration": 6,
    "start_time": "2024-06-27T06:12:36.380Z"
   },
   {
    "duration": 297,
    "start_time": "2024-06-27T06:12:37.157Z"
   },
   {
    "duration": 6,
    "start_time": "2024-06-27T06:12:37.469Z"
   },
   {
    "duration": 305,
    "start_time": "2024-06-27T06:12:38.133Z"
   },
   {
    "duration": 5,
    "start_time": "2024-06-27T06:12:38.469Z"
   },
   {
    "duration": 296,
    "start_time": "2024-06-27T06:12:39.221Z"
   },
   {
    "duration": 5,
    "start_time": "2024-06-27T06:12:39.519Z"
   },
   {
    "duration": 281,
    "start_time": "2024-06-27T06:12:40.117Z"
   },
   {
    "duration": 5,
    "start_time": "2024-06-27T06:12:40.445Z"
   },
   {
    "duration": 282,
    "start_time": "2024-06-27T06:12:41.141Z"
   },
   {
    "duration": 6,
    "start_time": "2024-06-27T06:12:41.553Z"
   },
   {
    "duration": 276,
    "start_time": "2024-06-27T06:12:44.821Z"
   },
   {
    "duration": 5,
    "start_time": "2024-06-27T06:12:45.341Z"
   },
   {
    "duration": 294,
    "start_time": "2024-06-27T06:12:46.829Z"
   },
   {
    "duration": 6,
    "start_time": "2024-06-27T06:12:47.132Z"
   },
   {
    "duration": 279,
    "start_time": "2024-06-27T06:12:54.101Z"
   },
   {
    "duration": 5,
    "start_time": "2024-06-27T06:12:54.453Z"
   },
   {
    "duration": 342,
    "start_time": "2024-06-27T06:17:13.930Z"
   },
   {
    "duration": 7,
    "start_time": "2024-06-27T06:17:14.529Z"
   },
   {
    "duration": 282,
    "start_time": "2024-06-27T06:17:22.450Z"
   },
   {
    "duration": 6,
    "start_time": "2024-06-27T06:17:22.769Z"
   },
   {
    "duration": 289,
    "start_time": "2024-06-27T06:20:10.711Z"
   },
   {
    "duration": 4,
    "start_time": "2024-06-27T06:20:15.247Z"
   },
   {
    "duration": 414,
    "start_time": "2024-06-27T06:28:57.074Z"
   },
   {
    "duration": 306,
    "start_time": "2024-06-27T06:29:10.498Z"
   },
   {
    "duration": 328,
    "start_time": "2024-06-27T06:29:29.418Z"
   },
   {
    "duration": 15,
    "start_time": "2024-06-27T06:29:34.338Z"
   },
   {
    "duration": 291,
    "start_time": "2024-06-27T06:30:12.409Z"
   },
   {
    "duration": 17,
    "start_time": "2024-06-27T06:30:13.218Z"
   },
   {
    "duration": 292,
    "start_time": "2024-06-27T06:32:54.745Z"
   },
   {
    "duration": 18,
    "start_time": "2024-06-27T06:32:55.184Z"
   },
   {
    "duration": 4,
    "start_time": "2024-06-27T06:33:37.184Z"
   },
   {
    "duration": 288,
    "start_time": "2024-06-27T06:33:47.552Z"
   },
   {
    "duration": 3,
    "start_time": "2024-06-27T06:33:48.040Z"
   },
   {
    "duration": 3,
    "start_time": "2024-06-27T06:33:53.392Z"
   },
   {
    "duration": 285,
    "start_time": "2024-06-27T06:34:14.351Z"
   },
   {
    "duration": 3,
    "start_time": "2024-06-27T06:34:14.944Z"
   },
   {
    "duration": 309,
    "start_time": "2024-06-27T06:34:20.008Z"
   },
   {
    "duration": 3,
    "start_time": "2024-06-27T06:34:20.456Z"
   },
   {
    "duration": 5,
    "start_time": "2024-06-27T06:38:15.333Z"
   },
   {
    "duration": 6,
    "start_time": "2024-06-27T06:38:32.589Z"
   },
   {
    "duration": 5,
    "start_time": "2024-06-27T06:38:44.885Z"
   },
   {
    "duration": 4,
    "start_time": "2024-06-27T06:39:43.644Z"
   },
   {
    "duration": 117,
    "start_time": "2024-06-27T06:41:14.955Z"
   },
   {
    "duration": 200,
    "start_time": "2024-06-27T06:41:24.819Z"
   },
   {
    "duration": 172,
    "start_time": "2024-06-27T06:41:29.547Z"
   },
   {
    "duration": 3,
    "start_time": "2024-06-27T06:42:24.755Z"
   },
   {
    "duration": 295,
    "start_time": "2024-06-27T06:42:48.954Z"
   },
   {
    "duration": 148,
    "start_time": "2024-06-27T06:42:50.298Z"
   },
   {
    "duration": 4,
    "start_time": "2024-06-27T06:42:52.042Z"
   },
   {
    "duration": 315,
    "start_time": "2024-06-27T06:43:00.331Z"
   },
   {
    "duration": 248,
    "start_time": "2024-06-27T06:46:25.336Z"
   },
   {
    "duration": 236,
    "start_time": "2024-06-27T06:46:46.136Z"
   },
   {
    "duration": 268,
    "start_time": "2024-06-27T06:49:29.758Z"
   },
   {
    "duration": 361,
    "start_time": "2024-06-27T06:49:35.702Z"
   },
   {
    "duration": 290,
    "start_time": "2024-06-27T06:49:38.558Z"
   },
   {
    "duration": 291,
    "start_time": "2024-06-27T06:50:16.806Z"
   },
   {
    "duration": 296,
    "start_time": "2024-06-27T06:51:06.597Z"
   },
   {
    "duration": 308,
    "start_time": "2024-06-27T06:51:11.581Z"
   },
   {
    "duration": 54,
    "start_time": "2024-06-27T06:51:41.014Z"
   },
   {
    "duration": 262,
    "start_time": "2024-06-27T06:51:45.557Z"
   },
   {
    "duration": 247,
    "start_time": "2024-06-27T06:52:22.236Z"
   },
   {
    "duration": 340,
    "start_time": "2024-06-27T06:53:23.532Z"
   },
   {
    "duration": 243,
    "start_time": "2024-06-27T06:53:44.731Z"
   },
   {
    "duration": 248,
    "start_time": "2024-06-27T06:53:59.963Z"
   },
   {
    "duration": 226,
    "start_time": "2024-06-27T06:54:14.155Z"
   },
   {
    "duration": 267,
    "start_time": "2024-06-27T06:54:22.507Z"
   },
   {
    "duration": 268,
    "start_time": "2024-06-27T06:54:35.899Z"
   },
   {
    "duration": 264,
    "start_time": "2024-06-27T06:55:07.098Z"
   },
   {
    "duration": 230,
    "start_time": "2024-06-27T06:55:18.842Z"
   },
   {
    "duration": 225,
    "start_time": "2024-06-27T06:58:19.936Z"
   },
   {
    "duration": 3,
    "start_time": "2024-06-27T06:58:26.647Z"
   },
   {
    "duration": 257,
    "start_time": "2024-06-27T06:58:31.592Z"
   },
   {
    "duration": 4,
    "start_time": "2024-06-27T06:58:33.143Z"
   },
   {
    "duration": 207,
    "start_time": "2024-06-27T06:58:54.951Z"
   },
   {
    "duration": 3,
    "start_time": "2024-06-27T06:58:56.064Z"
   },
   {
    "duration": 407,
    "start_time": "2024-06-27T06:59:27.783Z"
   },
   {
    "duration": 1862,
    "start_time": "2024-06-27T07:03:04.730Z"
   },
   {
    "duration": 338,
    "start_time": "2024-06-27T07:03:14.386Z"
   },
   {
    "duration": 289,
    "start_time": "2024-06-27T07:03:19.155Z"
   },
   {
    "duration": 318,
    "start_time": "2024-06-27T07:03:23.786Z"
   },
   {
    "duration": 234,
    "start_time": "2024-06-27T07:04:14.257Z"
   },
   {
    "duration": 359,
    "start_time": "2024-06-27T07:04:22.296Z"
   },
   {
    "duration": 321,
    "start_time": "2024-06-27T07:04:37.673Z"
   },
   {
    "duration": 358,
    "start_time": "2024-06-27T07:05:13.088Z"
   },
   {
    "duration": 308,
    "start_time": "2024-06-27T07:06:07.567Z"
   },
   {
    "duration": 329,
    "start_time": "2024-06-27T07:06:11.575Z"
   },
   {
    "duration": 330,
    "start_time": "2024-06-27T07:06:18.311Z"
   },
   {
    "duration": 349,
    "start_time": "2024-06-27T07:06:28.399Z"
   },
   {
    "duration": 466,
    "start_time": "2024-06-27T07:06:33.879Z"
   },
   {
    "duration": 347,
    "start_time": "2024-06-27T07:06:37.711Z"
   },
   {
    "duration": 329,
    "start_time": "2024-06-27T07:08:14.365Z"
   },
   {
    "duration": 325,
    "start_time": "2024-06-27T07:10:56.755Z"
   },
   {
    "duration": 331,
    "start_time": "2024-06-27T07:11:05.843Z"
   },
   {
    "duration": 351,
    "start_time": "2024-06-27T07:11:19.538Z"
   },
   {
    "duration": 342,
    "start_time": "2024-06-27T07:11:23.642Z"
   },
   {
    "duration": 349,
    "start_time": "2024-06-27T07:12:02.562Z"
   },
   {
    "duration": 632,
    "start_time": "2024-06-27T07:12:26.058Z"
   },
   {
    "duration": 1942,
    "start_time": "2024-06-27T07:14:01.073Z"
   },
   {
    "duration": 1987,
    "start_time": "2024-06-27T07:16:29.966Z"
   },
   {
    "duration": 158,
    "start_time": "2024-06-27T07:18:53.924Z"
   },
   {
    "duration": 1975,
    "start_time": "2024-06-27T07:19:12.667Z"
   },
   {
    "duration": 6,
    "start_time": "2024-06-27T07:19:51.371Z"
   },
   {
    "duration": 2025,
    "start_time": "2024-06-27T07:19:52.978Z"
   },
   {
    "duration": 3,
    "start_time": "2024-06-27T07:21:48.817Z"
   },
   {
    "duration": 1987,
    "start_time": "2024-06-27T07:21:49.905Z"
   },
   {
    "duration": 6,
    "start_time": "2024-06-27T07:24:36.240Z"
   },
   {
    "duration": 1979,
    "start_time": "2024-06-27T07:24:38.791Z"
   },
   {
    "duration": 9,
    "start_time": "2024-06-27T08:12:15.136Z"
   },
   {
    "duration": 1344,
    "start_time": "2024-06-27T08:12:15.148Z"
   },
   {
    "duration": 6,
    "start_time": "2024-06-27T08:12:16.494Z"
   },
   {
    "duration": 13,
    "start_time": "2024-06-27T08:12:16.501Z"
   },
   {
    "duration": 9,
    "start_time": "2024-06-27T08:12:16.515Z"
   },
   {
    "duration": 2872,
    "start_time": "2024-06-27T08:12:16.526Z"
   },
   {
    "duration": 71,
    "start_time": "2024-06-27T08:12:19.399Z"
   },
   {
    "duration": 63,
    "start_time": "2024-06-27T08:12:19.471Z"
   },
   {
    "duration": 25,
    "start_time": "2024-06-27T08:12:19.536Z"
   },
   {
    "duration": 19717,
    "start_time": "2024-06-27T08:12:19.563Z"
   },
   {
    "duration": 45,
    "start_time": "2024-06-27T08:12:39.281Z"
   },
   {
    "duration": 4,
    "start_time": "2024-06-27T08:12:39.327Z"
   },
   {
    "duration": 21,
    "start_time": "2024-06-27T08:12:39.332Z"
   },
   {
    "duration": 13,
    "start_time": "2024-06-27T08:12:39.354Z"
   },
   {
    "duration": 1526,
    "start_time": "2024-06-27T08:12:39.368Z"
   },
   {
    "duration": 14,
    "start_time": "2024-06-27T08:12:40.895Z"
   },
   {
    "duration": 61,
    "start_time": "2024-06-27T08:12:40.911Z"
   },
   {
    "duration": 10,
    "start_time": "2024-06-27T08:12:40.973Z"
   },
   {
    "duration": 16,
    "start_time": "2024-06-27T08:12:40.985Z"
   },
   {
    "duration": 1996,
    "start_time": "2024-06-27T08:12:41.002Z"
   },
   {
    "duration": 4757,
    "start_time": "2024-06-27T10:47:57.785Z"
   },
   {
    "duration": 1677,
    "start_time": "2024-06-27T10:48:34.033Z"
   },
   {
    "duration": 9,
    "start_time": "2024-06-27T10:50:39.960Z"
   },
   {
    "duration": 2766,
    "start_time": "2024-06-27T10:50:39.971Z"
   },
   {
    "duration": 1666,
    "start_time": "2024-06-27T10:50:42.740Z"
   },
   {
    "duration": 6,
    "start_time": "2024-06-27T10:50:44.408Z"
   },
   {
    "duration": 95,
    "start_time": "2024-06-27T10:50:44.417Z"
   },
   {
    "duration": 16,
    "start_time": "2024-06-27T10:50:44.515Z"
   },
   {
    "duration": 3898,
    "start_time": "2024-06-27T10:50:44.533Z"
   },
   {
    "duration": 97,
    "start_time": "2024-06-27T10:50:48.432Z"
   },
   {
    "duration": 64,
    "start_time": "2024-06-27T10:50:48.530Z"
   },
   {
    "duration": 29,
    "start_time": "2024-06-27T10:50:48.595Z"
   },
   {
    "duration": 23272,
    "start_time": "2024-06-27T10:50:48.626Z"
   },
   {
    "duration": 54,
    "start_time": "2024-06-27T10:51:11.899Z"
   },
   {
    "duration": 4900,
    "start_time": "2024-06-27T10:51:11.955Z"
   },
   {
    "duration": 4,
    "start_time": "2024-06-27T10:51:16.858Z"
   },
   {
    "duration": 20,
    "start_time": "2024-06-27T10:51:16.863Z"
   },
   {
    "duration": 32,
    "start_time": "2024-06-27T10:51:16.884Z"
   },
   {
    "duration": 1755,
    "start_time": "2024-06-27T10:51:16.918Z"
   },
   {
    "duration": 3,
    "start_time": "2024-06-27T10:51:18.675Z"
   },
   {
    "duration": 16,
    "start_time": "2024-06-27T10:51:18.682Z"
   },
   {
    "duration": 14,
    "start_time": "2024-06-27T10:51:18.700Z"
   },
   {
    "duration": 6,
    "start_time": "2024-06-27T10:51:18.716Z"
   },
   {
    "duration": 2876,
    "start_time": "2024-06-27T10:51:18.724Z"
   },
   {
    "duration": 6208,
    "start_time": "2024-06-27T10:52:05.897Z"
   },
   {
    "duration": 6306,
    "start_time": "2024-06-27T10:52:45.638Z"
   },
   {
    "duration": 320,
    "start_time": "2024-06-27T10:53:04.917Z"
   },
   {
    "duration": 136,
    "start_time": "2024-06-27T10:54:49.692Z"
   },
   {
    "duration": 100,
    "start_time": "2024-06-27T10:55:55.972Z"
   },
   {
    "duration": 31729,
    "start_time": "2024-06-27T10:57:19.770Z"
   },
   {
    "duration": 474,
    "start_time": "2024-06-27T10:57:51.502Z"
   },
   {
    "duration": 9,
    "start_time": "2024-06-27T10:59:08.762Z"
   },
   {
    "duration": 1478,
    "start_time": "2024-06-27T10:59:08.772Z"
   },
   {
    "duration": 6,
    "start_time": "2024-06-27T10:59:10.251Z"
   },
   {
    "duration": 30,
    "start_time": "2024-06-27T10:59:10.258Z"
   },
   {
    "duration": 5,
    "start_time": "2024-06-27T10:59:10.290Z"
   },
   {
    "duration": 3260,
    "start_time": "2024-06-27T10:59:10.297Z"
   },
   {
    "duration": 72,
    "start_time": "2024-06-27T10:59:13.558Z"
   },
   {
    "duration": 67,
    "start_time": "2024-06-27T10:59:13.632Z"
   },
   {
    "duration": 30,
    "start_time": "2024-06-27T10:59:13.701Z"
   },
   {
    "duration": 23372,
    "start_time": "2024-06-27T10:59:13.733Z"
   },
   {
    "duration": 53,
    "start_time": "2024-06-27T10:59:37.107Z"
   },
   {
    "duration": 20,
    "start_time": "2024-06-27T10:59:37.162Z"
   },
   {
    "duration": 6,
    "start_time": "2024-06-27T10:59:37.184Z"
   },
   {
    "duration": 10,
    "start_time": "2024-06-27T10:59:37.192Z"
   },
   {
    "duration": 1783,
    "start_time": "2024-06-27T10:59:37.204Z"
   },
   {
    "duration": 4,
    "start_time": "2024-06-27T10:59:38.989Z"
   },
   {
    "duration": 36,
    "start_time": "2024-06-27T10:59:38.995Z"
   },
   {
    "duration": 36,
    "start_time": "2024-06-27T10:59:39.033Z"
   },
   {
    "duration": 38,
    "start_time": "2024-06-27T10:59:39.070Z"
   },
   {
    "duration": 2580,
    "start_time": "2024-06-27T10:59:39.110Z"
   },
   {
    "duration": 10,
    "start_time": "2024-06-27T11:00:20.048Z"
   },
   {
    "duration": 130,
    "start_time": "2024-06-27T11:01:33.919Z"
   },
   {
    "duration": 18,
    "start_time": "2024-06-27T11:02:06.471Z"
   },
   {
    "duration": 29,
    "start_time": "2024-06-27T11:02:25.546Z"
   },
   {
    "duration": 14,
    "start_time": "2024-06-27T11:02:40.182Z"
   },
   {
    "duration": 9,
    "start_time": "2024-06-27T11:03:10.345Z"
   },
   {
    "duration": 1558,
    "start_time": "2024-06-27T11:03:10.356Z"
   },
   {
    "duration": 5,
    "start_time": "2024-06-27T11:03:11.916Z"
   },
   {
    "duration": 13,
    "start_time": "2024-06-27T11:03:11.923Z"
   },
   {
    "duration": 29,
    "start_time": "2024-06-27T11:03:11.939Z"
   },
   {
    "duration": 4226,
    "start_time": "2024-06-27T11:03:11.970Z"
   },
   {
    "duration": 70,
    "start_time": "2024-06-27T11:03:16.197Z"
   },
   {
    "duration": 45,
    "start_time": "2024-06-27T11:03:16.282Z"
   },
   {
    "duration": 51,
    "start_time": "2024-06-27T11:03:16.330Z"
   },
   {
    "duration": 23146,
    "start_time": "2024-06-27T11:03:16.383Z"
   },
   {
    "duration": 15,
    "start_time": "2024-06-27T11:03:39.531Z"
   },
   {
    "duration": 73,
    "start_time": "2024-06-27T11:03:39.548Z"
   },
   {
    "duration": 10,
    "start_time": "2024-06-27T11:03:39.623Z"
   },
   {
    "duration": 137,
    "start_time": "2024-06-27T11:03:39.634Z"
   },
   {
    "duration": 0,
    "start_time": "2024-06-27T11:03:39.772Z"
   },
   {
    "duration": 0,
    "start_time": "2024-06-27T11:03:39.773Z"
   },
   {
    "duration": 0,
    "start_time": "2024-06-27T11:03:39.782Z"
   },
   {
    "duration": 0,
    "start_time": "2024-06-27T11:03:39.783Z"
   },
   {
    "duration": 0,
    "start_time": "2024-06-27T11:03:39.785Z"
   },
   {
    "duration": 0,
    "start_time": "2024-06-27T11:03:39.785Z"
   },
   {
    "duration": 0,
    "start_time": "2024-06-27T11:03:39.786Z"
   },
   {
    "duration": 0,
    "start_time": "2024-06-27T11:03:39.788Z"
   },
   {
    "duration": 0,
    "start_time": "2024-06-27T11:03:39.789Z"
   },
   {
    "duration": 9,
    "start_time": "2024-06-27T11:04:50.446Z"
   },
   {
    "duration": 1503,
    "start_time": "2024-06-27T11:04:50.457Z"
   },
   {
    "duration": 6,
    "start_time": "2024-06-27T11:04:51.962Z"
   },
   {
    "duration": 45,
    "start_time": "2024-06-27T11:04:51.970Z"
   },
   {
    "duration": 19,
    "start_time": "2024-06-27T11:04:52.016Z"
   },
   {
    "duration": 3347,
    "start_time": "2024-06-27T11:04:52.037Z"
   },
   {
    "duration": 66,
    "start_time": "2024-06-27T11:04:55.386Z"
   },
   {
    "duration": 69,
    "start_time": "2024-06-27T11:04:55.453Z"
   },
   {
    "duration": 41,
    "start_time": "2024-06-27T11:04:55.524Z"
   },
   {
    "duration": 24580,
    "start_time": "2024-06-27T11:04:55.569Z"
   },
   {
    "duration": 14,
    "start_time": "2024-06-27T11:05:20.151Z"
   },
   {
    "duration": 81,
    "start_time": "2024-06-27T11:05:20.167Z"
   },
   {
    "duration": 6,
    "start_time": "2024-06-27T11:05:20.250Z"
   },
   {
    "duration": 144,
    "start_time": "2024-06-27T11:05:20.257Z"
   },
   {
    "duration": 0,
    "start_time": "2024-06-27T11:05:20.403Z"
   },
   {
    "duration": 0,
    "start_time": "2024-06-27T11:05:20.404Z"
   },
   {
    "duration": 0,
    "start_time": "2024-06-27T11:05:20.405Z"
   },
   {
    "duration": 0,
    "start_time": "2024-06-27T11:05:20.407Z"
   },
   {
    "duration": 0,
    "start_time": "2024-06-27T11:05:20.408Z"
   },
   {
    "duration": 0,
    "start_time": "2024-06-27T11:05:20.409Z"
   },
   {
    "duration": 0,
    "start_time": "2024-06-27T11:05:20.410Z"
   },
   {
    "duration": 0,
    "start_time": "2024-06-27T11:05:20.411Z"
   },
   {
    "duration": 0,
    "start_time": "2024-06-27T11:05:20.412Z"
   },
   {
    "duration": 24,
    "start_time": "2024-06-27T11:05:52.435Z"
   },
   {
    "duration": 396,
    "start_time": "2024-06-27T11:06:18.043Z"
   },
   {
    "duration": 2810,
    "start_time": "2024-06-27T11:14:27.165Z"
   },
   {
    "duration": 95,
    "start_time": "2024-06-27T11:14:43.917Z"
   },
   {
    "duration": 4492,
    "start_time": "2024-06-27T11:15:10.483Z"
   },
   {
    "duration": 309,
    "start_time": "2024-06-27T11:15:22.196Z"
   },
   {
    "duration": 121,
    "start_time": "2024-06-27T11:16:16.634Z"
   },
   {
    "duration": 25,
    "start_time": "2024-06-27T11:16:20.898Z"
   },
   {
    "duration": 199,
    "start_time": "2024-06-27T11:16:23.651Z"
   },
   {
    "duration": 413,
    "start_time": "2024-06-27T11:17:09.771Z"
   },
   {
    "duration": 67,
    "start_time": "2024-06-27T11:17:17.073Z"
   },
   {
    "duration": 101,
    "start_time": "2024-06-27T11:17:18.418Z"
   },
   {
    "duration": 477,
    "start_time": "2024-06-27T11:17:20.698Z"
   },
   {
    "duration": 8,
    "start_time": "2024-06-27T11:23:02.359Z"
   },
   {
    "duration": 3581,
    "start_time": "2024-06-27T11:23:02.370Z"
   },
   {
    "duration": 1931,
    "start_time": "2024-06-27T11:23:05.953Z"
   },
   {
    "duration": 8,
    "start_time": "2024-06-27T11:23:07.886Z"
   },
   {
    "duration": 11,
    "start_time": "2024-06-27T11:23:07.897Z"
   },
   {
    "duration": 9,
    "start_time": "2024-06-27T11:23:07.910Z"
   },
   {
    "duration": 9,
    "start_time": "2024-06-27T11:23:07.921Z"
   },
   {
    "duration": 3629,
    "start_time": "2024-06-27T11:23:07.983Z"
   },
   {
    "duration": 84,
    "start_time": "2024-06-27T11:23:11.614Z"
   },
   {
    "duration": 55,
    "start_time": "2024-06-27T11:23:11.699Z"
   },
   {
    "duration": 72,
    "start_time": "2024-06-27T11:23:11.756Z"
   },
   {
    "duration": 22812,
    "start_time": "2024-06-27T11:23:11.829Z"
   },
   {
    "duration": 13,
    "start_time": "2024-06-27T11:23:34.643Z"
   },
   {
    "duration": 68,
    "start_time": "2024-06-27T11:23:34.659Z"
   },
   {
    "duration": 460,
    "start_time": "2024-06-27T11:23:34.729Z"
   },
   {
    "duration": 5,
    "start_time": "2024-06-27T11:23:35.190Z"
   },
   {
    "duration": 12,
    "start_time": "2024-06-27T11:23:35.196Z"
   },
   {
    "duration": 33,
    "start_time": "2024-06-27T11:23:35.210Z"
   },
   {
    "duration": 1769,
    "start_time": "2024-06-27T11:23:35.244Z"
   },
   {
    "duration": 3,
    "start_time": "2024-06-27T11:23:37.015Z"
   },
   {
    "duration": 9,
    "start_time": "2024-06-27T11:23:37.020Z"
   },
   {
    "duration": 6,
    "start_time": "2024-06-27T11:23:37.031Z"
   },
   {
    "duration": 11,
    "start_time": "2024-06-27T11:23:37.038Z"
   },
   {
    "duration": 2547,
    "start_time": "2024-06-27T11:23:37.051Z"
   },
   {
    "duration": 4,
    "start_time": "2024-06-27T11:33:34.765Z"
   },
   {
    "duration": 4,
    "start_time": "2024-06-27T11:34:09.196Z"
   },
   {
    "duration": 4,
    "start_time": "2024-06-27T11:43:48.913Z"
   },
   {
    "duration": 3,
    "start_time": "2024-06-27T11:43:53.781Z"
   },
   {
    "duration": 8,
    "start_time": "2024-06-27T11:44:00.229Z"
   },
   {
    "duration": 140,
    "start_time": "2024-06-27T11:44:02.981Z"
   },
   {
    "duration": 15,
    "start_time": "2024-06-27T11:45:32.356Z"
   },
   {
    "duration": 8,
    "start_time": "2024-06-27T11:45:49.677Z"
   },
   {
    "duration": 3,
    "start_time": "2024-06-27T11:46:06.396Z"
   },
   {
    "duration": 3940,
    "start_time": "2024-06-27T11:46:21.860Z"
   },
   {
    "duration": 8,
    "start_time": "2024-06-27T12:23:41.275Z"
   },
   {
    "duration": 3621,
    "start_time": "2024-06-27T12:23:43.665Z"
   },
   {
    "duration": 5,
    "start_time": "2024-06-27T12:34:31.953Z"
   },
   {
    "duration": 8,
    "start_time": "2024-06-27T12:50:29.245Z"
   },
   {
    "duration": 1509,
    "start_time": "2024-06-27T12:50:29.254Z"
   },
   {
    "duration": 6,
    "start_time": "2024-06-27T12:50:30.765Z"
   },
   {
    "duration": 174,
    "start_time": "2024-06-27T12:50:30.773Z"
   },
   {
    "duration": 137,
    "start_time": "2024-06-27T12:50:30.950Z"
   },
   {
    "duration": 119,
    "start_time": "2024-06-27T12:50:31.089Z"
   },
   {
    "duration": 3418,
    "start_time": "2024-06-27T12:50:31.209Z"
   },
   {
    "duration": 89,
    "start_time": "2024-06-27T12:50:34.628Z"
   },
   {
    "duration": 70,
    "start_time": "2024-06-27T12:50:34.719Z"
   },
   {
    "duration": 31,
    "start_time": "2024-06-27T12:50:34.791Z"
   },
   {
    "duration": 22583,
    "start_time": "2024-06-27T12:50:34.824Z"
   },
   {
    "duration": 13,
    "start_time": "2024-06-27T12:50:57.408Z"
   },
   {
    "duration": 63,
    "start_time": "2024-06-27T12:50:57.423Z"
   },
   {
    "duration": 442,
    "start_time": "2024-06-27T12:50:57.489Z"
   },
   {
    "duration": 5,
    "start_time": "2024-06-27T12:50:57.932Z"
   },
   {
    "duration": 11,
    "start_time": "2024-06-27T12:50:57.938Z"
   },
   {
    "duration": 8,
    "start_time": "2024-06-27T12:50:57.950Z"
   },
   {
    "duration": 1766,
    "start_time": "2024-06-27T12:50:57.960Z"
   },
   {
    "duration": 4,
    "start_time": "2024-06-27T12:50:59.727Z"
   },
   {
    "duration": 9,
    "start_time": "2024-06-27T12:50:59.733Z"
   },
   {
    "duration": 10,
    "start_time": "2024-06-27T12:50:59.743Z"
   },
   {
    "duration": 7,
    "start_time": "2024-06-27T12:50:59.754Z"
   },
   {
    "duration": 3640,
    "start_time": "2024-06-27T12:50:59.762Z"
   }
  ],
  "kernelspec": {
   "display_name": "Python 3 (ipykernel)",
   "language": "python",
   "name": "python3"
  },
  "language_info": {
   "codemirror_mode": {
    "name": "ipython",
    "version": 3
   },
   "file_extension": ".py",
   "mimetype": "text/x-python",
   "name": "python",
   "nbconvert_exporter": "python",
   "pygments_lexer": "ipython3",
   "version": "3.9.5"
  },
  "toc": {
   "base_numbering": 1,
   "nav_menu": {},
   "number_sections": false,
   "sideBar": true,
   "skip_h1_title": false,
   "title_cell": "Table of Contents",
   "title_sidebar": "Contents",
   "toc_cell": false,
   "toc_position": {
    "height": "calc(100% - 180px)",
    "left": "10px",
    "top": "150px",
    "width": "499.188px"
   },
   "toc_section_display": true,
   "toc_window_display": true
  }
 },
 "nbformat": 4,
 "nbformat_minor": 2
}
